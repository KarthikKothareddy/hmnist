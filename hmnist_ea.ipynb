{
 "cells": [
  {
   "cell_type": "code",
   "execution_count": 1,
   "metadata": {},
   "outputs": [],
   "source": [
    "import cv2\n",
    "import os\n",
    "import numpy as np\n",
    "import pandas as pd\n",
    "import matplotlib.pyplot as plt"
   ]
  },
  {
   "cell_type": "code",
   "execution_count": 2,
   "metadata": {},
   "outputs": [
    {
     "data": {
      "text/html": [
       "<div>\n",
       "<style scoped>\n",
       "    .dataframe tbody tr th:only-of-type {\n",
       "        vertical-align: middle;\n",
       "    }\n",
       "\n",
       "    .dataframe tbody tr th {\n",
       "        vertical-align: top;\n",
       "    }\n",
       "\n",
       "    .dataframe thead th {\n",
       "        text-align: right;\n",
       "    }\n",
       "</style>\n",
       "<table border=\"1\" class=\"dataframe\">\n",
       "  <thead>\n",
       "    <tr style=\"text-align: right;\">\n",
       "      <th></th>\n",
       "      <th>lesion_id</th>\n",
       "      <th>image_id</th>\n",
       "      <th>dx</th>\n",
       "      <th>dx_type</th>\n",
       "      <th>age</th>\n",
       "      <th>sex</th>\n",
       "      <th>localization</th>\n",
       "    </tr>\n",
       "  </thead>\n",
       "  <tbody>\n",
       "    <tr>\n",
       "      <th>count</th>\n",
       "      <td>10015</td>\n",
       "      <td>10015</td>\n",
       "      <td>10015</td>\n",
       "      <td>10015</td>\n",
       "      <td>9958.000000</td>\n",
       "      <td>10015</td>\n",
       "      <td>10015</td>\n",
       "    </tr>\n",
       "    <tr>\n",
       "      <th>unique</th>\n",
       "      <td>7470</td>\n",
       "      <td>10015</td>\n",
       "      <td>7</td>\n",
       "      <td>4</td>\n",
       "      <td>NaN</td>\n",
       "      <td>3</td>\n",
       "      <td>15</td>\n",
       "    </tr>\n",
       "    <tr>\n",
       "      <th>top</th>\n",
       "      <td>HAM_0000835</td>\n",
       "      <td>ISIC_0028285</td>\n",
       "      <td>nv</td>\n",
       "      <td>histo</td>\n",
       "      <td>NaN</td>\n",
       "      <td>male</td>\n",
       "      <td>back</td>\n",
       "    </tr>\n",
       "    <tr>\n",
       "      <th>freq</th>\n",
       "      <td>6</td>\n",
       "      <td>1</td>\n",
       "      <td>6705</td>\n",
       "      <td>5340</td>\n",
       "      <td>NaN</td>\n",
       "      <td>5406</td>\n",
       "      <td>2192</td>\n",
       "    </tr>\n",
       "    <tr>\n",
       "      <th>mean</th>\n",
       "      <td>NaN</td>\n",
       "      <td>NaN</td>\n",
       "      <td>NaN</td>\n",
       "      <td>NaN</td>\n",
       "      <td>51.863828</td>\n",
       "      <td>NaN</td>\n",
       "      <td>NaN</td>\n",
       "    </tr>\n",
       "    <tr>\n",
       "      <th>std</th>\n",
       "      <td>NaN</td>\n",
       "      <td>NaN</td>\n",
       "      <td>NaN</td>\n",
       "      <td>NaN</td>\n",
       "      <td>16.968614</td>\n",
       "      <td>NaN</td>\n",
       "      <td>NaN</td>\n",
       "    </tr>\n",
       "    <tr>\n",
       "      <th>min</th>\n",
       "      <td>NaN</td>\n",
       "      <td>NaN</td>\n",
       "      <td>NaN</td>\n",
       "      <td>NaN</td>\n",
       "      <td>0.000000</td>\n",
       "      <td>NaN</td>\n",
       "      <td>NaN</td>\n",
       "    </tr>\n",
       "    <tr>\n",
       "      <th>25%</th>\n",
       "      <td>NaN</td>\n",
       "      <td>NaN</td>\n",
       "      <td>NaN</td>\n",
       "      <td>NaN</td>\n",
       "      <td>40.000000</td>\n",
       "      <td>NaN</td>\n",
       "      <td>NaN</td>\n",
       "    </tr>\n",
       "    <tr>\n",
       "      <th>50%</th>\n",
       "      <td>NaN</td>\n",
       "      <td>NaN</td>\n",
       "      <td>NaN</td>\n",
       "      <td>NaN</td>\n",
       "      <td>50.000000</td>\n",
       "      <td>NaN</td>\n",
       "      <td>NaN</td>\n",
       "    </tr>\n",
       "    <tr>\n",
       "      <th>75%</th>\n",
       "      <td>NaN</td>\n",
       "      <td>NaN</td>\n",
       "      <td>NaN</td>\n",
       "      <td>NaN</td>\n",
       "      <td>65.000000</td>\n",
       "      <td>NaN</td>\n",
       "      <td>NaN</td>\n",
       "    </tr>\n",
       "    <tr>\n",
       "      <th>max</th>\n",
       "      <td>NaN</td>\n",
       "      <td>NaN</td>\n",
       "      <td>NaN</td>\n",
       "      <td>NaN</td>\n",
       "      <td>85.000000</td>\n",
       "      <td>NaN</td>\n",
       "      <td>NaN</td>\n",
       "    </tr>\n",
       "  </tbody>\n",
       "</table>\n",
       "</div>"
      ],
      "text/plain": [
       "          lesion_id      image_id     dx dx_type          age    sex  \\\n",
       "count         10015         10015  10015   10015  9958.000000  10015   \n",
       "unique         7470         10015      7       4          NaN      3   \n",
       "top     HAM_0000835  ISIC_0028285     nv   histo          NaN   male   \n",
       "freq              6             1   6705    5340          NaN   5406   \n",
       "mean            NaN           NaN    NaN     NaN    51.863828    NaN   \n",
       "std             NaN           NaN    NaN     NaN    16.968614    NaN   \n",
       "min             NaN           NaN    NaN     NaN     0.000000    NaN   \n",
       "25%             NaN           NaN    NaN     NaN    40.000000    NaN   \n",
       "50%             NaN           NaN    NaN     NaN    50.000000    NaN   \n",
       "75%             NaN           NaN    NaN     NaN    65.000000    NaN   \n",
       "max             NaN           NaN    NaN     NaN    85.000000    NaN   \n",
       "\n",
       "       localization  \n",
       "count         10015  \n",
       "unique           15  \n",
       "top            back  \n",
       "freq           2192  \n",
       "mean            NaN  \n",
       "std             NaN  \n",
       "min             NaN  \n",
       "25%             NaN  \n",
       "50%             NaN  \n",
       "75%             NaN  \n",
       "max             NaN  "
      ]
     },
     "execution_count": 2,
     "metadata": {},
     "output_type": "execute_result"
    }
   ],
   "source": [
    "metadata = pd.read_csv(\"../HAM10000_metadata.csv\")\n",
    "metadata.describe(include=\"all\")"
   ]
  },
  {
   "cell_type": "code",
   "execution_count": 13,
   "metadata": {},
   "outputs": [
    {
     "name": "stdout",
     "output_type": "stream",
     "text": [
      "     lesion_id      image_id   dx dx_type   age   sex localization\n",
      "0  HAM_0000118  ISIC_0027419  bkl   histo  80.0  male        scalp\n",
      "1  HAM_0000118  ISIC_0025030  bkl   histo  80.0  male        scalp\n",
      "2  HAM_0002730  ISIC_0026769  bkl   histo  80.0  male        scalp\n",
      "3  HAM_0002730  ISIC_0025661  bkl   histo  80.0  male        scalp\n",
      "4  HAM_0001466  ISIC_0031633  bkl   histo  75.0  male          ear\n"
     ]
    }
   ],
   "source": [
    "print(metadata.head(5))"
   ]
  },
  {
   "cell_type": "code",
   "execution_count": 14,
   "metadata": {},
   "outputs": [
    {
     "name": "stdout",
     "output_type": "stream",
     "text": [
      "['bkl', 'nv', 'df', 'mel', 'vasc', 'bcc', 'akiec']\n"
     ]
    }
   ],
   "source": [
    "labels = list(metadata.dx.unique())\n",
    "print(labels)"
   ]
  },
  {
   "cell_type": "code",
   "execution_count": 15,
   "metadata": {},
   "outputs": [
    {
     "name": "stdout",
     "output_type": "stream",
     "text": [
      "nv       6705\n",
      "mel      1113\n",
      "bkl      1099\n",
      "bcc       514\n",
      "akiec     327\n",
      "vasc      142\n",
      "df        115\n",
      "Name: dx, dtype: int64\n"
     ]
    },
    {
     "data": {
      "text/plain": [
       "<matplotlib.axes._subplots.AxesSubplot at 0x7fed10fc8198>"
      ]
     },
     "execution_count": 15,
     "metadata": {},
     "output_type": "execute_result"
    },
    {
     "data": {
      "image/png": "[encoded data removed]",
      "text/plain": [
       "<Figure size 720x360 with 1 Axes>"
      ]
     },
     "metadata": {},
     "output_type": "display_data"
    }
   ],
   "source": [
    "fig, ax1 = plt.subplots(1, 1, figsize = (10, 5))\n",
    "counts = metadata[\"dx\"].value_counts()\n",
    "print(counts)\n",
    "counts.plot(kind='bar', ax=ax1)\n",
    "#metadata[\"dx\"].hist()"
   ]
  },
  {
   "cell_type": "code",
   "execution_count": 16,
   "metadata": {},
   "outputs": [],
   "source": [
    "# parse out all classes to individual dataframes\n",
    "nv = metadata[metadata[\"dx\"] == \"nv\"]\n",
    "nv.name = \"nv\"\n",
    "mel = metadata[metadata[\"dx\"] == \"mel\"]\n",
    "mel.name = \"mel\"\n",
    "bkl = metadata[metadata[\"dx\"] == \"bkl\"]\n",
    "bkl.name = \"bkl\"\n",
    "bcc = metadata[metadata[\"dx\"] == \"bcc\"]\n",
    "bcc.name = \"bcc\"\n",
    "akiec = metadata[metadata[\"dx\"] == \"akiec\"]\n",
    "akiec.name = \"akiec\"\n",
    "vasc = metadata[metadata[\"dx\"] == \"vasc\"]\n",
    "vasc.name = \"vasc\"\n",
    "df = metadata[metadata[\"dx\"] == \"df\"]\n",
    "df.name = \"df\"\n",
    "# list out\n",
    "classes = [nv, mel, bkl, bcc, akiec, vasc, df]"
   ]
  },
  {
   "cell_type": "code",
   "execution_count": 17,
   "metadata": {},
   "outputs": [],
   "source": [
    "# preprocess accordingly\n",
    "def preprocess(_image):\n",
    "    #_image = cv2.cvtColor(_image, cv2.COLOR_BGR2RGB)\n",
    "    \n",
    "    #_image = cv2.equalizeHist(_image) \n",
    "    #_image = cv2.GaussianBlur(_image, (3,3), 1)\n",
    "    _image = cv2.cvtColor(_image, cv2.COLOR_RGB2HSV)\n",
    "    H,S,V = cv2.split(_image)\n",
    "    _V = cv2.equalizeHist(V) \n",
    "    _image = cv2.merge([H, S, _V])\n",
    "    _image = cv2.cvtColor(_image, cv2.COLOR_HSV2RGB)\n",
    "    \n",
    "    return _image"
   ]
  },
  {
   "cell_type": "markdown",
   "metadata": {},
   "source": [
    "## Seperate into Respective Folders"
   ]
  },
  {
   "cell_type": "code",
   "execution_count": 18,
   "metadata": {},
   "outputs": [
    {
     "name": "stdout",
     "output_type": "stream",
     "text": [
      "Training: 5364, Test: 1341 images found for class nv\n",
      "Moving complete for class nv...\n",
      "Training: 890, Test: 223 images found for class mel\n",
      "Moving complete for class mel...\n",
      "Training: 879, Test: 220 images found for class bkl\n",
      "Moving complete for class bkl...\n",
      "Training: 411, Test: 103 images found for class bcc\n",
      "Moving complete for class bcc...\n",
      "Training: 261, Test: 66 images found for class akiec\n",
      "Moving complete for class akiec...\n",
      "Training: 113, Test: 29 images found for class vasc\n",
      "Moving complete for class vasc...\n",
      "Training: 92, Test: 23 images found for class df\n",
      "Moving complete for class df...\n"
     ]
    }
   ],
   "source": [
    "import shutil\n",
    "from sklearn.model_selection import train_test_split\n",
    "\n",
    "# seperate images to each directory \n",
    "os.mkdir(\"ham_labled\")\n",
    "os.mkdir(\"ham_labled/train\")\n",
    "os.mkdir(\"ham_labled/test\")\n",
    "\n",
    "# each class\n",
    "for _class in classes:\n",
    "    _train, _test = train_test_split(_class, test_size = 0.2)\n",
    "    print(\"Training: {}, Test: {} images found for class {}\".format(len(_train), len(_test), _class.name))\n",
    "    # train \n",
    "    os.mkdir(\"ham_labled/train/{}\".format(_class.name))\n",
    "    for i, row in _train.iterrows():\n",
    "        image_id = row[\"image_id\"]\n",
    "        img = cv2.imread(\"../ham10000/{}.jpg\".format(image_id))\n",
    "        img = cv2.resize(img, (224, 224))\n",
    "        cv2.imwrite(\"../ham10000/{}.jpg\".format(image_id), img)\n",
    "        shutil.move(\n",
    "            src=\"../ham10000/{}.jpg\".format(image_id), \n",
    "            dst=\"ham_labled/train/{}/\".format(_class.name)\n",
    "        )\n",
    "    # test\n",
    "    os.mkdir(\"ham_labled/test/{}\".format(_class.name))\n",
    "    for i, row in _test.iterrows():\n",
    "        image_id = row[\"image_id\"]\n",
    "        img = cv2.imread(\"../ham10000/{}.jpg\".format(image_id))\n",
    "        img = cv2.resize(img, (224, 224))\n",
    "        cv2.imwrite(\"../ham10000/{}.jpg\".format(image_id), img)\n",
    "        shutil.move(\n",
    "            src=\"../ham10000/{}.jpg\".format(image_id), \n",
    "            dst=\"ham_labled/test/{}/\".format(_class.name)\n",
    "        )\n",
    "    print(\"Moving complete for class {}...\".format(_class.name))"
   ]
  },
  {
   "cell_type": "markdown",
   "metadata": {},
   "source": [
    "## Image Augumentation\n",
    "\n",
    "Before we can start passing above images through a CNN feature extractor, we will augument images to address class imbalance problem and set a threshold of 5000 images per class."
   ]
  },
  {
   "cell_type": "code",
   "execution_count": 19,
   "metadata": {},
   "outputs": [
    {
     "name": "stderr",
     "output_type": "stream",
     "text": [
      "Using TensorFlow backend.\n"
     ]
    }
   ],
   "source": [
    "from keras.preprocessing.image import ImageDataGenerator\n",
    "\n",
    "_generator = ImageDataGenerator(\n",
    "    width_shift_range=0.001,\n",
    "    height_shift_range=0.001,\n",
    "    zoom_range=0.01,\n",
    "    horizontal_flip=True,\n",
    "    vertical_flip=True,\n",
    "    rotation_range=0.99\n",
    ")"
   ]
  },
  {
   "cell_type": "code",
   "execution_count": 20,
   "metadata": {},
   "outputs": [],
   "source": [
    "from keras.preprocessing.image import img_to_array\n",
    "\n",
    "def load_images(directory):\n",
    "    images = [cv2.cvtColor(cv2.imread(os.path.join(directory, file)), cv2.COLOR_BGR2RGB)\n",
    "              for file in os.listdir(directory)]\n",
    "    images = [img_to_array(image, data_format=\"channels_last\") for image in images]\n",
    "    images = np.array(images)\n",
    "    images = images.astype(\"float\")\n",
    "    return images\n",
    "    "
   ]
  },
  {
   "cell_type": "code",
   "execution_count": 21,
   "metadata": {},
   "outputs": [
    {
     "name": "stdout",
     "output_type": "stream",
     "text": [
      "Augumenting images for class mel...\n",
      "Augumenting images for class bkl...\n",
      "Augumenting images for class bcc...\n",
      "Augumenting images for class akiec...\n",
      "Augumenting images for class vasc...\n",
      "Augumenting images for class df...\n"
     ]
    }
   ],
   "source": [
    "threshold = 3000\n",
    "batch = 32\n",
    "for _class in classes:\n",
    "    _name = _class.name\n",
    "    if len(_class) >= threshold:\n",
    "        continue\n",
    "    else:\n",
    "        # what a pain ....PHEW!\n",
    "        if os.path.exists(\"ham_labled/train/{}/.ipynb_checkpoints/\".format(_name)):\n",
    "            shutil.rmtree(\"ham_labled/train/{}/.ipynb_checkpoints/\".format(_name))\n",
    "        print(\"Augumenting images for class {}...\".format(_name))\n",
    "        X = load_images(\"ham_labled/train/{}/\".format(_name))\n",
    "        _auguments = _generator.flow(\n",
    "            x=X,\n",
    "            y=None,\n",
    "            batch_size=batch,\n",
    "            save_format=\"jpg\",\n",
    "            save_prefix=\"augumented\",\n",
    "            save_to_dir=\"ham_labled/train/{}/\".format(_name)\n",
    "        )\n",
    "        for _ in range(int(np.ceil((threshold - X.shape[0])/batch))):\n",
    "            x = next(_auguments)"
   ]
  },
  {
   "cell_type": "markdown",
   "metadata": {},
   "source": [
    "## Read the newly generated Images and process them accordingly"
   ]
  },
  {
   "cell_type": "code",
   "execution_count": 3,
   "metadata": {},
   "outputs": [
    {
     "name": "stdout",
     "output_type": "stream",
     "text": [
      "Collecting imutils\n",
      "  Downloading https://files.pythonhosted.org/packages/5e/0c/659c2bdae8e8ca5ef810b9da02db28feaa29ea448ff36b65a1664ff28142/imutils-0.5.2.tar.gz\n",
      "Building wheels for collected packages: imutils\n",
      "  Running setup.py bdist_wheel for imutils ... \u001b[?25ldone\n",
      "\u001b[?25h  Stored in directory: /root/.cache/pip/wheels/b2/40/59/139d450e68847ef2f27d876d527b13389dac23df0f66526b5d\n",
      "Successfully built imutils\n",
      "\u001b[31mmenpo 0.8.1 has requirement matplotlib<2.0,>=1.4, but you'll have matplotlib 3.0.2 which is incompatible.\u001b[0m\n",
      "\u001b[31mmenpo 0.8.1 has requirement pillow<5.0,>=3.0, but you'll have pillow 5.4.0 which is incompatible.\u001b[0m\n",
      "\u001b[31mmenpo 0.8.1 has requirement scipy<1.0,>=0.16, but you'll have scipy 1.2.0 which is incompatible.\u001b[0m\n",
      "Installing collected packages: imutils\n",
      "Successfully installed imutils-0.5.2\n",
      "\u001b[33mYou are using pip version 10.0.1, however version 19.2.2 is available.\n",
      "You should consider upgrading via the 'pip install --upgrade pip' command.\u001b[0m\n",
      "22658 total images found...\n"
     ]
    }
   ],
   "source": [
    "try:\n",
    "    from imutils import paths\n",
    "except ModuleNotFoundError:\n",
    "    !pip install imutils\n",
    "    from imutils import paths\n",
    "import random\n",
    "from sklearn.preprocessing import LabelEncoder\n",
    "\n",
    "image_paths = list(paths.list_images(\"ham_labled/train\"))\n",
    "random.shuffle(image_paths)\n",
    "\n",
    "labels = [cls.split(os.path.sep)[-2] for cls in image_paths]\n",
    "le = LabelEncoder()\n",
    "labels = le.fit_transform(labels)\n",
    "\n",
    "print(\"{} total images found...\".format(len(image_paths)))\n"
   ]
  },
  {
   "cell_type": "markdown",
   "metadata": {},
   "source": [
    "## Model"
   ]
  },
  {
   "cell_type": "code",
   "execution_count": 4,
   "metadata": {},
   "outputs": [
    {
     "name": "stderr",
     "output_type": "stream",
     "text": [
      "Using TensorFlow backend.\n"
     ]
    }
   ],
   "source": [
    "import tensorflow as tf\n",
    "from keras import backend as K\n",
    "from keras import callbacks\n",
    "from keras.models import Sequential, Model\n",
    "from keras.layers.normalization import BatchNormalization\n",
    "from keras.layers.convolutional import Conv2D, MaxPooling2D\n",
    "from keras.layers.core import Activation, Flatten, Dropout, Dense\n",
    "from keras.preprocessing.image import ImageDataGenerator\n",
    "from keras.optimizers import Adam"
   ]
  },
  {
   "cell_type": "code",
   "execution_count": 5,
   "metadata": {},
   "outputs": [],
   "source": [
    "class CustomNet(object):\n",
    "\n",
    "    def __init__(self, height, width, channels, classes, parameter_scaling):\n",
    "        self.height = height\n",
    "        self.width = width\n",
    "        self.channels = channels\n",
    "        self.output_classes = classes\n",
    "        self.scale = parameter_scaling\n",
    "\n",
    "    def model(self):\n",
    "        # initiate model\n",
    "        _model = Sequential()\n",
    "        input_shape = (self.height, self.width, self.channels)\n",
    "        axis = -1\n",
    "        # if using theano\n",
    "        if K.image_data_format() == \"channels_first\":\n",
    "            input_shape = (self.channels, self.height, self.width)\n",
    "            axis = 1\n",
    "\n",
    "        # conv_1\n",
    "        _model.add(Conv2D(\n",
    "            self.scale, (3, 3),\n",
    "            padding=\"same\",\n",
    "            input_shape=input_shape)\n",
    "        )\n",
    "        _model.add(Activation(\"relu\"))\n",
    "        _model.add(BatchNormalization(axis=axis))\n",
    "        # conv_2\n",
    "        _model.add(Conv2D(self.scale, (3, 3), padding=\"same\"))\n",
    "        _model.add(Activation(\"relu\"))\n",
    "        _model.add(BatchNormalization(axis=axis))\n",
    "        # pool_1\n",
    "        _model.add(MaxPooling2D(pool_size=(2, 2)))\n",
    "        _model.add(Dropout(0.25))\n",
    "\n",
    "        # conv_3\n",
    "        _model.add(Conv2D(self.scale*2, (3, 3), padding=\"same\"))\n",
    "        _model.add(Activation(\"relu\"))\n",
    "        _model.add(BatchNormalization(axis=axis))\n",
    "        # conv_4\n",
    "        _model.add(Conv2D(self.scale*2, (3, 3), padding=\"same\"))\n",
    "        _model.add(Activation(\"relu\"))\n",
    "        _model.add(BatchNormalization(axis=axis))\n",
    "        # pool_2\n",
    "        _model.add(MaxPooling2D(pool_size=(2, 2)))\n",
    "        _model.add(Dropout(0.25))\n",
    "        \"\"\"\n",
    "        # conv_5\n",
    "        _model.add(Conv2D(self.scale*3, (3, 3), padding=\"same\"))\n",
    "        _model.add(Activation(\"relu\"))\n",
    "        _model.add(BatchNormalization(axis=axis))\n",
    "        # conv_6\n",
    "        _model.add(Conv2D(self.scale*3, (3, 3), padding=\"same\"))\n",
    "        _model.add(Activation(\"relu\"))\n",
    "        _model.add(BatchNormalization(axis=axis))\n",
    "        # conv_7\n",
    "        _model.add(Conv2D(self.scale*3, (3, 3), padding=\"same\"))\n",
    "        _model.add(Activation(\"relu\"))\n",
    "        _model.add(BatchNormalization(axis=axis))\n",
    "        # pool_3\n",
    "        _model.add(MaxPooling2D(pool_size=(2, 2)))\n",
    "        _model.add(Dropout(0.25))\n",
    "        \"\"\"\n",
    "\n",
    "        # Fully connected layers\n",
    "        _model.add(Flatten())\n",
    "        _model.add(Dense(512))\n",
    "        _model.add(Activation(\"relu\"))\n",
    "        _model.add(BatchNormalization())\n",
    "        _model.add(Dropout(0.5))\n",
    "        # classifier\n",
    "        _model.add(Dense(self.output_classes))\n",
    "        _model.add(Activation(\"softmax\"))\n",
    "\n",
    "        # return model\n",
    "        return _model"
   ]
  },
  {
   "cell_type": "code",
   "execution_count": 8,
   "metadata": {},
   "outputs": [],
   "source": [
    "import multiprocessing\n",
    "manager = multiprocessing.Manager()\n",
    "queue = manager.Queue(maxsize=10)\n",
    "\n",
    "BATCH_SIZE = 64\n",
    "LR = 0.001\n",
    "EPOCHS = 50\n",
    "PARAMETER_SCALING = 32\n",
    "IM_WIDTH = 224\n",
    "IM_HEIGHT = 224\n",
    "\n",
    "def train():\n",
    "    \n",
    "        h_callbacks = [\n",
    "            callbacks.TensorBoard(\n",
    "                log_dir=\"tensorboard\",\n",
    "                write_graph=True,\n",
    "                write_images=False\n",
    "            )\n",
    "        ]\n",
    "        _model = CustomNet(\n",
    "            height=IM_HEIGHT,\n",
    "            width=IM_WIDTH,\n",
    "            channels=3,\n",
    "            classes=7,\n",
    "            parameter_scaling=PARAMETER_SCALING\n",
    "        ).model()\n",
    "        _model.compile(\n",
    "            loss=\"categorical_crossentropy\",\n",
    "            optimizer=Adam(lr=LR),\n",
    "            metrics=[\"accuracy\"]\n",
    "        )\n",
    "        \n",
    "        # generators made according to the post\n",
    "        # https://github.com/keras-team/keras/issues/5862\n",
    "        data_generator = ImageDataGenerator(\n",
    "            rescale=1./255,\n",
    "            validation_split=0.2\n",
    "        )\n",
    "        train_generator = data_generator.flow_from_directory(\n",
    "            directory=\"ham_labled/train\",\n",
    "            target_size=(IM_WIDTH, IM_HEIGHT),\n",
    "            shuffle=True,\n",
    "            color_mode=\"rgb\",\n",
    "            class_mode=\"categorical\",\n",
    "            batch_size=BATCH_SIZE,\n",
    "            subset=\"training\"\n",
    "        )\n",
    "        valid_generator = data_generator.flow_from_directory(\n",
    "            directory=\"ham_labled/train\",\n",
    "            target_size=(IM_WIDTH, IM_HEIGHT),\n",
    "            shuffle=True,\n",
    "            color_mode=\"rgb\",\n",
    "            class_mode=\"categorical\",\n",
    "            batch_size=BATCH_SIZE,\n",
    "            subset=\"validation\"\n",
    "        )\n",
    "        # train\n",
    "        history = _model.fit_generator(\n",
    "            generator=train_generator,\n",
    "            steps_per_epoch=train_generator.n//train_generator.batch_size,\n",
    "            validation_data=valid_generator,\n",
    "            validation_steps=valid_generator.n//valid_generator.batch_size,\n",
    "            callbacks=h_callbacks,\n",
    "            epochs=EPOCHS\n",
    "        )\n",
    "        return _model, history"
   ]
  },
  {
   "cell_type": "code",
   "execution_count": null,
   "metadata": {},
   "outputs": [
    {
     "name": "stdout",
     "output_type": "stream",
     "text": [
      "Found 18130 images belonging to 7 classes.\n",
      "Found 4528 images belonging to 7 classes.\n",
      "Epoch 1/50\n",
      "283/283 [==============================] - 214s 757ms/step - loss: 1.3767 - acc: 0.5464 - val_loss: 10.9307 - val_acc: 0.2594\n",
      "Epoch 2/50\n",
      "283/283 [==============================] - 212s 749ms/step - loss: 0.7611 - acc: 0.7248 - val_loss: 1.9807 - val_acc: 0.3761\n",
      "Epoch 3/50\n",
      "283/283 [==============================] - 212s 751ms/step - loss: 0.4881 - acc: 0.8244 - val_loss: 2.8059 - val_acc: 0.4890\n",
      "Epoch 4/50\n",
      "283/283 [==============================] - 212s 751ms/step - loss: 0.3425 - acc: 0.8817 - val_loss: 2.0362 - val_acc: 0.4433\n",
      "Epoch 5/50\n",
      "283/283 [==============================] - 212s 750ms/step - loss: 0.2416 - acc: 0.9152 - val_loss: 2.1703 - val_acc: 0.4879\n",
      "Epoch 6/50\n",
      "283/283 [==============================] - 212s 750ms/step - loss: 0.1810 - acc: 0.9395 - val_loss: 2.9050 - val_acc: 0.4189\n",
      "Epoch 7/50\n",
      "283/283 [==============================] - 212s 750ms/step - loss: 0.1321 - acc: 0.9541 - val_loss: 3.0881 - val_acc: 0.4250\n",
      "Epoch 8/50\n",
      "283/283 [==============================] - 212s 750ms/step - loss: 0.2208 - acc: 0.9243 - val_loss: 4.5668 - val_acc: 0.3575\n",
      "Epoch 9/50\n",
      "283/283 [==============================] - 212s 750ms/step - loss: 0.1354 - acc: 0.9539 - val_loss: 3.1494 - val_acc: 0.4447\n",
      "Epoch 10/50\n",
      "283/283 [==============================] - 212s 750ms/step - loss: 0.0687 - acc: 0.9775 - val_loss: 2.3736 - val_acc: 0.4711\n",
      "Epoch 11/50\n",
      "283/283 [==============================] - 212s 749ms/step - loss: 0.0538 - acc: 0.9827 - val_loss: 2.5256 - val_acc: 0.5347\n",
      "Epoch 12/50\n",
      "283/283 [==============================] - 212s 750ms/step - loss: 0.0383 - acc: 0.9875 - val_loss: 3.2675 - val_acc: 0.4689\n",
      "Epoch 13/50\n",
      "283/283 [==============================] - 212s 750ms/step - loss: 0.0328 - acc: 0.9900 - val_loss: 2.4222 - val_acc: 0.5605\n",
      "Epoch 14/50\n",
      "283/283 [==============================] - 212s 749ms/step - loss: 0.0387 - acc: 0.9881 - val_loss: 2.6131 - val_acc: 0.5388\n",
      "Epoch 15/50\n",
      "283/283 [==============================] - 212s 750ms/step - loss: 0.0257 - acc: 0.9923 - val_loss: 4.0743 - val_acc: 0.4404\n",
      "Epoch 16/50\n",
      "283/283 [==============================] - 212s 750ms/step - loss: 0.0407 - acc: 0.9856 - val_loss: 3.4162 - val_acc: 0.4733\n",
      "Epoch 17/50\n",
      "283/283 [==============================] - 212s 750ms/step - loss: 0.0321 - acc: 0.9895 - val_loss: 3.6422 - val_acc: 0.4619\n",
      "Epoch 18/50\n",
      "283/283 [==============================] - 212s 751ms/step - loss: 0.0389 - acc: 0.9867 - val_loss: 4.5170 - val_acc: 0.4534\n",
      "Epoch 19/50\n",
      "106/283 [==========>...................] - ETA: 2:02 - loss: 0.0364 - acc: 0.9874"
     ]
    }
   ],
   "source": [
    "model_ret, history_ret = train()"
   ]
  },
  {
   "cell_type": "code",
   "execution_count": null,
   "metadata": {},
   "outputs": [],
   "source": []
  },
  {
   "cell_type": "code",
   "execution_count": 25,
   "metadata": {},
   "outputs": [
    {
     "name": "stdout",
     "output_type": "stream",
     "text": [
      "0 th image of 22658\n",
      "1000 th image of 22658\n",
      "2000 th image of 22658\n",
      "3000 th image of 22658\n",
      "4000 th image of 22658\n",
      "5000 th image of 22658\n",
      "6000 th image of 22658\n",
      "7000 th image of 22658\n",
      "8000 th image of 22658\n",
      "9000 th image of 22658\n",
      "10000 th image of 22658\n",
      "11000 th image of 22658\n",
      "12000 th image of 22658\n",
      "13000 th image of 22658\n",
      "14000 th image of 22658\n",
      "15000 th image of 22658\n",
      "16000 th image of 22658\n",
      "17000 th image of 22658\n",
      "18000 th image of 22658\n",
      "19000 th image of 22658\n",
      "20000 th image of 22658\n",
      "21000 th image of 22658\n",
      "22000 th image of 22658\n"
     ]
    }
   ],
   "source": [
    "from PIL import Image\n",
    "\n",
    "for i,im in enumerate(image_paths):\n",
    "    if i%1000 == 0:\n",
    "        print(\"{} th image of {}\".format(i, len(image_paths)))\n",
    "    try:\n",
    "        img = Image.open(im)\n",
    "    except Exception as e:\n",
    "        print(e)\n",
    "        print(i)\n",
    "        print(im)\n",
    "        break\n",
    "    "
   ]
  },
  {
   "cell_type": "code",
   "execution_count": null,
   "metadata": {},
   "outputs": [],
   "source": []
  },
  {
   "cell_type": "code",
   "execution_count": 10,
   "metadata": {},
   "outputs": [
    {
     "ename": "TypeError",
     "evalue": "mat is not a numpy array, neither a scalar",
     "output_type": "error",
     "traceback": [
      "\u001b[0;31m---------------------------------------------------------------------------\u001b[0m",
      "\u001b[0;31mTypeError\u001b[0m                                 Traceback (most recent call last)",
      "\u001b[0;32m<ipython-input-10-b21d46e644f7>\u001b[0m in \u001b[0;36m<module>\u001b[0;34m()\u001b[0m\n\u001b[0;32m----> 1\u001b[0;31m \u001b[0mcv2\u001b[0m\u001b[0;34m.\u001b[0m\u001b[0mimshow\u001b[0m\u001b[0;34m(\u001b[0m\u001b[0;34m\"ImageWindow\"\u001b[0m\u001b[0;34m,\u001b[0m \u001b[0;34m\"ham_labled/train/bkl/augumented_668_3668.png\"\u001b[0m\u001b[0;34m)\u001b[0m\u001b[0;34m\u001b[0m\u001b[0m\n\u001b[0m\u001b[1;32m      2\u001b[0m \u001b[0mcv2\u001b[0m\u001b[0;34m.\u001b[0m\u001b[0mwaitKey\u001b[0m\u001b[0;34m(\u001b[0m\u001b[0;34m)\u001b[0m\u001b[0;34m\u001b[0m\u001b[0m\n",
      "\u001b[0;31mTypeError\u001b[0m: mat is not a numpy array, neither a scalar"
     ]
    }
   ],
   "source": [
    "cv2.imshow(\"ImageWindow\", \"ham_labled/train/bkl/augumented_668_3668.png\")\n",
    "cv2.waitKey()"
   ]
  },
  {
   "cell_type": "code",
   "execution_count": null,
   "metadata": {},
   "outputs": [],
   "source": []
  },
  {
   "cell_type": "code",
   "execution_count": null,
   "metadata": {},
   "outputs": [],
   "source": []
  },
  {
   "cell_type": "code",
   "execution_count": null,
   "metadata": {},
   "outputs": [],
   "source": []
  },
  {
   "cell_type": "code",
   "execution_count": null,
   "metadata": {},
   "outputs": [],
   "source": []
  },
  {
   "cell_type": "code",
   "execution_count": null,
   "metadata": {},
   "outputs": [],
   "source": []
  },
  {
   "cell_type": "code",
   "execution_count": null,
   "metadata": {},
   "outputs": [],
   "source": []
  },
  {
   "cell_type": "code",
   "execution_count": null,
   "metadata": {},
   "outputs": [],
   "source": []
  },
  {
   "cell_type": "code",
   "execution_count": null,
   "metadata": {},
   "outputs": [],
   "source": []
  },
  {
   "cell_type": "code",
   "execution_count": null,
   "metadata": {},
   "outputs": [],
   "source": []
  },
  {
   "cell_type": "code",
   "execution_count": null,
   "metadata": {},
   "outputs": [],
   "source": []
  },
  {
   "cell_type": "code",
   "execution_count": null,
   "metadata": {},
   "outputs": [],
   "source": []
  },
  {
   "cell_type": "code",
   "execution_count": null,
   "metadata": {},
   "outputs": [],
   "source": []
  },
  {
   "cell_type": "code",
   "execution_count": null,
   "metadata": {},
   "outputs": [],
   "source": []
  },
  {
   "cell_type": "code",
   "execution_count": null,
   "metadata": {},
   "outputs": [],
   "source": []
  },
  {
   "cell_type": "code",
   "execution_count": null,
   "metadata": {},
   "outputs": [],
   "source": []
  },
  {
   "cell_type": "markdown",
   "metadata": {},
   "source": [
    "## Feature Extraction and CNN Setup"
   ]
  },
  {
   "cell_type": "markdown",
   "metadata": {},
   "source": [
    "The class HDF5IO has the utilities to read/write extracted features from images"
   ]
  },
  {
   "cell_type": "code",
   "execution_count": 145,
   "metadata": {},
   "outputs": [],
   "source": [
    "import h5py\n",
    "\n",
    "class HDF5IO:\n",
    "\n",
    "    def __init__(self, dims, output_path, data_key=\"images\", buf_size=1000):\n",
    "        if os.path.exists(output_path):\n",
    "            raise ValueError(\n",
    "                \"The path already exists and cannot be overwritten\",\n",
    "                output_path\n",
    "            )\n",
    "        self.db = h5py.File(output_path, \"w\")\n",
    "        self.data = self.db.create_dataset(\n",
    "            data_key,\n",
    "            dims,\n",
    "            dtype=\"float\"\n",
    "        )\n",
    "        self.labels = self.db.create_dataset(\n",
    "            \"labels\",\n",
    "            (dims[0],),\n",
    "            dtype=\"int\"\n",
    "        )\n",
    "        self.buf_size = buf_size\n",
    "        self.buffer = {\"data\": [], \"labels\": []}\n",
    "        self.idx = 0\n",
    "\n",
    "    def add(self, rows, labels):\n",
    "        \"\"\"\n",
    "        Adds the rows and labels to the buffer\n",
    "        :param rows:\n",
    "        :param labels:\n",
    "        :return:\n",
    "        \"\"\"\n",
    "        self.buffer[\"data\"].extend(rows)\n",
    "        self.buffer[\"labels\"].extend(labels)\n",
    "        # check to see if the buffer needs to be flushed to disk\n",
    "        if len(self.buffer[\"data\"]) >= self.buf_size:\n",
    "            self.flush()\n",
    "\n",
    "    def flush(self):\n",
    "        \"\"\"\n",
    "        Write the buffers to disk then reset the buffer\n",
    "        :return:\n",
    "        \"\"\"\n",
    "        i = self.idx + len(self.buffer[\"data\"])\n",
    "        self.data[self.idx:i] = self.buffer[\"data\"]\n",
    "        self.labels[self.idx:i] = self.buffer[\"labels\"]\n",
    "        self.idx = i\n",
    "        self.buffer = {\"data\": [], \"labels\": []}\n",
    "\n",
    "    def store_class_labels(self, class_labels):\n",
    "        \"\"\"\n",
    "        create a dataset to store the actual class label names,\n",
    "        then store the class labels\n",
    "        :return:\n",
    "        \"\"\"\n",
    "        dt = h5py.special_dtype(vlen=str)\n",
    "        label_set = self.db.create_dataset(\n",
    "            \"label_names\",\n",
    "            (len(class_labels),),\n",
    "            dtype=dt\n",
    "        )\n",
    "        label_set[:] = class_labels\n",
    "\n",
    "    def close(self):\n",
    "        \"\"\"\n",
    "        Closes the dataset\n",
    "        :return:\n",
    "        \"\"\"\n",
    "        if len(self.buffer[\"data\"]) > 0:\n",
    "            self.flush()\n",
    "        # close the dataset\n",
    "        self.db.close()\n"
   ]
  },
  {
   "cell_type": "code",
   "execution_count": 147,
   "metadata": {},
   "outputs": [],
   "source": [
    "from keras.applications import VGG16\n",
    "from keras.applications import imagenet_utils\n",
    "\n",
    "# load the VGG16 model with imagenet weights\n",
    "model = VGG16(weights=\"imagenet\", include_top=False)"
   ]
  },
  {
   "cell_type": "code",
   "execution_count": 158,
   "metadata": {},
   "outputs": [],
   "source": [
    "dataset = HDF5IO(\n",
    "    (len(image_paths), 512 * 7 * 7),\n",
    "    os.path.join(os.getcwd(), \"hmnist_features\"),\n",
    "    data_key=\"features\",\n",
    "    buf_size=1000\n",
    ")\n",
    "dataset.store_class_labels(le.classes_)"
   ]
  },
  {
   "cell_type": "code",
   "execution_count": null,
   "metadata": {},
   "outputs": [],
   "source": []
  },
  {
   "cell_type": "code",
   "execution_count": 159,
   "metadata": {},
   "outputs": [
    {
     "name": "stderr",
     "output_type": "stream",
     "text": [
      "Extracting Features: 100% |#####################################| Time: 0:57:51\n"
     ]
    }
   ],
   "source": [
    "import progressbar\n",
    "\n",
    "from keras.preprocessing.image import img_to_array\n",
    "from keras.preprocessing.image import load_img\n",
    "\n",
    "# initialize the progress bar\n",
    "widgets = [\n",
    "    \"Extracting Features: \", progressbar.Percentage(), \" \",\n",
    "    progressbar.Bar(), \" \", progressbar.ETA()\n",
    "]\n",
    "pbar = progressbar.ProgressBar(\n",
    "    maxval=len(image_paths),\n",
    "    widgets=widgets\n",
    ").start()\n",
    "\n",
    "bs = 32\n",
    "\n",
    "# loop over the images in patches\n",
    "for i in np.arange(0, len(image_paths), bs):\n",
    "    # extract the batch of images and labels, then initialize the\n",
    "    # list of actual images that will be passed through the network\n",
    "    # for feature extraction\n",
    "    batch_paths = image_paths[i:i + bs]\n",
    "    batch_labels = labels[i:i + bs]\n",
    "    batch_images = []\n",
    "\n",
    "    # loop over the images and labels in the current batch\n",
    "    for (j, image_path) in enumerate(batch_paths):\n",
    "        \n",
    "        image = load_img(image_path, target_size=(224, 224))\n",
    "        image = img_to_array(image)\n",
    "\n",
    "        image = np.expand_dims(image, axis=0)\n",
    "        image = imagenet_utils.preprocess_input(image)\n",
    "\n",
    "        # add the image to the batch\n",
    "        batch_images.append(image)\n",
    "\n",
    "    batch_images = np.vstack(batch_images)\n",
    "    features = model.predict(batch_images, batch_size=bs)\n",
    "\n",
    "    features = features.reshape((features.shape[0], 512 * 7 * 7))\n",
    "\n",
    "    # add the features and labels to our HDF5 dataset\n",
    "    dataset.add(features, batch_labels)\n",
    "    pbar.update(i)\n",
    "\n",
    "# close the dataset\n",
    "dataset.close()\n",
    "pbar.finish()\n"
   ]
  },
  {
   "cell_type": "markdown",
   "metadata": {},
   "source": [
    "## Reading features from disk and applying a model"
   ]
  },
  {
   "cell_type": "code",
   "execution_count": 160,
   "metadata": {},
   "outputs": [],
   "source": [
    "from sklearn.linear_model import LogisticRegression\n",
    "from sklearn.model_selection import GridSearchCV\n",
    "from sklearn.metrics import classification_report\n",
    "import pickle"
   ]
  },
  {
   "cell_type": "code",
   "execution_count": 165,
   "metadata": {},
   "outputs": [],
   "source": [
    "# get the features from disk\n",
    "db = h5py.File(\"hmnist_features\", \"r\")\n",
    "\n",
    "# trian test split\n",
    "i = int(db[\"labels\"].shape[0] * 0.80)"
   ]
  },
  {
   "cell_type": "code",
   "execution_count": null,
   "metadata": {},
   "outputs": [
    {
     "name": "stderr",
     "output_type": "stream",
     "text": [
      "[Parallel(n_jobs=-1)]: Using backend LokyBackend with 12 concurrent workers.\n",
      "[Parallel(n_jobs=-1)]: Done   1 tasks      | elapsed: 15.8min\n",
      "[Parallel(n_jobs=-1)]: Done   1 out of   1 | elapsed: 15.8min finished\n"
     ]
    }
   ],
   "source": [
    "model = LogisticRegression(\n",
    "    solver=\"lbfgs\", \n",
    "    multi_class=\"auto\",\n",
    "    n_jobs=-1,\n",
    "    C=10.0,\n",
    "    verbose=10.0\n",
    ")\n",
    "model.fit(db[\"features\"][:i], db[\"labels\"][:i])"
   ]
  },
  {
   "cell_type": "code",
   "execution_count": 168,
   "metadata": {},
   "outputs": [
    {
     "name": "stdout",
     "output_type": "stream",
     "text": [
      "[INFO] evaluating...\n",
      "              precision    recall  f1-score   support\n",
      "\n",
      "       akiec       0.00      0.00      0.00         0\n",
      "         bcc       0.87      0.92      0.89      2044\n",
      "         bkl       0.00      0.00      0.00         0\n",
      "          df       0.00      0.00      0.00         0\n",
      "         mel       0.00      0.00      0.00      5027\n",
      "          nv       0.00      0.00      0.00         0\n",
      "        vasc       0.00      0.00      0.00         0\n",
      "\n",
      "   micro avg       0.27      0.27      0.27      7071\n",
      "   macro avg       0.12      0.13      0.13      7071\n",
      "weighted avg       0.25      0.27      0.26      7071\n",
      "\n"
     ]
    },
    {
     "name": "stderr",
     "output_type": "stream",
     "text": [
      "/Users/cn180450/anaconda3/lib/python3.7/site-packages/sklearn/metrics/classification.py:1143: UndefinedMetricWarning: Precision and F-score are ill-defined and being set to 0.0 in labels with no predicted samples.\n",
      "  'precision', 'predicted', average, warn_for)\n",
      "/Users/cn180450/anaconda3/lib/python3.7/site-packages/sklearn/metrics/classification.py:1145: UndefinedMetricWarning: Recall and F-score are ill-defined and being set to 0.0 in labels with no true samples.\n",
      "  'recall', 'true', average, warn_for)\n"
     ]
    }
   ],
   "source": [
    "# evaluate the model\n",
    "print(\"[INFO] evaluating...\")\n",
    "preds = model.predict(db[\"features\"][i:])\n",
    "print(\n",
    "    classification_report(\n",
    "        db[\"labels\"][i:], \n",
    "        preds,\n",
    "        target_names=db[\"label_names\"]\n",
    "    )\n",
    ")"
   ]
  },
  {
   "cell_type": "code",
   "execution_count": null,
   "metadata": {},
   "outputs": [],
   "source": []
  },
  {
   "cell_type": "code",
   "execution_count": null,
   "metadata": {},
   "outputs": [],
   "source": []
  },
  {
   "cell_type": "code",
   "execution_count": null,
   "metadata": {
    "scrolled": false
   },
   "outputs": [],
   "source": []
  },
  {
   "cell_type": "code",
   "execution_count": null,
   "metadata": {},
   "outputs": [],
   "source": []
  },
  {
   "cell_type": "code",
   "execution_count": null,
   "metadata": {},
   "outputs": [],
   "source": []
  },
  {
   "cell_type": "code",
   "execution_count": null,
   "metadata": {},
   "outputs": [],
   "source": []
  },
  {
   "cell_type": "code",
   "execution_count": null,
   "metadata": {},
   "outputs": [],
   "source": []
  },
  {
   "cell_type": "code",
   "execution_count": null,
   "metadata": {},
   "outputs": [],
   "source": []
  },
  {
   "cell_type": "code",
   "execution_count": null,
   "metadata": {},
   "outputs": [],
   "source": []
  },
  {
   "cell_type": "code",
   "execution_count": null,
   "metadata": {},
   "outputs": [],
   "source": []
  },
  {
   "cell_type": "code",
   "execution_count": null,
   "metadata": {},
   "outputs": [],
   "source": []
  },
  {
   "cell_type": "code",
   "execution_count": null,
   "metadata": {},
   "outputs": [],
   "source": []
  },
  {
   "cell_type": "code",
   "execution_count": null,
   "metadata": {},
   "outputs": [],
   "source": []
  },
  {
   "cell_type": "code",
   "execution_count": null,
   "metadata": {},
   "outputs": [],
   "source": []
  },
  {
   "cell_type": "code",
   "execution_count": null,
   "metadata": {},
   "outputs": [],
   "source": []
  },
  {
   "cell_type": "code",
   "execution_count": null,
   "metadata": {},
   "outputs": [],
   "source": []
  },
  {
   "cell_type": "code",
   "execution_count": null,
   "metadata": {},
   "outputs": [],
   "source": []
  },
  {
   "cell_type": "code",
   "execution_count": null,
   "metadata": {},
   "outputs": [],
   "source": []
  }
 ],
 "metadata": {
  "kernelspec": {
   "display_name": "Python 3",
   "language": "python",
   "name": "python3"
  },
  "language_info": {
   "codemirror_mode": {
    "name": "ipython",
    "version": 3
   },
   "file_extension": ".py",
   "mimetype": "text/x-python",
   "name": "python",
   "nbconvert_exporter": "python",
   "pygments_lexer": "ipython3",
   "version": "3.6.5"
  }
 },
 "nbformat": 4,
 "nbformat_minor": 2
}
