{
 "cells": [
  {
   "cell_type": "code",
   "execution_count": 1,
   "metadata": {},
   "outputs": [],
   "source": [
    "import cv2\n",
    "import os\n",
    "import numpy as np\n",
    "import pandas as pd\n",
    "import matplotlib.pyplot as plt"
   ]
  },
  {
   "cell_type": "code",
   "execution_count": 2,
   "metadata": {},
   "outputs": [
    {
     "data": {
      "text/html": [
       "<div>\n",
       "<style scoped>\n",
       "    .dataframe tbody tr th:only-of-type {\n",
       "        vertical-align: middle;\n",
       "    }\n",
       "\n",
       "    .dataframe tbody tr th {\n",
       "        vertical-align: top;\n",
       "    }\n",
       "\n",
       "    .dataframe thead th {\n",
       "        text-align: right;\n",
       "    }\n",
       "</style>\n",
       "<table border=\"1\" class=\"dataframe\">\n",
       "  <thead>\n",
       "    <tr style=\"text-align: right;\">\n",
       "      <th></th>\n",
       "      <th>lesion_id</th>\n",
       "      <th>image_id</th>\n",
       "      <th>dx</th>\n",
       "      <th>dx_type</th>\n",
       "      <th>age</th>\n",
       "      <th>sex</th>\n",
       "      <th>localization</th>\n",
       "    </tr>\n",
       "  </thead>\n",
       "  <tbody>\n",
       "    <tr>\n",
       "      <th>count</th>\n",
       "      <td>10015</td>\n",
       "      <td>10015</td>\n",
       "      <td>10015</td>\n",
       "      <td>10015</td>\n",
       "      <td>9958.000000</td>\n",
       "      <td>10015</td>\n",
       "      <td>10015</td>\n",
       "    </tr>\n",
       "    <tr>\n",
       "      <th>unique</th>\n",
       "      <td>7470</td>\n",
       "      <td>10015</td>\n",
       "      <td>7</td>\n",
       "      <td>4</td>\n",
       "      <td>NaN</td>\n",
       "      <td>3</td>\n",
       "      <td>15</td>\n",
       "    </tr>\n",
       "    <tr>\n",
       "      <th>top</th>\n",
       "      <td>HAM_0000835</td>\n",
       "      <td>ISIC_0026842</td>\n",
       "      <td>nv</td>\n",
       "      <td>histo</td>\n",
       "      <td>NaN</td>\n",
       "      <td>male</td>\n",
       "      <td>back</td>\n",
       "    </tr>\n",
       "    <tr>\n",
       "      <th>freq</th>\n",
       "      <td>6</td>\n",
       "      <td>1</td>\n",
       "      <td>6705</td>\n",
       "      <td>5340</td>\n",
       "      <td>NaN</td>\n",
       "      <td>5406</td>\n",
       "      <td>2192</td>\n",
       "    </tr>\n",
       "    <tr>\n",
       "      <th>mean</th>\n",
       "      <td>NaN</td>\n",
       "      <td>NaN</td>\n",
       "      <td>NaN</td>\n",
       "      <td>NaN</td>\n",
       "      <td>51.863828</td>\n",
       "      <td>NaN</td>\n",
       "      <td>NaN</td>\n",
       "    </tr>\n",
       "    <tr>\n",
       "      <th>std</th>\n",
       "      <td>NaN</td>\n",
       "      <td>NaN</td>\n",
       "      <td>NaN</td>\n",
       "      <td>NaN</td>\n",
       "      <td>16.968614</td>\n",
       "      <td>NaN</td>\n",
       "      <td>NaN</td>\n",
       "    </tr>\n",
       "    <tr>\n",
       "      <th>min</th>\n",
       "      <td>NaN</td>\n",
       "      <td>NaN</td>\n",
       "      <td>NaN</td>\n",
       "      <td>NaN</td>\n",
       "      <td>0.000000</td>\n",
       "      <td>NaN</td>\n",
       "      <td>NaN</td>\n",
       "    </tr>\n",
       "    <tr>\n",
       "      <th>25%</th>\n",
       "      <td>NaN</td>\n",
       "      <td>NaN</td>\n",
       "      <td>NaN</td>\n",
       "      <td>NaN</td>\n",
       "      <td>40.000000</td>\n",
       "      <td>NaN</td>\n",
       "      <td>NaN</td>\n",
       "    </tr>\n",
       "    <tr>\n",
       "      <th>50%</th>\n",
       "      <td>NaN</td>\n",
       "      <td>NaN</td>\n",
       "      <td>NaN</td>\n",
       "      <td>NaN</td>\n",
       "      <td>50.000000</td>\n",
       "      <td>NaN</td>\n",
       "      <td>NaN</td>\n",
       "    </tr>\n",
       "    <tr>\n",
       "      <th>75%</th>\n",
       "      <td>NaN</td>\n",
       "      <td>NaN</td>\n",
       "      <td>NaN</td>\n",
       "      <td>NaN</td>\n",
       "      <td>65.000000</td>\n",
       "      <td>NaN</td>\n",
       "      <td>NaN</td>\n",
       "    </tr>\n",
       "    <tr>\n",
       "      <th>max</th>\n",
       "      <td>NaN</td>\n",
       "      <td>NaN</td>\n",
       "      <td>NaN</td>\n",
       "      <td>NaN</td>\n",
       "      <td>85.000000</td>\n",
       "      <td>NaN</td>\n",
       "      <td>NaN</td>\n",
       "    </tr>\n",
       "  </tbody>\n",
       "</table>\n",
       "</div>"
      ],
      "text/plain": [
       "          lesion_id      image_id     dx dx_type          age    sex  \\\n",
       "count         10015         10015  10015   10015  9958.000000  10015   \n",
       "unique         7470         10015      7       4          NaN      3   \n",
       "top     HAM_0000835  ISIC_0026842     nv   histo          NaN   male   \n",
       "freq              6             1   6705    5340          NaN   5406   \n",
       "mean            NaN           NaN    NaN     NaN    51.863828    NaN   \n",
       "std             NaN           NaN    NaN     NaN    16.968614    NaN   \n",
       "min             NaN           NaN    NaN     NaN     0.000000    NaN   \n",
       "25%             NaN           NaN    NaN     NaN    40.000000    NaN   \n",
       "50%             NaN           NaN    NaN     NaN    50.000000    NaN   \n",
       "75%             NaN           NaN    NaN     NaN    65.000000    NaN   \n",
       "max             NaN           NaN    NaN     NaN    85.000000    NaN   \n",
       "\n",
       "       localization  \n",
       "count         10015  \n",
       "unique           15  \n",
       "top            back  \n",
       "freq           2192  \n",
       "mean            NaN  \n",
       "std             NaN  \n",
       "min             NaN  \n",
       "25%             NaN  \n",
       "50%             NaN  \n",
       "75%             NaN  \n",
       "max             NaN  "
      ]
     },
     "execution_count": 2,
     "metadata": {},
     "output_type": "execute_result"
    }
   ],
   "source": [
    "metadata = pd.read_csv(\"../HAM10000_metadata.csv\")\n",
    "metadata.describe(include=\"all\")"
   ]
  },
  {
   "cell_type": "code",
   "execution_count": 4,
   "metadata": {},
   "outputs": [
    {
     "name": "stdout",
     "output_type": "stream",
     "text": [
      "     lesion_id      image_id   dx dx_type   age   sex localization\n",
      "0  HAM_0000118  ISIC_0027419  bkl   histo  80.0  male        scalp\n",
      "1  HAM_0000118  ISIC_0025030  bkl   histo  80.0  male        scalp\n",
      "2  HAM_0002730  ISIC_0026769  bkl   histo  80.0  male        scalp\n",
      "3  HAM_0002730  ISIC_0025661  bkl   histo  80.0  male        scalp\n",
      "4  HAM_0001466  ISIC_0031633  bkl   histo  75.0  male          ear\n"
     ]
    }
   ],
   "source": [
    "print(metadata.head(5))"
   ]
  },
  {
   "cell_type": "code",
   "execution_count": 5,
   "metadata": {},
   "outputs": [
    {
     "name": "stdout",
     "output_type": "stream",
     "text": [
      "['bkl', 'nv', 'df', 'mel', 'vasc', 'bcc', 'akiec']\n"
     ]
    }
   ],
   "source": [
    "labels = list(metadata.dx.unique())\n",
    "print(labels)"
   ]
  },
  {
   "cell_type": "code",
   "execution_count": 6,
   "metadata": {},
   "outputs": [
    {
     "name": "stdout",
     "output_type": "stream",
     "text": [
      "nv       6705\n",
      "mel      1113\n",
      "bkl      1099\n",
      "bcc       514\n",
      "akiec     327\n",
      "vasc      142\n",
      "df        115\n",
      "Name: dx, dtype: int64\n"
     ]
    },
    {
     "data": {
      "text/plain": [
       "<matplotlib.axes._subplots.AxesSubplot at 0x7ffaac08c3c8>"
      ]
     },
     "execution_count": 6,
     "metadata": {},
     "output_type": "execute_result"
    },
    {
     "data": {
      "image/png": "[encoded data removed]",
      "text/plain": [
       "<Figure size 720x360 with 1 Axes>"
      ]
     },
     "metadata": {},
     "output_type": "display_data"
    }
   ],
   "source": [
    "fig, ax1 = plt.subplots(1, 1, figsize = (10, 5))\n",
    "counts = metadata[\"dx\"].value_counts()\n",
    "print(counts)\n",
    "counts.plot(kind='bar', ax=ax1)\n",
    "#metadata[\"dx\"].hist()"
   ]
  },
  {
   "cell_type": "code",
   "execution_count": 7,
   "metadata": {},
   "outputs": [],
   "source": [
    "threshold = 2000\n",
    "\n",
    "# parse out all classes to individual dataframes\n",
    "nv = metadata[metadata[\"dx\"] == \"nv\"]\n",
    "nv = nv.sample(n=threshold)\n",
    "nv.name = \"nv\"\n",
    "mel = metadata[metadata[\"dx\"] == \"mel\"]\n",
    "mel.name = \"mel\"\n",
    "bkl = metadata[metadata[\"dx\"] == \"bkl\"]\n",
    "bkl.name = \"bkl\"\n",
    "bcc = metadata[metadata[\"dx\"] == \"bcc\"]\n",
    "bcc.name = \"bcc\"\n",
    "akiec = metadata[metadata[\"dx\"] == \"akiec\"]\n",
    "akiec.name = \"akiec\"\n",
    "vasc = metadata[metadata[\"dx\"] == \"vasc\"]\n",
    "vasc.name = \"vasc\"\n",
    "df = metadata[metadata[\"dx\"] == \"df\"]\n",
    "df.name = \"df\"\n",
    "# list out\n",
    "classes = [nv, mel, bkl, bcc, akiec, vasc, df]"
   ]
  },
  {
   "cell_type": "code",
   "execution_count": 8,
   "metadata": {},
   "outputs": [],
   "source": [
    "# preprocess accordingly\n",
    "def preprocess(_image):\n",
    "    #_image = cv2.cvtColor(_image, cv2.COLOR_BGR2RGB)\n",
    "    \n",
    "    #_image = cv2.equalizeHist(_image) \n",
    "    #_image = cv2.GaussianBlur(_image, (3,3), 1)\n",
    "    _image = cv2.cvtColor(_image, cv2.COLOR_RGB2HSV)\n",
    "    H,S,V = cv2.split(_image)\n",
    "    _V = cv2.equalizeHist(V) \n",
    "    _image = cv2.merge([H, S, _V])\n",
    "    _image = cv2.cvtColor(_image, cv2.COLOR_HSV2RGB)\n",
    "    \n",
    "    return _image"
   ]
  },
  {
   "cell_type": "markdown",
   "metadata": {},
   "source": [
    "## Seperate into Respective Folders"
   ]
  },
  {
   "cell_type": "code",
   "execution_count": 10,
   "metadata": {},
   "outputs": [
    {
     "name": "stdout",
     "output_type": "stream",
     "text": [
      "Training: 1600, Test: 400 images found for class nv\n",
      "Moving complete for class nv...\n",
      "Training: 890, Test: 223 images found for class mel\n",
      "Moving complete for class mel...\n",
      "Training: 879, Test: 220 images found for class bkl\n",
      "Moving complete for class bkl...\n",
      "Training: 411, Test: 103 images found for class bcc\n",
      "Moving complete for class bcc...\n",
      "Training: 261, Test: 66 images found for class akiec\n",
      "Moving complete for class akiec...\n",
      "Training: 113, Test: 29 images found for class vasc\n",
      "Moving complete for class vasc...\n",
      "Training: 92, Test: 23 images found for class df\n",
      "Moving complete for class df...\n"
     ]
    }
   ],
   "source": [
    "import shutil\n",
    "from sklearn.model_selection import train_test_split\n",
    "\n",
    "#threshold = 2000\n",
    "# seperate images to each directory \n",
    "os.mkdir(\"ham_labled\")\n",
    "os.mkdir(\"ham_labled/train\")\n",
    "os.mkdir(\"ham_labled/test\")\n",
    "\n",
    "# each class\n",
    "for _class in classes:\n",
    "    _train, _test = train_test_split(_class, test_size = 0.2)\n",
    "    print(\"Training: {}, Test: {} images found for class {}\".format(len(_train), len(_test), _class.name))\n",
    "    # train \n",
    "    os.mkdir(\"ham_labled/train/{}\".format(_class.name))\n",
    "    for i, row in _train.iterrows():\n",
    "        image_id = row[\"image_id\"]\n",
    "        img = cv2.imread(\"../ham10000/{}.jpg\".format(image_id))\n",
    "        img = cv2.resize(img, (224, 224))\n",
    "        cv2.imwrite(\"../ham10000/{}.jpg\".format(image_id), img)\n",
    "        shutil.move(\n",
    "            src=\"../ham10000/{}.jpg\".format(image_id), \n",
    "            dst=\"ham_labled/train/{}/\".format(_class.name)\n",
    "        )\n",
    "    # test\n",
    "    os.mkdir(\"ham_labled/test/{}\".format(_class.name))\n",
    "    for i, row in _test.iterrows():\n",
    "        image_id = row[\"image_id\"]\n",
    "        img = cv2.imread(\"../ham10000/{}.jpg\".format(image_id))\n",
    "        img = cv2.resize(img, (224, 224))\n",
    "        cv2.imwrite(\"../ham10000/{}.jpg\".format(image_id), img)\n",
    "        shutil.move(\n",
    "            src=\"../ham10000/{}.jpg\".format(image_id), \n",
    "            dst=\"ham_labled/test/{}/\".format(_class.name)\n",
    "        )\n",
    "    print(\"Moving complete for class {}...\".format(_class.name))"
   ]
  },
  {
   "cell_type": "markdown",
   "metadata": {},
   "source": [
    "## Image Augumentation\n",
    "\n",
    "Before we can start passing above images through a CNN feature extractor, we will augument images to address class imbalance problem and set a threshold of 5000 images per class."
   ]
  },
  {
   "cell_type": "code",
   "execution_count": 11,
   "metadata": {},
   "outputs": [
    {
     "name": "stderr",
     "output_type": "stream",
     "text": [
      "Using TensorFlow backend.\n"
     ]
    }
   ],
   "source": [
    "from keras.preprocessing.image import ImageDataGenerator\n",
    "\n",
    "_generator = ImageDataGenerator(\n",
    "    width_shift_range=0.001,\n",
    "    height_shift_range=0.001,\n",
    "    zoom_range=0.01,\n",
    "    horizontal_flip=True,\n",
    "    vertical_flip=True,\n",
    "    rotation_range=0.99\n",
    ")"
   ]
  },
  {
   "cell_type": "code",
   "execution_count": 12,
   "metadata": {},
   "outputs": [],
   "source": [
    "from keras.preprocessing.image import img_to_array\n",
    "\n",
    "def load_images(directory):\n",
    "    images = [cv2.cvtColor(cv2.imread(os.path.join(directory, file)), cv2.COLOR_BGR2RGB)\n",
    "              for file in os.listdir(directory)]\n",
    "    images = [img_to_array(image, data_format=\"channels_last\") for image in images]\n",
    "    images = np.array(images)\n",
    "    images = images.astype(\"float\")\n",
    "    return images\n",
    "    "
   ]
  },
  {
   "cell_type": "code",
   "execution_count": 13,
   "metadata": {},
   "outputs": [
    {
     "name": "stdout",
     "output_type": "stream",
     "text": [
      "Augumenting images for class mel...\n",
      "Augumenting images for class bkl...\n",
      "Augumenting images for class bcc...\n",
      "Augumenting images for class akiec...\n",
      "Augumenting images for class vasc...\n",
      "Augumenting images for class df...\n"
     ]
    }
   ],
   "source": [
    "batch = 32\n",
    "for _class in classes:\n",
    "    _name = _class.name\n",
    "    if len(_class) >= threshold:\n",
    "        continue\n",
    "    else:\n",
    "        # what a pain ....PHEW!\n",
    "        if os.path.exists(\"ham_labled/train/{}/.ipynb_checkpoints/\".format(_name)):\n",
    "            shutil.rmtree(\"ham_labled/train/{}/.ipynb_checkpoints/\".format(_name))\n",
    "        print(\"Augumenting images for class {}...\".format(_name))\n",
    "        X = load_images(\"ham_labled/train/{}/\".format(_name))\n",
    "        _auguments = _generator.flow(\n",
    "            x=X,\n",
    "            y=None,\n",
    "            batch_size=batch,\n",
    "            save_format=\"jpg\",\n",
    "            save_prefix=\"augumented\",\n",
    "            save_to_dir=\"ham_labled/train/{}/\".format(_name)\n",
    "        )\n",
    "        for _ in range(int(np.ceil((threshold - X.shape[0])/batch))):\n",
    "            x = next(_auguments)"
   ]
  },
  {
   "cell_type": "markdown",
   "metadata": {},
   "source": [
    "## Read the newly generated Images and process them accordingly"
   ]
  },
  {
   "cell_type": "code",
   "execution_count": 3,
   "metadata": {},
   "outputs": [
    {
     "name": "stdout",
     "output_type": "stream",
     "text": [
      "Collecting imutils\n",
      "  Downloading https://files.pythonhosted.org/packages/5e/0c/659c2bdae8e8ca5ef810b9da02db28feaa29ea448ff36b65a1664ff28142/imutils-0.5.2.tar.gz\n",
      "Building wheels for collected packages: imutils\n",
      "  Running setup.py bdist_wheel for imutils ... \u001b[?25ldone\n",
      "\u001b[?25h  Stored in directory: /root/.cache/pip/wheels/b2/40/59/139d450e68847ef2f27d876d527b13389dac23df0f66526b5d\n",
      "Successfully built imutils\n",
      "\u001b[31mmenpo 0.8.1 has requirement matplotlib<2.0,>=1.4, but you'll have matplotlib 3.0.2 which is incompatible.\u001b[0m\n",
      "\u001b[31mmenpo 0.8.1 has requirement pillow<5.0,>=3.0, but you'll have pillow 5.4.0 which is incompatible.\u001b[0m\n",
      "\u001b[31mmenpo 0.8.1 has requirement scipy<1.0,>=0.16, but you'll have scipy 1.2.0 which is incompatible.\u001b[0m\n",
      "Installing collected packages: imutils\n",
      "Successfully installed imutils-0.5.2\n",
      "\u001b[33mYou are using pip version 10.0.1, however version 19.2.2 is available.\n",
      "You should consider upgrading via the 'pip install --upgrade pip' command.\u001b[0m\n",
      "13190 total images found...\n"
     ]
    }
   ],
   "source": [
    "try:\n",
    "    from imutils import paths\n",
    "except ModuleNotFoundError:\n",
    "    !pip install imutils\n",
    "    from imutils import paths\n",
    "import random\n",
    "import os\n",
    "from sklearn.preprocessing import LabelEncoder\n",
    "\n",
    "image_paths = list(paths.list_images(\"ham_labled/train\"))\n",
    "random.shuffle(image_paths)\n",
    "\n",
    "labels = [cls.split(os.path.sep)[-2] for cls in image_paths]\n",
    "le = LabelEncoder()\n",
    "labels = le.fit_transform(labels)\n",
    "\n",
    "print(\"{} total images found...\".format(len(image_paths)))\n"
   ]
  },
  {
   "cell_type": "markdown",
   "metadata": {},
   "source": [
    "## Model"
   ]
  },
  {
   "cell_type": "code",
   "execution_count": 6,
   "metadata": {},
   "outputs": [
    {
     "name": "stdout",
     "output_type": "stream",
     "text": [
      "Collecting imutils\n",
      "  Downloading https://files.pythonhosted.org/packages/b5/94/46dcae8c061e28be31bcaa55c560cb30ee9403c9a4bb2659768ec1b9eb7d/imutils-0.5.3.tar.gz\n",
      "Building wheels for collected packages: imutils\n",
      "  Running setup.py bdist_wheel for imutils ... \u001b[?25ldone\n",
      "\u001b[?25h  Stored in directory: /root/.cache/pip/wheels/16/84/1f/bf88641293cda2c8be81a5c4b8ca973dd9125a6dc3767417fd\n",
      "Successfully built imutils\n",
      "\u001b[31mmenpo 0.8.1 has requirement matplotlib<2.0,>=1.4, but you'll have matplotlib 3.0.2 which is incompatible.\u001b[0m\n",
      "\u001b[31mmenpo 0.8.1 has requirement pillow<5.0,>=3.0, but you'll have pillow 5.4.0 which is incompatible.\u001b[0m\n",
      "\u001b[31mmenpo 0.8.1 has requirement scipy<1.0,>=0.16, but you'll have scipy 1.2.0 which is incompatible.\u001b[0m\n",
      "Installing collected packages: imutils\n",
      "Successfully installed imutils-0.5.3\n",
      "\u001b[33mYou are using pip version 10.0.1, however version 19.2.2 is available.\n",
      "You should consider upgrading via the 'pip install --upgrade pip' command.\u001b[0m\n"
     ]
    },
    {
     "name": "stderr",
     "output_type": "stream",
     "text": [
      "Using TensorFlow backend.\n"
     ]
    }
   ],
   "source": [
    "try:\n",
    "    from imutils import paths\n",
    "except ModuleNotFoundError:\n",
    "    !pip install imutils\n",
    "    from imutils import paths\n",
    "import tensorflow as tf\n",
    "from keras import backend as K\n",
    "from keras import callbacks\n",
    "from keras.layers import LeakyReLU\n",
    "from keras.models import Sequential, Model\n",
    "from keras.metrics import categorical_accuracy, top_k_categorical_accuracy\n",
    "from keras.layers.normalization import BatchNormalization\n",
    "from keras.layers.convolutional import Conv2D, MaxPooling2D\n",
    "from keras.layers.core import Activation, Flatten, Dropout, Dense\n",
    "from keras.preprocessing.image import ImageDataGenerator\n",
    "from keras.optimizers import Adam\n",
    "from keras.regularizers import l2\n",
    "from keras.callbacks import ReduceLROnPlateau, LearningRateScheduler\n",
    "from keras.applications import ResNet50"
   ]
  },
  {
   "cell_type": "code",
   "execution_count": null,
   "metadata": {},
   "outputs": [],
   "source": [
    "class CustomNet(object):\n",
    "\n",
    "    def __init__(self, height, width, channels, classes, parameter_scaling):\n",
    "        self.height = height\n",
    "        self.width = width\n",
    "        self.channels = channels\n",
    "        self.output_classes = classes\n",
    "        self.scale = parameter_scaling\n",
    "        \n",
    "    \"\"\"\n",
    "    def model(self):\n",
    "        _model = ResNet50(\n",
    "            weights=\"imagenet\",\n",
    "            include_top=False,\n",
    "            input_shape=(self.height, self.width, self.channels)\n",
    "        )\n",
    "        x = _model.output\n",
    "        x = Dropout(0.75)(x)\n",
    "        x = Flatten()(x)\n",
    "        x = Dense(512, activation=\"relu\")(x)\n",
    "        x = Dropout(0.75)(x)\n",
    "        x = Dense(self.output_classes, activation=\"softmax\")(x)\n",
    "        model = Model(inputs=_model.input, outputs=x)\n",
    "        return model\n",
    "    \"\"\"\n",
    "    def model(self):\n",
    "        \n",
    "        _model = Sequential()\n",
    "        input_shape = (self.height, self.width, self.channels)\n",
    "        axis = -1\n",
    "        alpha = 0.1\n",
    "        \n",
    "        # if using theano\n",
    "        if K.image_data_format() == \"channels_first\":\n",
    "            input_shape = (self.channels, self.height, self.width)\n",
    "            axis = 1\n",
    "        \n",
    "        # 224x224 \n",
    "        # convolution 1\n",
    "        _model.add(Conv2D(self.scale, (3, 3), input_shape=input_shape))\n",
    "        _model.add(LeakyReLU(alpha=alpha))\n",
    "        _model.add(BatchNormalization(axis=axis))\n",
    "        # convolution 2\n",
    "        _model.add(Conv2D(self.scale, (3, 3)))\n",
    "        _model.add(LeakyReLU(alpha=alpha))\n",
    "        _model.add(BatchNormalization(axis=axis))\n",
    "        # pool 1\n",
    "        _model.add(MaxPooling2D(pool_size=(2, 2)))\n",
    "        _model.add(Dropout(0.25))\n",
    "        \n",
    "        # 128x128 \n",
    "        # convolution 3\n",
    "        _model.add(Conv2D(2*self.scale, (3, 3)))\n",
    "        _model.add(LeakyReLU(alpha=alpha))\n",
    "        _model.add(BatchNormalization(axis=axis))\n",
    "        # convolution 4\n",
    "        _model.add(Conv2D(2*self.scale, (3, 3)))\n",
    "        _model.add(LeakyReLU(alpha=alpha))\n",
    "        _model.add(BatchNormalization(axis=axis))\n",
    "        # pool 2\n",
    "        _model.add(MaxPooling2D(pool_size=(2, 2)))\n",
    "        _model.add(Dropout(0.25))\n",
    "\n",
    "        # flattening layer\n",
    "        _model.add(Flatten())\n",
    "        _model.add(Dropout(0.5))\n",
    "\n",
    "        # first dense layer\n",
    "        _model.add(Dense(units=256))\n",
    "        _model.add(LeakyReLU(alpha=alpha))\n",
    "        _model.add(Dropout(0.5))\n",
    "\n",
    "        # second dense layer\n",
    "        _model.add(Dense(units=256))\n",
    "        _model.add(LeakyReLU(alpha=alpha))\n",
    "        _model.add(Dropout(0.5))\n",
    "\n",
    "        # output layer\n",
    "        _model.add(Dense(self.output_classes, activation=\"softmax\"))\n",
    "\n",
    "        return _model\n"
   ]
  },
  {
   "cell_type": "code",
   "execution_count": 16,
   "metadata": {},
   "outputs": [],
   "source": [
    "import multiprocessing\n",
    "manager = multiprocessing.Manager()\n",
    "queue = manager.Queue(maxsize=10)\n",
    "\n",
    "BATCH_SIZE = 64\n",
    "# lr - 4,5,6 for resnet50\n",
    "LR = 1e-4\n",
    "EPOCHS = 50\n",
    "PARAMETER_SCALING = 8\n",
    "IM_WIDTH = 224\n",
    "IM_HEIGHT = 224\n",
    "\n",
    "def lr_scheduler(epoch, lr):\n",
    "    adjusted_lr = lr\n",
    "    if 25 <= epoch < 35:\n",
    "        adjusted_lr = (1e-4)/2\n",
    "        print(\"Current Learning Rate: {}, Adjusted Learning Rate: {}\".format(\n",
    "            str(lr), str(adjusted_lr)\n",
    "        ))\n",
    "    elif epoch >= 35:\n",
    "        adjusted_lr = 1e-5\n",
    "        print(\"Current Learning Rate: {}, Adjusted Learning Rate: {}\".format(\n",
    "            str(lr), str(adjusted_lr)\n",
    "        ))\n",
    "    \n",
    "    return adjusted_lr\n",
    "\n",
    "def top_2_accuracy(y_true, y_pred):\n",
    "    return top_k_categorical_accuracy(y_true, y_pred, k=2)\n",
    "\n",
    "def top_3_accuracy(y_true, y_pred):\n",
    "    return top_k_categorical_accuracy(y_true, y_pred, k=3)\n",
    "\n",
    "def train():\n",
    "    \n",
    "        h_callbacks = [\n",
    "            callbacks.TensorBoard(\n",
    "                log_dir=\"tensorboard\",\n",
    "                write_graph=True,\n",
    "                write_images=False\n",
    "            ),\n",
    "            LearningRateScheduler(lr_scheduler)\n",
    "        ]\n",
    "        _model = CustomNet(\n",
    "            height=IM_HEIGHT,\n",
    "            width=IM_WIDTH,\n",
    "            channels=3,\n",
    "            classes=7,\n",
    "            parameter_scaling=PARAMETER_SCALING\n",
    "        ).model()\n",
    "        _model.compile(\n",
    "            loss=\"categorical_crossentropy\",\n",
    "            optimizer=Adam(lr=LR),\n",
    "            metrics=[categorical_accuracy, top_2_accuracy, top_3_accuracy]\n",
    "        )\n",
    "        \n",
    "        # generators made according to the post\n",
    "        # https://github.com/keras-team/keras/issues/5862\n",
    "        data_generator = ImageDataGenerator(\n",
    "            rescale=1./255,\n",
    "            validation_split=0.2\n",
    "        )\n",
    "        train_generator = data_generator.flow_from_directory(\n",
    "            directory=\"ham_labled/train\",\n",
    "            target_size=(IM_WIDTH, IM_HEIGHT),\n",
    "            shuffle=True,\n",
    "            color_mode=\"rgb\",\n",
    "            class_mode=\"categorical\",\n",
    "            batch_size=BATCH_SIZE,\n",
    "            subset=\"training\"\n",
    "        )\n",
    "        valid_generator = data_generator.flow_from_directory(\n",
    "            directory=\"ham_labled/train\",\n",
    "            target_size=(IM_WIDTH, IM_HEIGHT),\n",
    "            shuffle=True,\n",
    "            color_mode=\"rgb\",\n",
    "            class_mode=\"categorical\",\n",
    "            batch_size=BATCH_SIZE,\n",
    "            subset=\"validation\"\n",
    "        )\n",
    "        # train\n",
    "        history = _model.fit_generator(\n",
    "            generator=train_generator,\n",
    "            steps_per_epoch=train_generator.samples//train_generator.batch_size,\n",
    "            validation_data=valid_generator,\n",
    "            validation_steps=valid_generator.samples//valid_generator.batch_size,\n",
    "            callbacks=h_callbacks,\n",
    "            epochs=EPOCHS\n",
    "        )\n",
    "        return _model, history"
   ]
  },
  {
   "cell_type": "code",
   "execution_count": 17,
   "metadata": {},
   "outputs": [
    {
     "name": "stdout",
     "output_type": "stream",
     "text": [
      "Found 10556 images belonging to 7 classes.\n",
      "Found 2634 images belonging to 7 classes.\n",
      "Epoch 1/50\n",
      "164/164 [==============================] - 47s 287ms/step - loss: 7.6864 - categorical_accuracy: 0.2096 - top_2_accuracy: 0.3885 - top_3_accuracy: 0.5425 - val_loss: 4.1540 - val_categorical_accuracy: 0.2542 - val_top_2_accuracy: 0.4752 - val_top_3_accuracy: 0.6749\n",
      "Epoch 2/50\n",
      "164/164 [==============================] - 45s 275ms/step - loss: 6.3975 - categorical_accuracy: 0.2756 - top_2_accuracy: 0.4712 - top_3_accuracy: 0.6215 - val_loss: 6.3985 - val_categorical_accuracy: 0.2891 - val_top_2_accuracy: 0.4385 - val_top_3_accuracy: 0.6533\n",
      "Epoch 3/50\n",
      "164/164 [==============================] - 45s 276ms/step - loss: 5.6052 - categorical_accuracy: 0.3180 - top_2_accuracy: 0.5123 - top_3_accuracy: 0.6549 - val_loss: 5.1863 - val_categorical_accuracy: 0.3475 - val_top_2_accuracy: 0.5117 - val_top_3_accuracy: 0.6891\n",
      "Epoch 4/50\n",
      "164/164 [==============================] - 45s 276ms/step - loss: 5.0919 - categorical_accuracy: 0.3348 - top_2_accuracy: 0.5354 - top_3_accuracy: 0.6886 - val_loss: 4.6272 - val_categorical_accuracy: 0.3218 - val_top_2_accuracy: 0.5319 - val_top_3_accuracy: 0.7027\n",
      "Epoch 5/50\n",
      "164/164 [==============================] - 45s 276ms/step - loss: 4.6573 - categorical_accuracy: 0.3569 - top_2_accuracy: 0.5666 - top_3_accuracy: 0.7114 - val_loss: 4.3726 - val_categorical_accuracy: 0.3288 - val_top_2_accuracy: 0.5459 - val_top_3_accuracy: 0.7097\n",
      "Epoch 6/50\n",
      "164/164 [==============================] - 45s 276ms/step - loss: 4.3415 - categorical_accuracy: 0.3699 - top_2_accuracy: 0.5790 - top_3_accuracy: 0.7290 - val_loss: 2.5746 - val_categorical_accuracy: 0.4412 - val_top_2_accuracy: 0.6689 - val_top_3_accuracy: 0.7988\n",
      "Epoch 7/50\n",
      "164/164 [==============================] - 45s 277ms/step - loss: 4.0762 - categorical_accuracy: 0.3849 - top_2_accuracy: 0.5883 - top_3_accuracy: 0.7298 - val_loss: 2.3537 - val_categorical_accuracy: 0.4732 - val_top_2_accuracy: 0.6926 - val_top_3_accuracy: 0.8195\n",
      "Epoch 8/50\n",
      "164/164 [==============================] - 45s 275ms/step - loss: 3.8294 - categorical_accuracy: 0.4001 - top_2_accuracy: 0.5939 - top_3_accuracy: 0.7373 - val_loss: 3.9821 - val_categorical_accuracy: 0.3525 - val_top_2_accuracy: 0.5685 - val_top_3_accuracy: 0.7276\n",
      "Epoch 9/50\n",
      "164/164 [==============================] - 45s 276ms/step - loss: 3.6587 - categorical_accuracy: 0.4094 - top_2_accuracy: 0.6161 - top_3_accuracy: 0.7601 - val_loss: 2.4501 - val_categorical_accuracy: 0.4444 - val_top_2_accuracy: 0.6786 - val_top_3_accuracy: 0.8280\n",
      "Epoch 10/50\n",
      "164/164 [==============================] - 45s 275ms/step - loss: 3.3780 - categorical_accuracy: 0.4248 - top_2_accuracy: 0.6370 - top_3_accuracy: 0.7789 - val_loss: 3.1575 - val_categorical_accuracy: 0.3981 - val_top_2_accuracy: 0.6117 - val_top_3_accuracy: 0.7669\n",
      "Epoch 11/50\n",
      "164/164 [==============================] - 45s 277ms/step - loss: 3.2441 - categorical_accuracy: 0.4323 - top_2_accuracy: 0.6424 - top_3_accuracy: 0.7835 - val_loss: 1.7309 - val_categorical_accuracy: 0.5311 - val_top_2_accuracy: 0.7362 - val_top_3_accuracy: 0.8650\n",
      "Epoch 12/50\n",
      "164/164 [==============================] - 45s 275ms/step - loss: 3.1563 - categorical_accuracy: 0.4359 - top_2_accuracy: 0.6406 - top_3_accuracy: 0.7812 - val_loss: 1.8649 - val_categorical_accuracy: 0.5144 - val_top_2_accuracy: 0.7245 - val_top_3_accuracy: 0.8447\n",
      "Epoch 13/50\n",
      "164/164 [==============================] - 45s 276ms/step - loss: 2.8696 - categorical_accuracy: 0.4567 - top_2_accuracy: 0.6644 - top_3_accuracy: 0.8018 - val_loss: 2.1278 - val_categorical_accuracy: 0.4922 - val_top_2_accuracy: 0.7210 - val_top_3_accuracy: 0.8440\n",
      "Epoch 14/50\n",
      "164/164 [==============================] - 45s 276ms/step - loss: 2.7780 - categorical_accuracy: 0.4602 - top_2_accuracy: 0.6671 - top_3_accuracy: 0.8096 - val_loss: 1.9241 - val_categorical_accuracy: 0.4926 - val_top_2_accuracy: 0.7156 - val_top_3_accuracy: 0.8405\n",
      "Epoch 15/50\n",
      "164/164 [==============================] - 45s 276ms/step - loss: 2.6660 - categorical_accuracy: 0.4674 - top_2_accuracy: 0.6791 - top_3_accuracy: 0.8121 - val_loss: 2.3152 - val_categorical_accuracy: 0.4420 - val_top_2_accuracy: 0.6755 - val_top_3_accuracy: 0.8156\n",
      "Epoch 16/50\n",
      "164/164 [==============================] - 45s 274ms/step - loss: 2.5191 - categorical_accuracy: 0.4812 - top_2_accuracy: 0.6856 - top_3_accuracy: 0.8239 - val_loss: 2.3073 - val_categorical_accuracy: 0.4712 - val_top_2_accuracy: 0.6794 - val_top_3_accuracy: 0.8195\n",
      "Epoch 17/50\n",
      "164/164 [==============================] - 45s 275ms/step - loss: 2.4601 - categorical_accuracy: 0.4870 - top_2_accuracy: 0.6930 - top_3_accuracy: 0.8216 - val_loss: 1.6091 - val_categorical_accuracy: 0.5241 - val_top_2_accuracy: 0.7284 - val_top_3_accuracy: 0.8381\n",
      "Epoch 18/50\n",
      "164/164 [==============================] - 45s 275ms/step - loss: 2.3165 - categorical_accuracy: 0.4918 - top_2_accuracy: 0.6996 - top_3_accuracy: 0.8349 - val_loss: 2.3516 - val_categorical_accuracy: 0.4494 - val_top_2_accuracy: 0.6673 - val_top_3_accuracy: 0.8113\n",
      "Epoch 19/50\n",
      "164/164 [==============================] - 45s 275ms/step - loss: 2.2082 - categorical_accuracy: 0.5063 - top_2_accuracy: 0.7189 - top_3_accuracy: 0.8454 - val_loss: 2.9868 - val_categorical_accuracy: 0.4459 - val_top_2_accuracy: 0.6518 - val_top_3_accuracy: 0.7984\n",
      "Epoch 20/50\n",
      "164/164 [==============================] - 45s 275ms/step - loss: 2.0906 - categorical_accuracy: 0.5243 - top_2_accuracy: 0.7294 - top_3_accuracy: 0.8550 - val_loss: 1.7123 - val_categorical_accuracy: 0.4860 - val_top_2_accuracy: 0.7175 - val_top_3_accuracy: 0.8331\n",
      "Epoch 21/50\n",
      "164/164 [==============================] - 45s 276ms/step - loss: 1.9710 - categorical_accuracy: 0.5349 - top_2_accuracy: 0.7424 - top_3_accuracy: 0.8630 - val_loss: 1.9188 - val_categorical_accuracy: 0.4755 - val_top_2_accuracy: 0.7043 - val_top_3_accuracy: 0.8381\n",
      "Epoch 22/50\n",
      "164/164 [==============================] - 45s 275ms/step - loss: 1.9731 - categorical_accuracy: 0.5381 - top_2_accuracy: 0.7409 - top_3_accuracy: 0.8600 - val_loss: 1.6025 - val_categorical_accuracy: 0.5370 - val_top_2_accuracy: 0.7514 - val_top_3_accuracy: 0.8588\n",
      "Epoch 23/50\n",
      "164/164 [==============================] - 45s 275ms/step - loss: 1.8326 - categorical_accuracy: 0.5499 - top_2_accuracy: 0.7557 - top_3_accuracy: 0.8769 - val_loss: 2.8686 - val_categorical_accuracy: 0.4424 - val_top_2_accuracy: 0.6568 - val_top_3_accuracy: 0.8012\n",
      "Epoch 24/50\n",
      "164/164 [==============================] - 45s 276ms/step - loss: 1.8082 - categorical_accuracy: 0.5588 - top_2_accuracy: 0.7645 - top_3_accuracy: 0.8766 - val_loss: 1.9116 - val_categorical_accuracy: 0.4938 - val_top_2_accuracy: 0.7078 - val_top_3_accuracy: 0.8393\n",
      "Epoch 25/50\n",
      "164/164 [==============================] - 45s 275ms/step - loss: 1.7208 - categorical_accuracy: 0.5638 - top_2_accuracy: 0.7688 - top_3_accuracy: 0.8833 - val_loss: 1.7231 - val_categorical_accuracy: 0.5093 - val_top_2_accuracy: 0.7455 - val_top_3_accuracy: 0.8479\n",
      "Epoch 26/50\n",
      "Current Learning Rate: 9.999999747378752e-05, Adjusted Learning Rate: 5e-05\n",
      "164/164 [==============================] - 45s 276ms/step - loss: 1.5952 - categorical_accuracy: 0.5853 - top_2_accuracy: 0.7844 - top_3_accuracy: 0.8938 - val_loss: 1.8127 - val_categorical_accuracy: 0.5089 - val_top_2_accuracy: 0.7171 - val_top_3_accuracy: 0.8389\n",
      "Epoch 27/50\n",
      "Current Learning Rate: 4.999999873689376e-05, Adjusted Learning Rate: 5e-05\n",
      "164/164 [==============================] - 45s 275ms/step - loss: 1.5333 - categorical_accuracy: 0.5954 - top_2_accuracy: 0.7958 - top_3_accuracy: 0.9004 - val_loss: 1.7953 - val_categorical_accuracy: 0.4922 - val_top_2_accuracy: 0.7132 - val_top_3_accuracy: 0.8253\n",
      "Epoch 28/50\n",
      "Current Learning Rate: 4.999999873689376e-05, Adjusted Learning Rate: 5e-05\n",
      "164/164 [==============================] - 45s 275ms/step - loss: 1.4806 - categorical_accuracy: 0.5994 - top_2_accuracy: 0.7997 - top_3_accuracy: 0.9025 - val_loss: 1.8231 - val_categorical_accuracy: 0.5202 - val_top_2_accuracy: 0.7237 - val_top_3_accuracy: 0.8420\n",
      "Epoch 29/50\n",
      "Current Learning Rate: 4.999999873689376e-05, Adjusted Learning Rate: 5e-05\n",
      "164/164 [==============================] - 45s 275ms/step - loss: 1.4071 - categorical_accuracy: 0.5955 - top_2_accuracy: 0.8001 - top_3_accuracy: 0.9017 - val_loss: 1.6990 - val_categorical_accuracy: 0.5054 - val_top_2_accuracy: 0.7358 - val_top_3_accuracy: 0.8529\n",
      "Epoch 30/50\n",
      "Current Learning Rate: 4.999999873689376e-05, Adjusted Learning Rate: 5e-05\n",
      "164/164 [==============================] - 45s 275ms/step - loss: 1.4118 - categorical_accuracy: 0.6052 - top_2_accuracy: 0.8016 - top_3_accuracy: 0.9040 - val_loss: 1.5971 - val_categorical_accuracy: 0.5385 - val_top_2_accuracy: 0.7440 - val_top_3_accuracy: 0.8525\n",
      "Epoch 31/50\n",
      "Current Learning Rate: 4.999999873689376e-05, Adjusted Learning Rate: 5e-05\n",
      "163/164 [============================>.] - ETA: 0s - loss: 1.3408 - categorical_accuracy: 0.6208 - top_2_accuracy: 0.8117 - top_3_accuracy: 0.9084Epoch 32/50\n",
      "Current Learning Rate: 4.999999873689376e-05, Adjusted Learning Rate: 5e-05\n",
      "164/164 [==============================] - 45s 275ms/step - loss: 1.3681 - categorical_accuracy: 0.6195 - top_2_accuracy: 0.8135 - top_3_accuracy: 0.9124 - val_loss: 1.7556 - val_categorical_accuracy: 0.5027 - val_top_2_accuracy: 0.7206 - val_top_3_accuracy: 0.8339\n",
      "Epoch 33/50\n",
      "Current Learning Rate: 4.999999873689376e-05, Adjusted Learning Rate: 5e-05\n",
      "164/164 [==============================] - 45s 275ms/step - loss: 1.2877 - categorical_accuracy: 0.6280 - top_2_accuracy: 0.8223 - top_3_accuracy: 0.9170 - val_loss: 1.7772 - val_categorical_accuracy: 0.5233 - val_top_2_accuracy: 0.7358 - val_top_3_accuracy: 0.8510\n",
      "Epoch 34/50\n",
      "Current Learning Rate: 4.999999873689376e-05, Adjusted Learning Rate: 5e-05\n",
      "164/164 [==============================] - 45s 275ms/step - loss: 1.2764 - categorical_accuracy: 0.6291 - top_2_accuracy: 0.8238 - top_3_accuracy: 0.9205 - val_loss: 1.5962 - val_categorical_accuracy: 0.5342 - val_top_2_accuracy: 0.7397 - val_top_3_accuracy: 0.8416\n",
      "Epoch 35/50\n",
      "Current Learning Rate: 4.999999873689376e-05, Adjusted Learning Rate: 5e-05\n",
      "164/164 [==============================] - 45s 274ms/step - loss: 1.2028 - categorical_accuracy: 0.6428 - top_2_accuracy: 0.8366 - top_3_accuracy: 0.9253 - val_loss: 1.7743 - val_categorical_accuracy: 0.5089 - val_top_2_accuracy: 0.7183 - val_top_3_accuracy: 0.8385\n",
      "Epoch 36/50\n",
      "Current Learning Rate: 4.999999873689376e-05, Adjusted Learning Rate: 1e-05\n",
      "164/164 [==============================] - 45s 275ms/step - loss: 1.1622 - categorical_accuracy: 0.6457 - top_2_accuracy: 0.8341 - top_3_accuracy: 0.9274 - val_loss: 1.8229 - val_categorical_accuracy: 0.5113 - val_top_2_accuracy: 0.7226 - val_top_3_accuracy: 0.8323\n",
      "Epoch 37/50\n",
      "Current Learning Rate: 9.999999747378752e-06, Adjusted Learning Rate: 1e-05\n",
      "164/164 [==============================] - 45s 275ms/step - loss: 1.1750 - categorical_accuracy: 0.6500 - top_2_accuracy: 0.8369 - top_3_accuracy: 0.9263 - val_loss: 1.8243 - val_categorical_accuracy: 0.5163 - val_top_2_accuracy: 0.7198 - val_top_3_accuracy: 0.8323\n",
      "Epoch 38/50\n",
      "Current Learning Rate: 9.999999747378752e-06, Adjusted Learning Rate: 1e-05\n",
      "164/164 [==============================] - 45s 275ms/step - loss: 1.1835 - categorical_accuracy: 0.6494 - top_2_accuracy: 0.8361 - top_3_accuracy: 0.9257 - val_loss: 1.6823 - val_categorical_accuracy: 0.5265 - val_top_2_accuracy: 0.7350 - val_top_3_accuracy: 0.8537\n",
      "Epoch 39/50\n",
      "Current Learning Rate: 9.999999747378752e-06, Adjusted Learning Rate: 1e-05\n",
      "164/164 [==============================] - 45s 275ms/step - loss: 1.1533 - categorical_accuracy: 0.6503 - top_2_accuracy: 0.8372 - top_3_accuracy: 0.9285 - val_loss: 1.6281 - val_categorical_accuracy: 0.5319 - val_top_2_accuracy: 0.7358 - val_top_3_accuracy: 0.8506\n",
      "Epoch 40/50\n",
      "Current Learning Rate: 9.999999747378752e-06, Adjusted Learning Rate: 1e-05\n",
      "164/164 [==============================] - 45s 276ms/step - loss: 1.0941 - categorical_accuracy: 0.6615 - top_2_accuracy: 0.8505 - top_3_accuracy: 0.9333 - val_loss: 1.7739 - val_categorical_accuracy: 0.5210 - val_top_2_accuracy: 0.7226 - val_top_3_accuracy: 0.8416\n",
      "Epoch 41/50\n",
      "Current Learning Rate: 9.999999747378752e-06, Adjusted Learning Rate: 1e-05\n",
      "164/164 [==============================] - 45s 275ms/step - loss: 1.1350 - categorical_accuracy: 0.6593 - top_2_accuracy: 0.8475 - top_3_accuracy: 0.9343 - val_loss: 1.7679 - val_categorical_accuracy: 0.5140 - val_top_2_accuracy: 0.7241 - val_top_3_accuracy: 0.8377\n",
      "Epoch 42/50\n",
      "Current Learning Rate: 9.999999747378752e-06, Adjusted Learning Rate: 1e-05\n",
      "164/164 [==============================] - 45s 275ms/step - loss: 1.0972 - categorical_accuracy: 0.6656 - top_2_accuracy: 0.8479 - top_3_accuracy: 0.9331 - val_loss: 1.7527 - val_categorical_accuracy: 0.5156 - val_top_2_accuracy: 0.7241 - val_top_3_accuracy: 0.8389\n",
      "Epoch 43/50\n",
      "Current Learning Rate: 9.999999747378752e-06, Adjusted Learning Rate: 1e-05\n",
      "164/164 [==============================] - 45s 276ms/step - loss: 1.0830 - categorical_accuracy: 0.6698 - top_2_accuracy: 0.8531 - top_3_accuracy: 0.9300 - val_loss: 1.7619 - val_categorical_accuracy: 0.5236 - val_top_2_accuracy: 0.7264 - val_top_3_accuracy: 0.8438\n",
      "Epoch 44/50\n",
      "Current Learning Rate: 9.999999747378752e-06, Adjusted Learning Rate: 1e-05\n",
      "164/164 [==============================] - 45s 277ms/step - loss: 1.1053 - categorical_accuracy: 0.6645 - top_2_accuracy: 0.8465 - top_3_accuracy: 0.9326 - val_loss: 1.5625 - val_categorical_accuracy: 0.5381 - val_top_2_accuracy: 0.7432 - val_top_3_accuracy: 0.8560\n",
      "Epoch 45/50\n",
      "Current Learning Rate: 9.999999747378752e-06, Adjusted Learning Rate: 1e-05\n",
      "164/164 [==============================] - 45s 275ms/step - loss: 1.0943 - categorical_accuracy: 0.6642 - top_2_accuracy: 0.8488 - top_3_accuracy: 0.9330 - val_loss: 1.6966 - val_categorical_accuracy: 0.5195 - val_top_2_accuracy: 0.7311 - val_top_3_accuracy: 0.8502\n",
      "Epoch 46/50\n",
      "Current Learning Rate: 9.999999747378752e-06, Adjusted Learning Rate: 1e-05\n",
      "164/164 [==============================] - 45s 277ms/step - loss: 1.0650 - categorical_accuracy: 0.6731 - top_2_accuracy: 0.8546 - top_3_accuracy: 0.9326 - val_loss: 1.8330 - val_categorical_accuracy: 0.5144 - val_top_2_accuracy: 0.7121 - val_top_3_accuracy: 0.8342\n",
      "Epoch 47/50\n",
      "Current Learning Rate: 9.999999747378752e-06, Adjusted Learning Rate: 1e-05\n",
      "164/164 [==============================] - 45s 276ms/step - loss: 1.0727 - categorical_accuracy: 0.6766 - top_2_accuracy: 0.8490 - top_3_accuracy: 0.9335 - val_loss: 1.5850 - val_categorical_accuracy: 0.5401 - val_top_2_accuracy: 0.7444 - val_top_3_accuracy: 0.8502\n",
      "Epoch 48/50\n",
      "Current Learning Rate: 9.999999747378752e-06, Adjusted Learning Rate: 1e-05\n",
      "164/164 [==============================] - 45s 276ms/step - loss: 1.0568 - categorical_accuracy: 0.6738 - top_2_accuracy: 0.8506 - top_3_accuracy: 0.9386 - val_loss: 1.7079 - val_categorical_accuracy: 0.5198 - val_top_2_accuracy: 0.7202 - val_top_3_accuracy: 0.8424\n",
      "Epoch 49/50\n",
      "Current Learning Rate: 9.999999747378752e-06, Adjusted Learning Rate: 1e-05\n",
      "164/164 [==============================] - 46s 278ms/step - loss: 1.0631 - categorical_accuracy: 0.6716 - top_2_accuracy: 0.8513 - top_3_accuracy: 0.9371 - val_loss: 1.7533 - val_categorical_accuracy: 0.5241 - val_top_2_accuracy: 0.7245 - val_top_3_accuracy: 0.8358\n",
      "Epoch 50/50\n",
      "Current Learning Rate: 9.999999747378752e-06, Adjusted Learning Rate: 1e-05\n",
      "164/164 [==============================] - 45s 277ms/step - loss: 1.0624 - categorical_accuracy: 0.6702 - top_2_accuracy: 0.8439 - top_3_accuracy: 0.9321 - val_loss: 1.6351 - val_categorical_accuracy: 0.5335 - val_top_2_accuracy: 0.7288 - val_top_3_accuracy: 0.8447\n"
     ]
    }
   ],
   "source": [
    "model_ret, history_ret = train()"
   ]
  },
  {
   "cell_type": "code",
   "execution_count": 18,
   "metadata": {},
   "outputs": [
    {
     "data": {
      "image/png": "[encoded data removed]",
      "text/plain": [
       "<Figure size 432x288 with 1 Axes>"
      ]
     },
     "metadata": {
      "needs_background": "light"
     },
     "output_type": "display_data"
    }
   ],
   "source": [
    "# PLOTTING\n",
    "import matplotlib.pyplot as plt\n",
    "%matplotlib inline\n",
    "\n",
    "# plot the loss\n",
    "plt.plot(history_ret.history['loss'])\n",
    "plt.plot(history_ret.history['val_loss'])\n",
    "plt.title('model loss')\n",
    "plt.ylabel('loss')\n",
    "plt.xlabel('epoch')\n",
    "plt.legend(['train', 'test'], loc='upper left')\n",
    "plt.show()"
   ]
  },
  {
   "cell_type": "code",
   "execution_count": 19,
   "metadata": {},
   "outputs": [],
   "source": [
    "## PREDICTION\n",
    "from sklearn.preprocessing import LabelEncoder, LabelBinarizer\n",
    "from keras.applications import imagenet_utils\n",
    "from keras.preprocessing.image import img_to_array, load_img\n",
    "from imutils import paths\n",
    "from sklearn.metrics import confusion_matrix, classification_report, accuracy_score"
   ]
  },
  {
   "cell_type": "code",
   "execution_count": 20,
   "metadata": {},
   "outputs": [
    {
     "name": "stdout",
     "output_type": "stream",
     "text": [
      "Found 1064 images belonging to 7 classes.\n",
      "{'akiec': 0, 'bcc': 1, 'bkl': 2, 'df': 3, 'mel': 4, 'nv': 5, 'vasc': 6}\n"
     ]
    }
   ],
   "source": [
    "# method-1\n",
    "def load_test_data(directory):\n",
    "    data = []\n",
    "    labels = []\n",
    "    image_paths = list(paths.list_images(directory))\n",
    "    for i, image_path in enumerate(image_paths):\n",
    "        # read\n",
    "        image = cv2.cvtColor(cv2.imread(image_path), cv2.COLOR_BGR2RGB)\n",
    "        # keras format\n",
    "        image = img_to_array(image, data_format=\"channels_last\")\n",
    "        label = image_path.split(os.path.sep)[-2]\n",
    "        # append\n",
    "        data.append(image)\n",
    "        labels.append(label)\n",
    "    # conversions\n",
    "    data = np.array(data)\n",
    "    data = data.astype(\"float\")\n",
    "    return data, np.array(labels)\n",
    "\n",
    "# easy generator method\n",
    "data_generator = ImageDataGenerator(rescale=1./255)\n",
    "\n",
    "test_generator = data_generator.flow_from_directory(\n",
    "    directory=\"ham_labled/test/\",\n",
    "    target_size=(IM_WIDTH, IM_HEIGHT),\n",
    "    shuffle=False,\n",
    "    color_mode=\"rgb\",\n",
    "    class_mode=\"categorical\",\n",
    "    batch_size=1\n",
    ")\n",
    "print(test_generator.class_indices)"
   ]
  },
  {
   "cell_type": "code",
   "execution_count": 21,
   "metadata": {},
   "outputs": [
    {
     "name": "stdout",
     "output_type": "stream",
     "text": [
      "val_loss: 1.7794697197359193\n",
      "val_cat_acc: 0.5206766917293233\n",
      "val_top_2_acc: 0.75\n",
      "val_top_3_acc: 0.8740601503759399\n"
     ]
    }
   ],
   "source": [
    "test_loss, test_cat_acc, test_top_2_acc, test_top_3_acc = model_ret.evaluate_generator(test_generator, steps=test_generator.samples)\n",
    "\n",
    "print('val_loss:', test_loss)\n",
    "print('val_cat_acc:', test_cat_acc)\n",
    "print('val_top_2_acc:', test_top_2_acc)\n",
    "print('val_top_3_acc:', test_top_3_acc)"
   ]
  },
  {
   "cell_type": "code",
   "execution_count": 22,
   "metadata": {},
   "outputs": [
    {
     "name": "stdout",
     "output_type": "stream",
     "text": [
      "1064/1064 [==============================] - 7s 6ms/step\n",
      "(1064, 7)\n"
     ]
    }
   ],
   "source": [
    "# PREDICT\n",
    "predictions = model_ret.predict_generator(test_generator, steps=test_generator.samples, verbose=1)\n",
    "print(predictions.shape)\n",
    "y_pred = np.argmax(predictions, axis=1)\n",
    "y_test = test_generator.classes"
   ]
  },
  {
   "cell_type": "code",
   "execution_count": 23,
   "metadata": {},
   "outputs": [
    {
     "name": "stdout",
     "output_type": "stream",
     "text": [
      "              precision    recall  f1-score   support\n",
      "\n",
      "       akiec       0.48      0.17      0.25        66\n",
      "         bcc       0.50      0.17      0.25       103\n",
      "         bkl       0.38      0.27      0.31       220\n",
      "          df       0.06      0.13      0.08        23\n",
      "         mel       0.51      0.41      0.45       223\n",
      "          nv       0.56      0.83      0.67       400\n",
      "        vasc       0.41      0.38      0.39        29\n",
      "\n",
      "   micro avg       0.49      0.49      0.49      1064\n",
      "   macro avg       0.41      0.34      0.34      1064\n",
      "weighted avg       0.49      0.49      0.46      1064\n",
      "\n"
     ]
    }
   ],
   "source": [
    "report = classification_report(y_test, y_pred, target_names=['akiec', 'bcc', 'bkl', 'df', 'mel','nv', 'vasc'])\n",
    "print(report)"
   ]
  },
  {
   "cell_type": "code",
   "execution_count": 24,
   "metadata": {},
   "outputs": [
    {
     "data": {
      "text/plain": [
       "<matplotlib.axes._subplots.AxesSubplot at 0x7f4e692fc518>"
      ]
     },
     "execution_count": 24,
     "metadata": {},
     "output_type": "execute_result"
    },
    {
     "data": {
      "image/png": "[encoded data removed]",
      "text/plain": [
       "<Figure size 432x288 with 1 Axes>"
      ]
     },
     "metadata": {
      "needs_background": "light"
     },
     "output_type": "display_data"
    }
   ],
   "source": [
    "import seaborn as sns\n",
    "from sklearn.metrics import confusion_matrix\n",
    "sns.heatmap(\n",
    "    confusion_matrix(y_test, y_pred), \n",
    "    annot=True, \n",
    "    fmt=\"d\", \n",
    "    cbar = False, \n",
    "    cmap = plt.cm.Blues\n",
    ")"
   ]
  },
  {
   "cell_type": "code",
   "execution_count": null,
   "metadata": {},
   "outputs": [],
   "source": []
  },
  {
   "cell_type": "code",
   "execution_count": null,
   "metadata": {},
   "outputs": [],
   "source": []
  },
  {
   "cell_type": "code",
   "execution_count": null,
   "metadata": {},
   "outputs": [],
   "source": []
  }
 ],
 "metadata": {
  "kernelspec": {
   "display_name": "Python 3",
   "language": "python",
   "name": "python3"
  },
  "language_info": {
   "codemirror_mode": {
    "name": "ipython",
    "version": 3
   },
   "file_extension": ".py",
   "mimetype": "text/x-python",
   "name": "python",
   "nbconvert_exporter": "python",
   "pygments_lexer": "ipython3",
   "version": "3.6.5"
  }
 },
 "nbformat": 4,
 "nbformat_minor": 2
}
