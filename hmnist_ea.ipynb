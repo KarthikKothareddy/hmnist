{
 "cells": [
  {
   "cell_type": "code",
   "execution_count": 1,
   "metadata": {},
   "outputs": [],
   "source": [
    "import cv2\n",
    "import os\n",
    "import numpy as np\n",
    "import pandas as pd\n",
    "import matplotlib.pyplot as plt"
   ]
  },
  {
   "cell_type": "code",
   "execution_count": 2,
   "metadata": {},
   "outputs": [
    {
     "data": {
      "text/html": [
       "<div>\n",
       "<style scoped>\n",
       "    .dataframe tbody tr th:only-of-type {\n",
       "        vertical-align: middle;\n",
       "    }\n",
       "\n",
       "    .dataframe tbody tr th {\n",
       "        vertical-align: top;\n",
       "    }\n",
       "\n",
       "    .dataframe thead th {\n",
       "        text-align: right;\n",
       "    }\n",
       "</style>\n",
       "<table border=\"1\" class=\"dataframe\">\n",
       "  <thead>\n",
       "    <tr style=\"text-align: right;\">\n",
       "      <th></th>\n",
       "      <th>lesion_id</th>\n",
       "      <th>image_id</th>\n",
       "      <th>dx</th>\n",
       "      <th>dx_type</th>\n",
       "      <th>age</th>\n",
       "      <th>sex</th>\n",
       "      <th>localization</th>\n",
       "    </tr>\n",
       "  </thead>\n",
       "  <tbody>\n",
       "    <tr>\n",
       "      <th>count</th>\n",
       "      <td>10015</td>\n",
       "      <td>10015</td>\n",
       "      <td>10015</td>\n",
       "      <td>10015</td>\n",
       "      <td>9958.000000</td>\n",
       "      <td>10015</td>\n",
       "      <td>10015</td>\n",
       "    </tr>\n",
       "    <tr>\n",
       "      <th>unique</th>\n",
       "      <td>7470</td>\n",
       "      <td>10015</td>\n",
       "      <td>7</td>\n",
       "      <td>4</td>\n",
       "      <td>NaN</td>\n",
       "      <td>3</td>\n",
       "      <td>15</td>\n",
       "    </tr>\n",
       "    <tr>\n",
       "      <th>top</th>\n",
       "      <td>HAM_0000835</td>\n",
       "      <td>ISIC_0031556</td>\n",
       "      <td>nv</td>\n",
       "      <td>histo</td>\n",
       "      <td>NaN</td>\n",
       "      <td>male</td>\n",
       "      <td>back</td>\n",
       "    </tr>\n",
       "    <tr>\n",
       "      <th>freq</th>\n",
       "      <td>6</td>\n",
       "      <td>1</td>\n",
       "      <td>6705</td>\n",
       "      <td>5340</td>\n",
       "      <td>NaN</td>\n",
       "      <td>5406</td>\n",
       "      <td>2192</td>\n",
       "    </tr>\n",
       "    <tr>\n",
       "      <th>mean</th>\n",
       "      <td>NaN</td>\n",
       "      <td>NaN</td>\n",
       "      <td>NaN</td>\n",
       "      <td>NaN</td>\n",
       "      <td>51.863828</td>\n",
       "      <td>NaN</td>\n",
       "      <td>NaN</td>\n",
       "    </tr>\n",
       "    <tr>\n",
       "      <th>std</th>\n",
       "      <td>NaN</td>\n",
       "      <td>NaN</td>\n",
       "      <td>NaN</td>\n",
       "      <td>NaN</td>\n",
       "      <td>16.968614</td>\n",
       "      <td>NaN</td>\n",
       "      <td>NaN</td>\n",
       "    </tr>\n",
       "    <tr>\n",
       "      <th>min</th>\n",
       "      <td>NaN</td>\n",
       "      <td>NaN</td>\n",
       "      <td>NaN</td>\n",
       "      <td>NaN</td>\n",
       "      <td>0.000000</td>\n",
       "      <td>NaN</td>\n",
       "      <td>NaN</td>\n",
       "    </tr>\n",
       "    <tr>\n",
       "      <th>25%</th>\n",
       "      <td>NaN</td>\n",
       "      <td>NaN</td>\n",
       "      <td>NaN</td>\n",
       "      <td>NaN</td>\n",
       "      <td>40.000000</td>\n",
       "      <td>NaN</td>\n",
       "      <td>NaN</td>\n",
       "    </tr>\n",
       "    <tr>\n",
       "      <th>50%</th>\n",
       "      <td>NaN</td>\n",
       "      <td>NaN</td>\n",
       "      <td>NaN</td>\n",
       "      <td>NaN</td>\n",
       "      <td>50.000000</td>\n",
       "      <td>NaN</td>\n",
       "      <td>NaN</td>\n",
       "    </tr>\n",
       "    <tr>\n",
       "      <th>75%</th>\n",
       "      <td>NaN</td>\n",
       "      <td>NaN</td>\n",
       "      <td>NaN</td>\n",
       "      <td>NaN</td>\n",
       "      <td>65.000000</td>\n",
       "      <td>NaN</td>\n",
       "      <td>NaN</td>\n",
       "    </tr>\n",
       "    <tr>\n",
       "      <th>max</th>\n",
       "      <td>NaN</td>\n",
       "      <td>NaN</td>\n",
       "      <td>NaN</td>\n",
       "      <td>NaN</td>\n",
       "      <td>85.000000</td>\n",
       "      <td>NaN</td>\n",
       "      <td>NaN</td>\n",
       "    </tr>\n",
       "  </tbody>\n",
       "</table>\n",
       "</div>"
      ],
      "text/plain": [
       "          lesion_id      image_id     dx dx_type          age    sex  \\\n",
       "count         10015         10015  10015   10015  9958.000000  10015   \n",
       "unique         7470         10015      7       4          NaN      3   \n",
       "top     HAM_0000835  ISIC_0031556     nv   histo          NaN   male   \n",
       "freq              6             1   6705    5340          NaN   5406   \n",
       "mean            NaN           NaN    NaN     NaN    51.863828    NaN   \n",
       "std             NaN           NaN    NaN     NaN    16.968614    NaN   \n",
       "min             NaN           NaN    NaN     NaN     0.000000    NaN   \n",
       "25%             NaN           NaN    NaN     NaN    40.000000    NaN   \n",
       "50%             NaN           NaN    NaN     NaN    50.000000    NaN   \n",
       "75%             NaN           NaN    NaN     NaN    65.000000    NaN   \n",
       "max             NaN           NaN    NaN     NaN    85.000000    NaN   \n",
       "\n",
       "       localization  \n",
       "count         10015  \n",
       "unique           15  \n",
       "top            back  \n",
       "freq           2192  \n",
       "mean            NaN  \n",
       "std             NaN  \n",
       "min             NaN  \n",
       "25%             NaN  \n",
       "50%             NaN  \n",
       "75%             NaN  \n",
       "max             NaN  "
      ]
     },
     "execution_count": 2,
     "metadata": {},
     "output_type": "execute_result"
    }
   ],
   "source": [
    "metadata = pd.read_csv(\"../HAM10000_metadata.csv\")\n",
    "metadata.describe(include=\"all\")"
   ]
  },
  {
   "cell_type": "code",
   "execution_count": 4,
   "metadata": {},
   "outputs": [
    {
     "name": "stdout",
     "output_type": "stream",
     "text": [
      "     lesion_id      image_id   dx dx_type   age   sex localization\n",
      "0  HAM_0000118  ISIC_0027419  bkl   histo  80.0  male        scalp\n",
      "1  HAM_0000118  ISIC_0025030  bkl   histo  80.0  male        scalp\n",
      "2  HAM_0002730  ISIC_0026769  bkl   histo  80.0  male        scalp\n",
      "3  HAM_0002730  ISIC_0025661  bkl   histo  80.0  male        scalp\n",
      "4  HAM_0001466  ISIC_0031633  bkl   histo  75.0  male          ear\n"
     ]
    }
   ],
   "source": [
    "print(metadata.head(5))"
   ]
  },
  {
   "cell_type": "code",
   "execution_count": 5,
   "metadata": {},
   "outputs": [
    {
     "name": "stdout",
     "output_type": "stream",
     "text": [
      "['bkl', 'nv', 'df', 'mel', 'vasc', 'bcc', 'akiec']\n"
     ]
    }
   ],
   "source": [
    "labels = list(metadata.dx.unique())\n",
    "print(labels)"
   ]
  },
  {
   "cell_type": "code",
   "execution_count": 6,
   "metadata": {},
   "outputs": [
    {
     "name": "stdout",
     "output_type": "stream",
     "text": [
      "nv       6705\n",
      "mel      1113\n",
      "bkl      1099\n",
      "bcc       514\n",
      "akiec     327\n",
      "vasc      142\n",
      "df        115\n",
      "Name: dx, dtype: int64\n"
     ]
    },
    {
     "data": {
      "text/plain": [
       "<matplotlib.axes._subplots.AxesSubplot at 0x7ffaac08c3c8>"
      ]
     },
     "execution_count": 6,
     "metadata": {},
     "output_type": "execute_result"
    },
    {
     "data": {
      "image/png": "[encoded data removed]",
      "text/plain": [
       "<Figure size 720x360 with 1 Axes>"
      ]
     },
     "metadata": {},
     "output_type": "display_data"
    }
   ],
   "source": [
    "fig, ax1 = plt.subplots(1, 1, figsize = (10, 5))\n",
    "counts = metadata[\"dx\"].value_counts()\n",
    "print(counts)\n",
    "counts.plot(kind='bar', ax=ax1)\n",
    "#metadata[\"dx\"].hist()"
   ]
  },
  {
   "cell_type": "code",
   "execution_count": 7,
   "metadata": {},
   "outputs": [],
   "source": [
    "threshold = 2000\n",
    "\n",
    "# parse out all classes to individual dataframes\n",
    "nv = metadata[metadata[\"dx\"] == \"nv\"]\n",
    "nv = nv.sample(n=threshold)\n",
    "nv.name = \"nv\"\n",
    "mel = metadata[metadata[\"dx\"] == \"mel\"]\n",
    "mel.name = \"mel\"\n",
    "bkl = metadata[metadata[\"dx\"] == \"bkl\"]\n",
    "bkl.name = \"bkl\"\n",
    "bcc = metadata[metadata[\"dx\"] == \"bcc\"]\n",
    "bcc.name = \"bcc\"\n",
    "akiec = metadata[metadata[\"dx\"] == \"akiec\"]\n",
    "akiec.name = \"akiec\"\n",
    "vasc = metadata[metadata[\"dx\"] == \"vasc\"]\n",
    "vasc.name = \"vasc\"\n",
    "df = metadata[metadata[\"dx\"] == \"df\"]\n",
    "df.name = \"df\"\n",
    "# list out\n",
    "classes = [nv, mel, bkl, bcc, akiec, vasc, df]"
   ]
  },
  {
   "cell_type": "code",
   "execution_count": 8,
   "metadata": {},
   "outputs": [],
   "source": [
    "# preprocess accordingly\n",
    "def preprocess(_image):\n",
    "    #_image = cv2.cvtColor(_image, cv2.COLOR_BGR2RGB)\n",
    "    \n",
    "    #_image = cv2.equalizeHist(_image) \n",
    "    #_image = cv2.GaussianBlur(_image, (3,3), 1)\n",
    "    _image = cv2.cvtColor(_image, cv2.COLOR_RGB2HSV)\n",
    "    H,S,V = cv2.split(_image)\n",
    "    _V = cv2.equalizeHist(V) \n",
    "    _image = cv2.merge([H, S, _V])\n",
    "    _image = cv2.cvtColor(_image, cv2.COLOR_HSV2RGB)\n",
    "    \n",
    "    return _image"
   ]
  },
  {
   "cell_type": "markdown",
   "metadata": {},
   "source": [
    "## Seperate into Respective Folders"
   ]
  },
  {
   "cell_type": "code",
   "execution_count": 10,
   "metadata": {},
   "outputs": [
    {
     "name": "stdout",
     "output_type": "stream",
     "text": [
      "Training: 1600, Test: 400 images found for class nv\n",
      "Moving complete for class nv...\n",
      "Training: 890, Test: 223 images found for class mel\n",
      "Moving complete for class mel...\n",
      "Training: 879, Test: 220 images found for class bkl\n",
      "Moving complete for class bkl...\n",
      "Training: 411, Test: 103 images found for class bcc\n",
      "Moving complete for class bcc...\n",
      "Training: 261, Test: 66 images found for class akiec\n",
      "Moving complete for class akiec...\n",
      "Training: 113, Test: 29 images found for class vasc\n",
      "Moving complete for class vasc...\n",
      "Training: 92, Test: 23 images found for class df\n",
      "Moving complete for class df...\n"
     ]
    }
   ],
   "source": [
    "import shutil\n",
    "from sklearn.model_selection import train_test_split\n",
    "\n",
    "#threshold = 2000\n",
    "# seperate images to each directory \n",
    "os.mkdir(\"ham_labled\")\n",
    "os.mkdir(\"ham_labled/train\")\n",
    "os.mkdir(\"ham_labled/test\")\n",
    "\n",
    "# each class\n",
    "for _class in classes:\n",
    "    _train, _test = train_test_split(_class, test_size = 0.2)\n",
    "    print(\"Training: {}, Test: {} images found for class {}\".format(len(_train), len(_test), _class.name))\n",
    "    # train \n",
    "    os.mkdir(\"ham_labled/train/{}\".format(_class.name))\n",
    "    for i, row in _train.iterrows():\n",
    "        image_id = row[\"image_id\"]\n",
    "        img = cv2.imread(\"../ham10000/{}.jpg\".format(image_id))\n",
    "        img = cv2.resize(img, (224, 224))\n",
    "        cv2.imwrite(\"../ham10000/{}.jpg\".format(image_id), img)\n",
    "        shutil.move(\n",
    "            src=\"../ham10000/{}.jpg\".format(image_id), \n",
    "            dst=\"ham_labled/train/{}/\".format(_class.name)\n",
    "        )\n",
    "    # test\n",
    "    os.mkdir(\"ham_labled/test/{}\".format(_class.name))\n",
    "    for i, row in _test.iterrows():\n",
    "        image_id = row[\"image_id\"]\n",
    "        img = cv2.imread(\"../ham10000/{}.jpg\".format(image_id))\n",
    "        img = cv2.resize(img, (224, 224))\n",
    "        cv2.imwrite(\"../ham10000/{}.jpg\".format(image_id), img)\n",
    "        shutil.move(\n",
    "            src=\"../ham10000/{}.jpg\".format(image_id), \n",
    "            dst=\"ham_labled/test/{}/\".format(_class.name)\n",
    "        )\n",
    "    print(\"Moving complete for class {}...\".format(_class.name))"
   ]
  },
  {
   "cell_type": "markdown",
   "metadata": {},
   "source": [
    "## Image Augumentation\n",
    "\n",
    "Before we can start passing above images through a CNN feature extractor, we will augument images to address class imbalance problem and set a threshold of 5000 images per class."
   ]
  },
  {
   "cell_type": "code",
   "execution_count": 11,
   "metadata": {},
   "outputs": [
    {
     "name": "stderr",
     "output_type": "stream",
     "text": [
      "Using TensorFlow backend.\n"
     ]
    }
   ],
   "source": [
    "from keras.preprocessing.image import ImageDataGenerator\n",
    "\n",
    "_generator = ImageDataGenerator(\n",
    "    width_shift_range=0.001,\n",
    "    height_shift_range=0.001,\n",
    "    zoom_range=0.01,\n",
    "    horizontal_flip=True,\n",
    "    vertical_flip=True,\n",
    "    rotation_range=0.99\n",
    ")"
   ]
  },
  {
   "cell_type": "code",
   "execution_count": 12,
   "metadata": {},
   "outputs": [],
   "source": [
    "from keras.preprocessing.image import img_to_array\n",
    "\n",
    "def load_images(directory):\n",
    "    images = [cv2.cvtColor(cv2.imread(os.path.join(directory, file)), cv2.COLOR_BGR2RGB)\n",
    "              for file in os.listdir(directory)]\n",
    "    images = [img_to_array(image, data_format=\"channels_last\") for image in images]\n",
    "    images = np.array(images)\n",
    "    images = images.astype(\"float\")\n",
    "    return images\n",
    "    "
   ]
  },
  {
   "cell_type": "code",
   "execution_count": 13,
   "metadata": {},
   "outputs": [
    {
     "name": "stdout",
     "output_type": "stream",
     "text": [
      "Augumenting images for class mel...\n",
      "Augumenting images for class bkl...\n",
      "Augumenting images for class bcc...\n",
      "Augumenting images for class akiec...\n",
      "Augumenting images for class vasc...\n",
      "Augumenting images for class df...\n"
     ]
    }
   ],
   "source": [
    "batch = 32\n",
    "for _class in classes:\n",
    "    _name = _class.name\n",
    "    if len(_class) >= threshold:\n",
    "        continue\n",
    "    else:\n",
    "        # what a pain ....PHEW!\n",
    "        if os.path.exists(\"ham_labled/train/{}/.ipynb_checkpoints/\".format(_name)):\n",
    "            shutil.rmtree(\"ham_labled/train/{}/.ipynb_checkpoints/\".format(_name))\n",
    "        print(\"Augumenting images for class {}...\".format(_name))\n",
    "        X = load_images(\"ham_labled/train/{}/\".format(_name))\n",
    "        _auguments = _generator.flow(\n",
    "            x=X,\n",
    "            y=None,\n",
    "            batch_size=batch,\n",
    "            save_format=\"jpg\",\n",
    "            save_prefix=\"augumented\",\n",
    "            save_to_dir=\"ham_labled/train/{}/\".format(_name)\n",
    "        )\n",
    "        for _ in range(int(np.ceil((threshold - X.shape[0])/batch))):\n",
    "            x = next(_auguments)"
   ]
  },
  {
   "cell_type": "markdown",
   "metadata": {},
   "source": [
    "## Read the newly generated Images and process them accordingly"
   ]
  },
  {
   "cell_type": "code",
   "execution_count": 3,
   "metadata": {},
   "outputs": [
    {
     "name": "stdout",
     "output_type": "stream",
     "text": [
      "Collecting imutils\n",
      "  Downloading https://files.pythonhosted.org/packages/5e/0c/659c2bdae8e8ca5ef810b9da02db28feaa29ea448ff36b65a1664ff28142/imutils-0.5.2.tar.gz\n",
      "Building wheels for collected packages: imutils\n",
      "  Running setup.py bdist_wheel for imutils ... \u001b[?25ldone\n",
      "\u001b[?25h  Stored in directory: /root/.cache/pip/wheels/b2/40/59/139d450e68847ef2f27d876d527b13389dac23df0f66526b5d\n",
      "Successfully built imutils\n",
      "\u001b[31mmenpo 0.8.1 has requirement matplotlib<2.0,>=1.4, but you'll have matplotlib 3.0.2 which is incompatible.\u001b[0m\n",
      "\u001b[31mmenpo 0.8.1 has requirement pillow<5.0,>=3.0, but you'll have pillow 5.4.0 which is incompatible.\u001b[0m\n",
      "\u001b[31mmenpo 0.8.1 has requirement scipy<1.0,>=0.16, but you'll have scipy 1.2.0 which is incompatible.\u001b[0m\n",
      "Installing collected packages: imutils\n",
      "Successfully installed imutils-0.5.2\n",
      "\u001b[33mYou are using pip version 10.0.1, however version 19.2.2 is available.\n",
      "You should consider upgrading via the 'pip install --upgrade pip' command.\u001b[0m\n",
      "13190 total images found...\n"
     ]
    }
   ],
   "source": [
    "try:\n",
    "    from imutils import paths\n",
    "except ModuleNotFoundError:\n",
    "    !pip install imutils\n",
    "    from imutils import paths\n",
    "import random\n",
    "import os\n",
    "from sklearn.preprocessing import LabelEncoder\n",
    "\n",
    "image_paths = list(paths.list_images(\"ham_labled/train\"))\n",
    "random.shuffle(image_paths)\n",
    "\n",
    "labels = [cls.split(os.path.sep)[-2] for cls in image_paths]\n",
    "le = LabelEncoder()\n",
    "labels = le.fit_transform(labels)\n",
    "\n",
    "print(\"{} total images found...\".format(len(image_paths)))\n"
   ]
  },
  {
   "cell_type": "markdown",
   "metadata": {},
   "source": [
    "## Model"
   ]
  },
  {
   "cell_type": "code",
   "execution_count": 4,
   "metadata": {},
   "outputs": [
    {
     "name": "stderr",
     "output_type": "stream",
     "text": [
      "Using TensorFlow backend.\n"
     ]
    }
   ],
   "source": [
    "import tensorflow as tf\n",
    "from keras import backend as K\n",
    "from keras import callbacks\n",
    "from keras.models import Sequential, Model\n",
    "from keras.metrics import categorical_accuracy, top_k_categorical_accuracy\n",
    "from keras.layers.normalization import BatchNormalization\n",
    "from keras.layers.convolutional import Conv2D, MaxPooling2D\n",
    "from keras.layers.core import Activation, Flatten, Dropout, Dense\n",
    "from keras.preprocessing.image import ImageDataGenerator\n",
    "from keras.optimizers import Adam\n",
    "from keras.regularizers import l2\n",
    "from keras.callbacks import ReduceLROnPlateau, LearningRateScheduler\n",
    "from keras.applications import ResNet50"
   ]
  },
  {
   "cell_type": "code",
   "execution_count": 5,
   "metadata": {},
   "outputs": [],
   "source": [
    "class CustomNet(object):\n",
    "\n",
    "    def __init__(self, height, width, channels, classes, parameter_scaling):\n",
    "        self.height = height\n",
    "        self.width = width\n",
    "        self.channels = channels\n",
    "        self.output_classes = classes\n",
    "        self.scale = parameter_scaling\n",
    "        \n",
    "   \n",
    "    def model(self):\n",
    "        _model = ResNet50(\n",
    "            weights=\"imagenet\",\n",
    "            include_top=False,\n",
    "            input_shape=(self.height, self.width, self.channels)\n",
    "        )\n",
    "        x = _model.output\n",
    "        x = Dropout(0.75)(x)\n",
    "        x = Flatten()(x)\n",
    "        x = Dense(512, activation=\"relu\")(x)\n",
    "        x = Dropout(0.75)(x)\n",
    "        x = Dense(self.output_classes, activation=\"softmax\")(x)\n",
    "        model = Model(inputs=_model.input, outputs=x)\n",
    "        return model"
   ]
  },
  {
   "cell_type": "code",
   "execution_count": 22,
   "metadata": {},
   "outputs": [],
   "source": [
    "import multiprocessing\n",
    "manager = multiprocessing.Manager()\n",
    "queue = manager.Queue(maxsize=10)\n",
    "\n",
    "BATCH_SIZE = 64\n",
    "LR = 1e-4\n",
    "EPOCHS = 35\n",
    "PARAMETER_SCALING = 16\n",
    "IM_WIDTH = 224\n",
    "IM_HEIGHT = 224\n",
    "\n",
    "def lr_scheduler(epoch, lr):\n",
    "    adjusted_lr = lr\n",
    "    if epoch >= 20:\n",
    "        adjusted_lr = 1e-5\n",
    "        print(\"Current Learning Rate: {}, Adjusted Learning Rate: {}\".format(\n",
    "            str(lr), str(adjusted_lr)\n",
    "        ))\n",
    "    return adjusted_lr\n",
    "\n",
    "def top_2_accuracy(y_true, y_pred):\n",
    "    return top_k_categorical_accuracy(y_true, y_pred, k=2)\n",
    "\n",
    "def top_3_accuracy(y_true, y_pred):\n",
    "    return top_k_categorical_accuracy(y_true, y_pred, k=3)\n",
    "\n",
    "def train():\n",
    "    \n",
    "        h_callbacks = [\n",
    "            callbacks.TensorBoard(\n",
    "                log_dir=\"tensorboard\",\n",
    "                write_graph=True,\n",
    "                write_images=False\n",
    "            ),\n",
    "            LearningRateScheduler(lr_scheduler)\n",
    "        ]\n",
    "        _model = CustomNet(\n",
    "            height=IM_HEIGHT,\n",
    "            width=IM_WIDTH,\n",
    "            channels=3,\n",
    "            classes=7,\n",
    "            parameter_scaling=PARAMETER_SCALING\n",
    "        ).model()\n",
    "        _model.compile(\n",
    "            loss=\"categorical_crossentropy\",\n",
    "            optimizer=Adam(lr=LR),\n",
    "            metrics=[\"accuracy\", categorical_accuracy, top_2_accuracy, top_3_accuracy]\n",
    "        )\n",
    "        \n",
    "        # generators made according to the post\n",
    "        # https://github.com/keras-team/keras/issues/5862\n",
    "        data_generator = ImageDataGenerator(\n",
    "            rescale=1./255,\n",
    "            validation_split=0.2\n",
    "        )\n",
    "        train_generator = data_generator.flow_from_directory(\n",
    "            directory=\"ham_labled/train\",\n",
    "            target_size=(IM_WIDTH, IM_HEIGHT),\n",
    "            shuffle=True,\n",
    "            color_mode=\"rgb\",\n",
    "            class_mode=\"categorical\",\n",
    "            batch_size=BATCH_SIZE,\n",
    "            subset=\"training\"\n",
    "        )\n",
    "        valid_generator = data_generator.flow_from_directory(\n",
    "            directory=\"ham_labled/train\",\n",
    "            target_size=(IM_WIDTH, IM_HEIGHT),\n",
    "            shuffle=True,\n",
    "            color_mode=\"rgb\",\n",
    "            class_mode=\"categorical\",\n",
    "            batch_size=BATCH_SIZE,\n",
    "            subset=\"validation\"\n",
    "        )\n",
    "        # train\n",
    "        history = _model.fit_generator(\n",
    "            generator=train_generator,\n",
    "            steps_per_epoch=train_generator.samples//train_generator.batch_size,\n",
    "            validation_data=valid_generator,\n",
    "            validation_steps=valid_generator.samples//valid_generator.batch_size,\n",
    "            callbacks=h_callbacks,\n",
    "            epochs=EPOCHS\n",
    "        )\n",
    "        return _model, history"
   ]
  },
  {
   "cell_type": "code",
   "execution_count": 23,
   "metadata": {},
   "outputs": [
    {
     "name": "stdout",
     "output_type": "stream",
     "text": [
      "Found 10556 images belonging to 7 classes.\n",
      "Found 2634 images belonging to 7 classes.\n",
      "Epoch 1/35\n",
      "164/164 [==============================] - 68s 416ms/step - loss: 2.7047 - acc: 0.4506 - categorical_accuracy: 0.4506 - top_2_accuracy: 0.6470 - top_3_accuracy: 0.7812 - val_loss: 1.1802 - val_acc: 0.5320 - val_categorical_accuracy: 0.5320 - val_top_2_accuracy: 0.7348 - val_top_3_accuracy: 0.8689\n",
      "Epoch 2/35\n",
      "164/164 [==============================] - 50s 303ms/step - loss: 0.9338 - acc: 0.6737 - categorical_accuracy: 0.6737 - top_2_accuracy: 0.8445 - top_3_accuracy: 0.9313 - val_loss: 1.3301 - val_acc: 0.5712 - val_categorical_accuracy: 0.5712 - val_top_2_accuracy: 0.7767 - val_top_3_accuracy: 0.8763\n",
      "Epoch 3/35\n",
      "164/164 [==============================] - 50s 303ms/step - loss: 0.6409 - acc: 0.7739 - categorical_accuracy: 0.7739 - top_2_accuracy: 0.9108 - top_3_accuracy: 0.9683 - val_loss: 1.6257 - val_acc: 0.5568 - val_categorical_accuracy: 0.5568 - val_top_2_accuracy: 0.7479 - val_top_3_accuracy: 0.8366\n",
      "Epoch 4/35\n",
      "164/164 [==============================] - 50s 303ms/step - loss: 0.4701 - acc: 0.8343 - categorical_accuracy: 0.8343 - top_2_accuracy: 0.9430 - top_3_accuracy: 0.9839 - val_loss: 1.8876 - val_acc: 0.5494 - val_categorical_accuracy: 0.5494 - val_top_2_accuracy: 0.7121 - val_top_3_accuracy: 0.7984\n",
      "Epoch 5/35\n",
      "164/164 [==============================] - 50s 304ms/step - loss: 0.3755 - acc: 0.8681 - categorical_accuracy: 0.8681 - top_2_accuracy: 0.9638 - top_3_accuracy: 0.9901 - val_loss: 3.7216 - val_acc: 0.4553 - val_categorical_accuracy: 0.4553 - val_top_2_accuracy: 0.6370 - val_top_3_accuracy: 0.7206\n",
      "Epoch 6/35\n",
      "164/164 [==============================] - 50s 303ms/step - loss: 0.2680 - acc: 0.9036 - categorical_accuracy: 0.9036 - top_2_accuracy: 0.9768 - top_3_accuracy: 0.9949 - val_loss: 1.4322 - val_acc: 0.6926 - val_categorical_accuracy: 0.6926 - val_top_2_accuracy: 0.8553 - val_top_3_accuracy: 0.9125\n",
      "Epoch 7/35\n",
      "164/164 [==============================] - 50s 304ms/step - loss: 0.2713 - acc: 0.9092 - categorical_accuracy: 0.9092 - top_2_accuracy: 0.9767 - top_3_accuracy: 0.9958 - val_loss: 0.9080 - val_acc: 0.7564 - val_categorical_accuracy: 0.7564 - val_top_2_accuracy: 0.8860 - val_top_3_accuracy: 0.9471\n",
      "Epoch 8/35\n",
      "164/164 [==============================] - 50s 303ms/step - loss: 0.1982 - acc: 0.9344 - categorical_accuracy: 0.9344 - top_2_accuracy: 0.9853 - top_3_accuracy: 0.9964 - val_loss: 1.7827 - val_acc: 0.6226 - val_categorical_accuracy: 0.6226 - val_top_2_accuracy: 0.7949 - val_top_3_accuracy: 0.8848\n",
      "Epoch 9/35\n",
      "164/164 [==============================] - 50s 304ms/step - loss: 0.1607 - acc: 0.9473 - categorical_accuracy: 0.9473 - top_2_accuracy: 0.9888 - top_3_accuracy: 0.9975 - val_loss: 1.7966 - val_acc: 0.6195 - val_categorical_accuracy: 0.6195 - val_top_2_accuracy: 0.7677 - val_top_3_accuracy: 0.8821\n",
      "Epoch 10/35\n",
      "164/164 [==============================] - 50s 303ms/step - loss: 0.1421 - acc: 0.9540 - categorical_accuracy: 0.9540 - top_2_accuracy: 0.9894 - top_3_accuracy: 0.9974 - val_loss: 2.2471 - val_acc: 0.6304 - val_categorical_accuracy: 0.6304 - val_top_2_accuracy: 0.7700 - val_top_3_accuracy: 0.8385\n",
      "Epoch 11/35\n",
      "164/164 [==============================] - 50s 305ms/step - loss: 0.1475 - acc: 0.9560 - categorical_accuracy: 0.9560 - top_2_accuracy: 0.9908 - top_3_accuracy: 0.9977 - val_loss: 1.0398 - val_acc: 0.7708 - val_categorical_accuracy: 0.7708 - val_top_2_accuracy: 0.8957 - val_top_3_accuracy: 0.9475\n",
      "Epoch 12/35\n",
      "164/164 [==============================] - 50s 304ms/step - loss: 0.0984 - acc: 0.9686 - categorical_accuracy: 0.9686 - top_2_accuracy: 0.9936 - top_3_accuracy: 0.9990 - val_loss: 3.2343 - val_acc: 0.5751 - val_categorical_accuracy: 0.5751 - val_top_2_accuracy: 0.7241 - val_top_3_accuracy: 0.8047\n",
      "Epoch 13/35\n",
      "164/164 [==============================] - 50s 303ms/step - loss: 0.0952 - acc: 0.9712 - categorical_accuracy: 0.9712 - top_2_accuracy: 0.9952 - top_3_accuracy: 0.9990 - val_loss: 2.6889 - val_acc: 0.6346 - val_categorical_accuracy: 0.6346 - val_top_2_accuracy: 0.7856 - val_top_3_accuracy: 0.8926\n",
      "Epoch 14/35\n",
      "164/164 [==============================] - 50s 302ms/step - loss: 0.1010 - acc: 0.9710 - categorical_accuracy: 0.9710 - top_2_accuracy: 0.9950 - top_3_accuracy: 0.9985 - val_loss: 3.4504 - val_acc: 0.5156 - val_categorical_accuracy: 0.5156 - val_top_2_accuracy: 0.7144 - val_top_3_accuracy: 0.8016\n",
      "Epoch 15/35\n",
      "164/164 [==============================] - 50s 302ms/step - loss: 0.1130 - acc: 0.9718 - categorical_accuracy: 0.9718 - top_2_accuracy: 0.9953 - top_3_accuracy: 0.9987 - val_loss: 1.6072 - val_acc: 0.6988 - val_categorical_accuracy: 0.6988 - val_top_2_accuracy: 0.8724 - val_top_3_accuracy: 0.9424\n",
      "Epoch 16/35\n",
      "164/164 [==============================] - 50s 302ms/step - loss: 0.1060 - acc: 0.9704 - categorical_accuracy: 0.9704 - top_2_accuracy: 0.9948 - top_3_accuracy: 0.9989 - val_loss: 3.9281 - val_acc: 0.4868 - val_categorical_accuracy: 0.4868 - val_top_2_accuracy: 0.6428 - val_top_3_accuracy: 0.7241\n",
      "Epoch 17/35\n",
      "164/164 [==============================] - 50s 302ms/step - loss: 0.0915 - acc: 0.9727 - categorical_accuracy: 0.9727 - top_2_accuracy: 0.9962 - top_3_accuracy: 0.9992 - val_loss: 3.6602 - val_acc: 0.5128 - val_categorical_accuracy: 0.5128 - val_top_2_accuracy: 0.6872 - val_top_3_accuracy: 0.7817\n",
      "Epoch 18/35\n",
      "164/164 [==============================] - 50s 302ms/step - loss: 0.1108 - acc: 0.9718 - categorical_accuracy: 0.9718 - top_2_accuracy: 0.9942 - top_3_accuracy: 0.9982 - val_loss: 2.1296 - val_acc: 0.6510 - val_categorical_accuracy: 0.6510 - val_top_2_accuracy: 0.8132 - val_top_3_accuracy: 0.8926\n",
      "Epoch 19/35\n",
      "164/164 [==============================] - 50s 303ms/step - loss: 0.0972 - acc: 0.9737 - categorical_accuracy: 0.9737 - top_2_accuracy: 0.9961 - top_3_accuracy: 0.9990 - val_loss: 1.2737 - val_acc: 0.7696 - val_categorical_accuracy: 0.7696 - val_top_2_accuracy: 0.8813 - val_top_3_accuracy: 0.9381\n",
      "Epoch 20/35\n",
      "164/164 [==============================] - 50s 302ms/step - loss: 0.0945 - acc: 0.9764 - categorical_accuracy: 0.9764 - top_2_accuracy: 0.9966 - top_3_accuracy: 0.9988 - val_loss: 2.0972 - val_acc: 0.6747 - val_categorical_accuracy: 0.6747 - val_top_2_accuracy: 0.8183 - val_top_3_accuracy: 0.9016\n",
      "Epoch 21/35\n",
      "Current Learning Rate: 9.999999747378752e-05, Adjusted Learning Rate: 1e-05\n",
      "164/164 [==============================] - 49s 302ms/step - loss: 0.0378 - acc: 0.9877 - categorical_accuracy: 0.9877 - top_2_accuracy: 0.9988 - top_3_accuracy: 1.0000 - val_loss: 1.3212 - val_acc: 0.7607 - val_categorical_accuracy: 0.7607 - val_top_2_accuracy: 0.8992 - val_top_3_accuracy: 0.9432\n",
      "Epoch 22/35\n",
      "Current Learning Rate: 9.999999747378752e-06, Adjusted Learning Rate: 1e-05\n",
      "164/164 [==============================] - 50s 303ms/step - loss: 0.0194 - acc: 0.9934 - categorical_accuracy: 0.9934 - top_2_accuracy: 0.9997 - top_3_accuracy: 1.0000 - val_loss: 1.6055 - val_acc: 0.7233 - val_categorical_accuracy: 0.7233 - val_top_2_accuracy: 0.8626 - val_top_3_accuracy: 0.9202\n",
      "Epoch 23/35\n",
      "Current Learning Rate: 9.999999747378752e-06, Adjusted Learning Rate: 1e-05\n",
      "164/164 [==============================] - 50s 302ms/step - loss: 0.0146 - acc: 0.9957 - categorical_accuracy: 0.9957 - top_2_accuracy: 0.9998 - top_3_accuracy: 1.0000 - val_loss: 1.7651 - val_acc: 0.7160 - val_categorical_accuracy: 0.7160 - val_top_2_accuracy: 0.8821 - val_top_3_accuracy: 0.9296\n",
      "Epoch 24/35\n",
      "Current Learning Rate: 9.999999747378752e-06, Adjusted Learning Rate: 1e-05\n",
      "164/164 [==============================] - 50s 302ms/step - loss: 0.0097 - acc: 0.9970 - categorical_accuracy: 0.9970 - top_2_accuracy: 0.9999 - top_3_accuracy: 1.0000 - val_loss: 1.5005 - val_acc: 0.7451 - val_categorical_accuracy: 0.7451 - val_top_2_accuracy: 0.8837 - val_top_3_accuracy: 0.9346\n",
      "Epoch 25/35\n",
      "Current Learning Rate: 9.999999747378752e-06, Adjusted Learning Rate: 1e-05\n",
      "164/164 [==============================] - 50s 302ms/step - loss: 0.0078 - acc: 0.9972 - categorical_accuracy: 0.9972 - top_2_accuracy: 0.9999 - top_3_accuracy: 0.9999 - val_loss: 1.5374 - val_acc: 0.7584 - val_categorical_accuracy: 0.7584 - val_top_2_accuracy: 0.8965 - val_top_3_accuracy: 0.9393\n",
      "Epoch 26/35\n",
      "Current Learning Rate: 9.999999747378752e-06, Adjusted Learning Rate: 1e-05\n",
      "164/164 [==============================] - 50s 303ms/step - loss: 0.0086 - acc: 0.9981 - categorical_accuracy: 0.9981 - top_2_accuracy: 1.0000 - top_3_accuracy: 1.0000 - val_loss: 1.5974 - val_acc: 0.7541 - val_categorical_accuracy: 0.7541 - val_top_2_accuracy: 0.9023 - val_top_3_accuracy: 0.9506\n",
      "Epoch 27/35\n",
      "Current Learning Rate: 9.999999747378752e-06, Adjusted Learning Rate: 1e-05\n",
      "164/164 [==============================] - 50s 302ms/step - loss: 0.0055 - acc: 0.9987 - categorical_accuracy: 0.9987 - top_2_accuracy: 1.0000 - top_3_accuracy: 1.0000 - val_loss: 1.6352 - val_acc: 0.7580 - val_categorical_accuracy: 0.7580 - val_top_2_accuracy: 0.8953 - val_top_3_accuracy: 0.9335\n",
      "Epoch 28/35\n",
      "Current Learning Rate: 9.999999747378752e-06, Adjusted Learning Rate: 1e-05\n",
      "164/164 [==============================] - 50s 302ms/step - loss: 0.0031 - acc: 0.9989 - categorical_accuracy: 0.9989 - top_2_accuracy: 1.0000 - top_3_accuracy: 1.0000 - val_loss: 1.6733 - val_acc: 0.7447 - val_categorical_accuracy: 0.7447 - val_top_2_accuracy: 0.8922 - val_top_3_accuracy: 0.9447\n",
      "Epoch 29/35\n",
      "Current Learning Rate: 9.999999747378752e-06, Adjusted Learning Rate: 1e-05\n",
      "164/164 [==============================] - 50s 302ms/step - loss: 0.0076 - acc: 0.9979 - categorical_accuracy: 0.9979 - top_2_accuracy: 0.9998 - top_3_accuracy: 1.0000 - val_loss: 2.0086 - val_acc: 0.7226 - val_categorical_accuracy: 0.7226 - val_top_2_accuracy: 0.8856 - val_top_3_accuracy: 0.9358\n",
      "Epoch 30/35\n",
      "Current Learning Rate: 9.999999747378752e-06, Adjusted Learning Rate: 1e-05\n",
      "164/164 [==============================] - 50s 302ms/step - loss: 0.0058 - acc: 0.9983 - categorical_accuracy: 0.9983 - top_2_accuracy: 0.9999 - top_3_accuracy: 0.9999 - val_loss: 1.9340 - val_acc: 0.7397 - val_categorical_accuracy: 0.7397 - val_top_2_accuracy: 0.8926 - val_top_3_accuracy: 0.9350\n",
      "Epoch 31/35\n",
      "Current Learning Rate: 9.999999747378752e-06, Adjusted Learning Rate: 1e-05\n",
      "164/164 [==============================] - 50s 303ms/step - loss: 0.0030 - acc: 0.9989 - categorical_accuracy: 0.9989 - top_2_accuracy: 1.0000 - top_3_accuracy: 1.0000 - val_loss: 1.7743 - val_acc: 0.7529 - val_categorical_accuracy: 0.7529 - val_top_2_accuracy: 0.8926 - val_top_3_accuracy: 0.9374\n",
      "Epoch 32/35\n",
      "Current Learning Rate: 9.999999747378752e-06, Adjusted Learning Rate: 1e-05\n",
      "164/164 [==============================] - 50s 303ms/step - loss: 0.0035 - acc: 0.9987 - categorical_accuracy: 0.9987 - top_2_accuracy: 0.9999 - top_3_accuracy: 1.0000 - val_loss: 1.9265 - val_acc: 0.7339 - val_categorical_accuracy: 0.7339 - val_top_2_accuracy: 0.8848 - val_top_3_accuracy: 0.9354\n",
      "Epoch 33/35\n",
      "Current Learning Rate: 9.999999747378752e-06, Adjusted Learning Rate: 1e-05\n",
      "164/164 [==============================] - 50s 303ms/step - loss: 0.0023 - acc: 0.9990 - categorical_accuracy: 0.9990 - top_2_accuracy: 1.0000 - top_3_accuracy: 1.0000 - val_loss: 1.6706 - val_acc: 0.7650 - val_categorical_accuracy: 0.7650 - val_top_2_accuracy: 0.9000 - val_top_3_accuracy: 0.9444\n",
      "Epoch 34/35\n",
      "Current Learning Rate: 9.999999747378752e-06, Adjusted Learning Rate: 1e-05\n",
      "164/164 [==============================] - 50s 303ms/step - loss: 0.0037 - acc: 0.9985 - categorical_accuracy: 0.9985 - top_2_accuracy: 1.0000 - top_3_accuracy: 1.0000 - val_loss: 1.7230 - val_acc: 0.7611 - val_categorical_accuracy: 0.7611 - val_top_2_accuracy: 0.8977 - val_top_3_accuracy: 0.9428\n",
      "Epoch 35/35\n",
      "Current Learning Rate: 9.999999747378752e-06, Adjusted Learning Rate: 1e-05\n",
      "164/164 [==============================] - 50s 303ms/step - loss: 0.0031 - acc: 0.9990 - categorical_accuracy: 0.9990 - top_2_accuracy: 1.0000 - top_3_accuracy: 1.0000 - val_loss: 1.6662 - val_acc: 0.7704 - val_categorical_accuracy: 0.7704 - val_top_2_accuracy: 0.9074 - val_top_3_accuracy: 0.9482\n"
     ]
    }
   ],
   "source": [
    "model_ret, history_ret = train()"
   ]
  },
  {
   "cell_type": "code",
   "execution_count": 24,
   "metadata": {},
   "outputs": [
    {
     "data": {
      "image/png": "[encoded data removed]",
      "text/plain": [
       "<Figure size 432x288 with 1 Axes>"
      ]
     },
     "metadata": {
      "needs_background": "light"
     },
     "output_type": "display_data"
    }
   ],
   "source": [
    "# PLOTTING\n",
    "import matplotlib.pyplot as plt\n",
    "%matplotlib inline\n",
    "\n",
    "# plot the loss\n",
    "plt.plot(history_ret.history['loss'])\n",
    "plt.plot(history_ret.history['val_loss'])\n",
    "plt.title('model loss')\n",
    "plt.ylabel('loss')\n",
    "plt.xlabel('epoch')\n",
    "plt.legend(['train', 'test'], loc='upper left')\n",
    "plt.show()"
   ]
  },
  {
   "cell_type": "code",
   "execution_count": 25,
   "metadata": {},
   "outputs": [],
   "source": [
    "## PREDICTION\n",
    "from sklearn.preprocessing import LabelEncoder, LabelBinarizer\n",
    "from keras.applications import imagenet_utils\n",
    "from keras.preprocessing.image import img_to_array, load_img\n",
    "from imutils import paths\n",
    "from sklearn.metrics import confusion_matrix, classification_report, accuracy_score"
   ]
  },
  {
   "cell_type": "code",
   "execution_count": 26,
   "metadata": {},
   "outputs": [
    {
     "name": "stdout",
     "output_type": "stream",
     "text": [
      "Found 1064 images belonging to 7 classes.\n",
      "{'akiec': 0, 'bcc': 1, 'bkl': 2, 'df': 3, 'mel': 4, 'nv': 5, 'vasc': 6}\n"
     ]
    }
   ],
   "source": [
    "# method-1\n",
    "def load_test_data(directory):\n",
    "    data = []\n",
    "    labels = []\n",
    "    image_paths = list(paths.list_images(directory))\n",
    "    for i, image_path in enumerate(image_paths):\n",
    "        # read\n",
    "        image = cv2.cvtColor(cv2.imread(image_path), cv2.COLOR_BGR2RGB)\n",
    "        # keras format\n",
    "        image = img_to_array(image, data_format=\"channels_last\")\n",
    "        label = image_path.split(os.path.sep)[-2]\n",
    "        # append\n",
    "        data.append(image)\n",
    "        labels.append(label)\n",
    "    # conversions\n",
    "    data = np.array(data)\n",
    "    data = data.astype(\"float\")\n",
    "    return data, np.array(labels)\n",
    "\n",
    "# easy generator method\n",
    "data_generator = ImageDataGenerator(rescale=1./255)\n",
    "\n",
    "test_generator = data_generator.flow_from_directory(\n",
    "    directory=\"ham_labled/test/\",\n",
    "    target_size=(IM_WIDTH, IM_HEIGHT),\n",
    "    shuffle=False,\n",
    "    color_mode=\"rgb\",\n",
    "    class_mode=\"categorical\",\n",
    "    batch_size=1\n",
    ")\n",
    "print(test_generator.class_indices)"
   ]
  },
  {
   "cell_type": "code",
   "execution_count": 28,
   "metadata": {},
   "outputs": [
    {
     "name": "stdout",
     "output_type": "stream",
     "text": [
      "val_loss: 0.7255639097744361\n",
      "val_cat_acc: 0.7255639097744361\n",
      "val_top_2_acc: 0.868421052631579\n",
      "val_top_3_acc: 0.9191729323308271\n"
     ]
    }
   ],
   "source": [
    "_, test_loss, test_cat_acc, test_top_2_acc, test_top_3_acc = model_ret.evaluate_generator(test_generator, steps=test_generator.samples)\n",
    "\n",
    "print('val_loss:', test_loss)\n",
    "print('val_cat_acc:', test_cat_acc)\n",
    "print('val_top_2_acc:', test_top_2_acc)\n",
    "print('val_top_3_acc:', test_top_3_acc)"
   ]
  },
  {
   "cell_type": "code",
   "execution_count": 29,
   "metadata": {},
   "outputs": [
    {
     "name": "stdout",
     "output_type": "stream",
     "text": [
      "1064/1064 [==============================] - 21s 20ms/step\n",
      "(1064, 7)\n"
     ]
    }
   ],
   "source": [
    "# PREDICT\n",
    "predictions = model_ret.predict_generator(test_generator, steps=test_generator.samples, verbose=1)\n",
    "print(predictions.shape)\n",
    "y_pred = np.argmax(predictions, axis=1)\n",
    "y_test = test_generator.classes"
   ]
  },
  {
   "cell_type": "code",
   "execution_count": 30,
   "metadata": {},
   "outputs": [
    {
     "name": "stdout",
     "output_type": "stream",
     "text": [
      "              precision    recall  f1-score   support\n",
      "\n",
      "       akiec       0.58      0.23      0.33        66\n",
      "         bcc       0.65      0.29      0.40       103\n",
      "         bkl       0.60      0.72      0.66       220\n",
      "          df       0.00      0.00      0.00        23\n",
      "         mel       0.64      0.63      0.64       223\n",
      "          nv       0.72      0.87      0.79       400\n",
      "        vasc       0.33      0.21      0.26        29\n",
      "\n",
      "   micro avg       0.66      0.66      0.66      1064\n",
      "   macro avg       0.50      0.42      0.44      1064\n",
      "weighted avg       0.64      0.66      0.63      1064\n",
      "\n"
     ]
    }
   ],
   "source": [
    "report = classification_report(y_test, y_pred, target_names=['akiec', 'bcc', 'bkl', 'df', 'mel','nv', 'vasc'])\n",
    "print(report)"
   ]
  },
  {
   "cell_type": "code",
   "execution_count": null,
   "metadata": {},
   "outputs": [],
   "source": []
  },
  {
   "cell_type": "code",
   "execution_count": null,
   "metadata": {},
   "outputs": [],
   "source": []
  },
  {
   "cell_type": "code",
   "execution_count": null,
   "metadata": {},
   "outputs": [],
   "source": []
  },
  {
   "cell_type": "code",
   "execution_count": null,
   "metadata": {},
   "outputs": [],
   "source": []
  },
  {
   "cell_type": "code",
   "execution_count": null,
   "metadata": {},
   "outputs": [],
   "source": []
  },
  {
   "cell_type": "code",
   "execution_count": null,
   "metadata": {},
   "outputs": [],
   "source": []
  },
  {
   "cell_type": "code",
   "execution_count": null,
   "metadata": {},
   "outputs": [],
   "source": []
  },
  {
   "cell_type": "code",
   "execution_count": null,
   "metadata": {},
   "outputs": [],
   "source": []
  },
  {
   "cell_type": "code",
   "execution_count": null,
   "metadata": {},
   "outputs": [],
   "source": []
  },
  {
   "cell_type": "code",
   "execution_count": null,
   "metadata": {},
   "outputs": [],
   "source": []
  },
  {
   "cell_type": "code",
   "execution_count": null,
   "metadata": {},
   "outputs": [],
   "source": []
  },
  {
   "cell_type": "code",
   "execution_count": null,
   "metadata": {},
   "outputs": [],
   "source": []
  },
  {
   "cell_type": "code",
   "execution_count": null,
   "metadata": {},
   "outputs": [],
   "source": []
  },
  {
   "cell_type": "code",
   "execution_count": null,
   "metadata": {},
   "outputs": [],
   "source": []
  },
  {
   "cell_type": "code",
   "execution_count": null,
   "metadata": {},
   "outputs": [],
   "source": []
  },
  {
   "cell_type": "code",
   "execution_count": null,
   "metadata": {},
   "outputs": [],
   "source": []
  },
  {
   "cell_type": "code",
   "execution_count": null,
   "metadata": {},
   "outputs": [],
   "source": []
  },
  {
   "cell_type": "code",
   "execution_count": null,
   "metadata": {},
   "outputs": [],
   "source": []
  },
  {
   "cell_type": "code",
   "execution_count": null,
   "metadata": {},
   "outputs": [],
   "source": []
  },
  {
   "cell_type": "code",
   "execution_count": null,
   "metadata": {},
   "outputs": [],
   "source": []
  },
  {
   "cell_type": "code",
   "execution_count": null,
   "metadata": {},
   "outputs": [],
   "source": []
  },
  {
   "cell_type": "code",
   "execution_count": null,
   "metadata": {},
   "outputs": [],
   "source": []
  },
  {
   "cell_type": "code",
   "execution_count": null,
   "metadata": {},
   "outputs": [],
   "source": []
  },
  {
   "cell_type": "code",
   "execution_count": null,
   "metadata": {},
   "outputs": [],
   "source": []
  },
  {
   "cell_type": "code",
   "execution_count": null,
   "metadata": {},
   "outputs": [],
   "source": []
  },
  {
   "cell_type": "code",
   "execution_count": null,
   "metadata": {},
   "outputs": [],
   "source": []
  },
  {
   "cell_type": "code",
   "execution_count": null,
   "metadata": {},
   "outputs": [],
   "source": []
  },
  {
   "cell_type": "code",
   "execution_count": null,
   "metadata": {},
   "outputs": [],
   "source": []
  },
  {
   "cell_type": "code",
   "execution_count": null,
   "metadata": {},
   "outputs": [],
   "source": []
  },
  {
   "cell_type": "code",
   "execution_count": null,
   "metadata": {},
   "outputs": [],
   "source": []
  },
  {
   "cell_type": "code",
   "execution_count": null,
   "metadata": {},
   "outputs": [],
   "source": []
  },
  {
   "cell_type": "code",
   "execution_count": null,
   "metadata": {
    "scrolled": false
   },
   "outputs": [],
   "source": []
  },
  {
   "cell_type": "code",
   "execution_count": null,
   "metadata": {},
   "outputs": [],
   "source": []
  },
  {
   "cell_type": "code",
   "execution_count": null,
   "metadata": {},
   "outputs": [],
   "source": []
  },
  {
   "cell_type": "code",
   "execution_count": null,
   "metadata": {},
   "outputs": [],
   "source": []
  },
  {
   "cell_type": "code",
   "execution_count": null,
   "metadata": {},
   "outputs": [],
   "source": []
  },
  {
   "cell_type": "code",
   "execution_count": null,
   "metadata": {},
   "outputs": [],
   "source": []
  },
  {
   "cell_type": "code",
   "execution_count": null,
   "metadata": {},
   "outputs": [],
   "source": []
  },
  {
   "cell_type": "code",
   "execution_count": null,
   "metadata": {},
   "outputs": [],
   "source": []
  },
  {
   "cell_type": "code",
   "execution_count": null,
   "metadata": {},
   "outputs": [],
   "source": []
  },
  {
   "cell_type": "code",
   "execution_count": null,
   "metadata": {},
   "outputs": [],
   "source": []
  },
  {
   "cell_type": "code",
   "execution_count": null,
   "metadata": {},
   "outputs": [],
   "source": []
  },
  {
   "cell_type": "code",
   "execution_count": null,
   "metadata": {},
   "outputs": [],
   "source": []
  },
  {
   "cell_type": "code",
   "execution_count": null,
   "metadata": {},
   "outputs": [],
   "source": []
  },
  {
   "cell_type": "code",
   "execution_count": null,
   "metadata": {},
   "outputs": [],
   "source": []
  },
  {
   "cell_type": "code",
   "execution_count": null,
   "metadata": {},
   "outputs": [],
   "source": []
  },
  {
   "cell_type": "code",
   "execution_count": null,
   "metadata": {},
   "outputs": [],
   "source": []
  }
 ],
 "metadata": {
  "kernelspec": {
   "display_name": "Python 3",
   "language": "python",
   "name": "python3"
  },
  "language_info": {
   "codemirror_mode": {
    "name": "ipython",
    "version": 3
   },
   "file_extension": ".py",
   "mimetype": "text/x-python",
   "name": "python",
   "nbconvert_exporter": "python",
   "pygments_lexer": "ipython3",
   "version": "3.6.5"
  }
 },
 "nbformat": 4,
 "nbformat_minor": 2
}
