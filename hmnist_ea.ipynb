{
 "cells": [
  {
   "cell_type": "code",
   "execution_count": 1,
   "metadata": {},
   "outputs": [],
   "source": [
    "import cv2\n",
    "import os\n",
    "import numpy as np\n",
    "import pandas as pd\n",
    "import matplotlib.pyplot as plt"
   ]
  },
  {
   "cell_type": "code",
   "execution_count": 2,
   "metadata": {},
   "outputs": [
    {
     "data": {
      "text/html": [
       "<div>\n",
       "<style scoped>\n",
       "    .dataframe tbody tr th:only-of-type {\n",
       "        vertical-align: middle;\n",
       "    }\n",
       "\n",
       "    .dataframe tbody tr th {\n",
       "        vertical-align: top;\n",
       "    }\n",
       "\n",
       "    .dataframe thead th {\n",
       "        text-align: right;\n",
       "    }\n",
       "</style>\n",
       "<table border=\"1\" class=\"dataframe\">\n",
       "  <thead>\n",
       "    <tr style=\"text-align: right;\">\n",
       "      <th></th>\n",
       "      <th>lesion_id</th>\n",
       "      <th>image_id</th>\n",
       "      <th>dx</th>\n",
       "      <th>dx_type</th>\n",
       "      <th>age</th>\n",
       "      <th>sex</th>\n",
       "      <th>localization</th>\n",
       "    </tr>\n",
       "  </thead>\n",
       "  <tbody>\n",
       "    <tr>\n",
       "      <th>count</th>\n",
       "      <td>10015</td>\n",
       "      <td>10015</td>\n",
       "      <td>10015</td>\n",
       "      <td>10015</td>\n",
       "      <td>9958.000000</td>\n",
       "      <td>10015</td>\n",
       "      <td>10015</td>\n",
       "    </tr>\n",
       "    <tr>\n",
       "      <th>unique</th>\n",
       "      <td>7470</td>\n",
       "      <td>10015</td>\n",
       "      <td>7</td>\n",
       "      <td>4</td>\n",
       "      <td>NaN</td>\n",
       "      <td>3</td>\n",
       "      <td>15</td>\n",
       "    </tr>\n",
       "    <tr>\n",
       "      <th>top</th>\n",
       "      <td>HAM_0003789</td>\n",
       "      <td>ISIC_0034274</td>\n",
       "      <td>nv</td>\n",
       "      <td>histo</td>\n",
       "      <td>NaN</td>\n",
       "      <td>male</td>\n",
       "      <td>back</td>\n",
       "    </tr>\n",
       "    <tr>\n",
       "      <th>freq</th>\n",
       "      <td>6</td>\n",
       "      <td>1</td>\n",
       "      <td>6705</td>\n",
       "      <td>5340</td>\n",
       "      <td>NaN</td>\n",
       "      <td>5406</td>\n",
       "      <td>2192</td>\n",
       "    </tr>\n",
       "    <tr>\n",
       "      <th>mean</th>\n",
       "      <td>NaN</td>\n",
       "      <td>NaN</td>\n",
       "      <td>NaN</td>\n",
       "      <td>NaN</td>\n",
       "      <td>51.863828</td>\n",
       "      <td>NaN</td>\n",
       "      <td>NaN</td>\n",
       "    </tr>\n",
       "    <tr>\n",
       "      <th>std</th>\n",
       "      <td>NaN</td>\n",
       "      <td>NaN</td>\n",
       "      <td>NaN</td>\n",
       "      <td>NaN</td>\n",
       "      <td>16.968614</td>\n",
       "      <td>NaN</td>\n",
       "      <td>NaN</td>\n",
       "    </tr>\n",
       "    <tr>\n",
       "      <th>min</th>\n",
       "      <td>NaN</td>\n",
       "      <td>NaN</td>\n",
       "      <td>NaN</td>\n",
       "      <td>NaN</td>\n",
       "      <td>0.000000</td>\n",
       "      <td>NaN</td>\n",
       "      <td>NaN</td>\n",
       "    </tr>\n",
       "    <tr>\n",
       "      <th>25%</th>\n",
       "      <td>NaN</td>\n",
       "      <td>NaN</td>\n",
       "      <td>NaN</td>\n",
       "      <td>NaN</td>\n",
       "      <td>40.000000</td>\n",
       "      <td>NaN</td>\n",
       "      <td>NaN</td>\n",
       "    </tr>\n",
       "    <tr>\n",
       "      <th>50%</th>\n",
       "      <td>NaN</td>\n",
       "      <td>NaN</td>\n",
       "      <td>NaN</td>\n",
       "      <td>NaN</td>\n",
       "      <td>50.000000</td>\n",
       "      <td>NaN</td>\n",
       "      <td>NaN</td>\n",
       "    </tr>\n",
       "    <tr>\n",
       "      <th>75%</th>\n",
       "      <td>NaN</td>\n",
       "      <td>NaN</td>\n",
       "      <td>NaN</td>\n",
       "      <td>NaN</td>\n",
       "      <td>65.000000</td>\n",
       "      <td>NaN</td>\n",
       "      <td>NaN</td>\n",
       "    </tr>\n",
       "    <tr>\n",
       "      <th>max</th>\n",
       "      <td>NaN</td>\n",
       "      <td>NaN</td>\n",
       "      <td>NaN</td>\n",
       "      <td>NaN</td>\n",
       "      <td>85.000000</td>\n",
       "      <td>NaN</td>\n",
       "      <td>NaN</td>\n",
       "    </tr>\n",
       "  </tbody>\n",
       "</table>\n",
       "</div>"
      ],
      "text/plain": [
       "          lesion_id      image_id     dx dx_type          age    sex  \\\n",
       "count         10015         10015  10015   10015  9958.000000  10015   \n",
       "unique         7470         10015      7       4          NaN      3   \n",
       "top     HAM_0003789  ISIC_0034274     nv   histo          NaN   male   \n",
       "freq              6             1   6705    5340          NaN   5406   \n",
       "mean            NaN           NaN    NaN     NaN    51.863828    NaN   \n",
       "std             NaN           NaN    NaN     NaN    16.968614    NaN   \n",
       "min             NaN           NaN    NaN     NaN     0.000000    NaN   \n",
       "25%             NaN           NaN    NaN     NaN    40.000000    NaN   \n",
       "50%             NaN           NaN    NaN     NaN    50.000000    NaN   \n",
       "75%             NaN           NaN    NaN     NaN    65.000000    NaN   \n",
       "max             NaN           NaN    NaN     NaN    85.000000    NaN   \n",
       "\n",
       "       localization  \n",
       "count         10015  \n",
       "unique           15  \n",
       "top            back  \n",
       "freq           2192  \n",
       "mean            NaN  \n",
       "std             NaN  \n",
       "min             NaN  \n",
       "25%             NaN  \n",
       "50%             NaN  \n",
       "75%             NaN  \n",
       "max             NaN  "
      ]
     },
     "execution_count": 2,
     "metadata": {},
     "output_type": "execute_result"
    }
   ],
   "source": [
    "metadata = pd.read_csv(\"../HAM10000_metadata.csv\")\n",
    "metadata.describe(include=\"all\")"
   ]
  },
  {
   "cell_type": "code",
   "execution_count": 4,
   "metadata": {},
   "outputs": [
    {
     "name": "stdout",
     "output_type": "stream",
     "text": [
      "     lesion_id      image_id   dx dx_type   age   sex localization\n",
      "0  HAM_0000118  ISIC_0027419  bkl   histo  80.0  male        scalp\n",
      "1  HAM_0000118  ISIC_0025030  bkl   histo  80.0  male        scalp\n",
      "2  HAM_0002730  ISIC_0026769  bkl   histo  80.0  male        scalp\n",
      "3  HAM_0002730  ISIC_0025661  bkl   histo  80.0  male        scalp\n",
      "4  HAM_0001466  ISIC_0031633  bkl   histo  75.0  male          ear\n"
     ]
    }
   ],
   "source": [
    "print(metadata.head(5))"
   ]
  },
  {
   "cell_type": "code",
   "execution_count": 5,
   "metadata": {},
   "outputs": [
    {
     "name": "stdout",
     "output_type": "stream",
     "text": [
      "['bkl', 'nv', 'df', 'mel', 'vasc', 'bcc', 'akiec']\n"
     ]
    }
   ],
   "source": [
    "labels = list(metadata.dx.unique())\n",
    "print(labels)"
   ]
  },
  {
   "cell_type": "code",
   "execution_count": 6,
   "metadata": {},
   "outputs": [
    {
     "name": "stdout",
     "output_type": "stream",
     "text": [
      "nv       6705\n",
      "mel      1113\n",
      "bkl      1099\n",
      "bcc       514\n",
      "akiec     327\n",
      "vasc      142\n",
      "df        115\n",
      "Name: dx, dtype: int64\n"
     ]
    },
    {
     "data": {
      "text/plain": [
       "<matplotlib.axes._subplots.AxesSubplot at 0x7ffaac08c3c8>"
      ]
     },
     "execution_count": 6,
     "metadata": {},
     "output_type": "execute_result"
    },
    {
     "data": {
      "image/png": "[encoded data removed]",
      "text/plain": [
       "<Figure size 720x360 with 1 Axes>"
      ]
     },
     "metadata": {},
     "output_type": "display_data"
    }
   ],
   "source": [
    "fig, ax1 = plt.subplots(1, 1, figsize = (10, 5))\n",
    "counts = metadata[\"dx\"].value_counts()\n",
    "print(counts)\n",
    "counts.plot(kind='bar', ax=ax1)\n",
    "#metadata[\"dx\"].hist()"
   ]
  },
  {
   "cell_type": "code",
   "execution_count": 7,
   "metadata": {},
   "outputs": [],
   "source": [
    "threshold = 2000\n",
    "\n",
    "# parse out all classes to individual dataframes\n",
    "nv = metadata[metadata[\"dx\"] == \"nv\"]\n",
    "nv = nv.sample(n=threshold)\n",
    "nv.name = \"nv\"\n",
    "mel = metadata[metadata[\"dx\"] == \"mel\"]\n",
    "mel.name = \"mel\"\n",
    "bkl = metadata[metadata[\"dx\"] == \"bkl\"]\n",
    "bkl.name = \"bkl\"\n",
    "bcc = metadata[metadata[\"dx\"] == \"bcc\"]\n",
    "bcc.name = \"bcc\"\n",
    "akiec = metadata[metadata[\"dx\"] == \"akiec\"]\n",
    "akiec.name = \"akiec\"\n",
    "vasc = metadata[metadata[\"dx\"] == \"vasc\"]\n",
    "vasc.name = \"vasc\"\n",
    "df = metadata[metadata[\"dx\"] == \"df\"]\n",
    "df.name = \"df\"\n",
    "# list out\n",
    "classes = [nv, mel, bkl, bcc, akiec, vasc, df]"
   ]
  },
  {
   "cell_type": "code",
   "execution_count": 8,
   "metadata": {},
   "outputs": [],
   "source": [
    "# preprocess accordingly\n",
    "def preprocess(_image):\n",
    "    #_image = cv2.cvtColor(_image, cv2.COLOR_BGR2RGB)\n",
    "    \n",
    "    #_image = cv2.equalizeHist(_image) \n",
    "    #_image = cv2.GaussianBlur(_image, (3,3), 1)\n",
    "    _image = cv2.cvtColor(_image, cv2.COLOR_RGB2HSV)\n",
    "    H,S,V = cv2.split(_image)\n",
    "    _V = cv2.equalizeHist(V) \n",
    "    _image = cv2.merge([H, S, _V])\n",
    "    _image = cv2.cvtColor(_image, cv2.COLOR_HSV2RGB)\n",
    "    \n",
    "    return _image"
   ]
  },
  {
   "cell_type": "markdown",
   "metadata": {},
   "source": [
    "## Seperate into Respective Folders"
   ]
  },
  {
   "cell_type": "code",
   "execution_count": 10,
   "metadata": {},
   "outputs": [
    {
     "name": "stdout",
     "output_type": "stream",
     "text": [
      "Training: 1600, Test: 400 images found for class nv\n",
      "Moving complete for class nv...\n",
      "Training: 890, Test: 223 images found for class mel\n",
      "Moving complete for class mel...\n",
      "Training: 879, Test: 220 images found for class bkl\n",
      "Moving complete for class bkl...\n",
      "Training: 411, Test: 103 images found for class bcc\n",
      "Moving complete for class bcc...\n",
      "Training: 261, Test: 66 images found for class akiec\n",
      "Moving complete for class akiec...\n",
      "Training: 113, Test: 29 images found for class vasc\n",
      "Moving complete for class vasc...\n",
      "Training: 92, Test: 23 images found for class df\n",
      "Moving complete for class df...\n"
     ]
    }
   ],
   "source": [
    "import shutil\n",
    "from sklearn.model_selection import train_test_split\n",
    "\n",
    "#threshold = 2000\n",
    "# seperate images to each directory \n",
    "os.mkdir(\"ham_labled\")\n",
    "os.mkdir(\"ham_labled/train\")\n",
    "os.mkdir(\"ham_labled/test\")\n",
    "\n",
    "# each class\n",
    "for _class in classes:\n",
    "    _train, _test = train_test_split(_class, test_size = 0.2)\n",
    "    print(\"Training: {}, Test: {} images found for class {}\".format(len(_train), len(_test), _class.name))\n",
    "    # train \n",
    "    os.mkdir(\"ham_labled/train/{}\".format(_class.name))\n",
    "    for i, row in _train.iterrows():\n",
    "        image_id = row[\"image_id\"]\n",
    "        img = cv2.imread(\"../ham10000/{}.jpg\".format(image_id))\n",
    "        img = cv2.resize(img, (224, 224))\n",
    "        cv2.imwrite(\"../ham10000/{}.jpg\".format(image_id), img)\n",
    "        shutil.move(\n",
    "            src=\"../ham10000/{}.jpg\".format(image_id), \n",
    "            dst=\"ham_labled/train/{}/\".format(_class.name)\n",
    "        )\n",
    "    # test\n",
    "    os.mkdir(\"ham_labled/test/{}\".format(_class.name))\n",
    "    for i, row in _test.iterrows():\n",
    "        image_id = row[\"image_id\"]\n",
    "        img = cv2.imread(\"../ham10000/{}.jpg\".format(image_id))\n",
    "        img = cv2.resize(img, (224, 224))\n",
    "        cv2.imwrite(\"../ham10000/{}.jpg\".format(image_id), img)\n",
    "        shutil.move(\n",
    "            src=\"../ham10000/{}.jpg\".format(image_id), \n",
    "            dst=\"ham_labled/test/{}/\".format(_class.name)\n",
    "        )\n",
    "    print(\"Moving complete for class {}...\".format(_class.name))"
   ]
  },
  {
   "cell_type": "markdown",
   "metadata": {},
   "source": [
    "## Image Augumentation\n",
    "\n",
    "Before we can start passing above images through a CNN feature extractor, we will augument images to address class imbalance problem and set a threshold of 5000 images per class."
   ]
  },
  {
   "cell_type": "code",
   "execution_count": 11,
   "metadata": {},
   "outputs": [
    {
     "name": "stderr",
     "output_type": "stream",
     "text": [
      "Using TensorFlow backend.\n"
     ]
    }
   ],
   "source": [
    "from keras.preprocessing.image import ImageDataGenerator\n",
    "\n",
    "_generator = ImageDataGenerator(\n",
    "    width_shift_range=0.001,\n",
    "    height_shift_range=0.001,\n",
    "    zoom_range=0.01,\n",
    "    horizontal_flip=True,\n",
    "    vertical_flip=True,\n",
    "    rotation_range=0.99\n",
    ")"
   ]
  },
  {
   "cell_type": "code",
   "execution_count": 12,
   "metadata": {},
   "outputs": [],
   "source": [
    "from keras.preprocessing.image import img_to_array\n",
    "\n",
    "def load_images(directory):\n",
    "    images = [cv2.cvtColor(cv2.imread(os.path.join(directory, file)), cv2.COLOR_BGR2RGB)\n",
    "              for file in os.listdir(directory)]\n",
    "    images = [img_to_array(image, data_format=\"channels_last\") for image in images]\n",
    "    images = np.array(images)\n",
    "    images = images.astype(\"float\")\n",
    "    return images\n",
    "    "
   ]
  },
  {
   "cell_type": "code",
   "execution_count": 13,
   "metadata": {},
   "outputs": [
    {
     "name": "stdout",
     "output_type": "stream",
     "text": [
      "Augumenting images for class mel...\n",
      "Augumenting images for class bkl...\n",
      "Augumenting images for class bcc...\n",
      "Augumenting images for class akiec...\n",
      "Augumenting images for class vasc...\n",
      "Augumenting images for class df...\n"
     ]
    }
   ],
   "source": [
    "batch = 32\n",
    "for _class in classes:\n",
    "    _name = _class.name\n",
    "    if len(_class) >= threshold:\n",
    "        continue\n",
    "    else:\n",
    "        # what a pain ....PHEW!\n",
    "        if os.path.exists(\"ham_labled/train/{}/.ipynb_checkpoints/\".format(_name)):\n",
    "            shutil.rmtree(\"ham_labled/train/{}/.ipynb_checkpoints/\".format(_name))\n",
    "        print(\"Augumenting images for class {}...\".format(_name))\n",
    "        X = load_images(\"ham_labled/train/{}/\".format(_name))\n",
    "        _auguments = _generator.flow(\n",
    "            x=X,\n",
    "            y=None,\n",
    "            batch_size=batch,\n",
    "            save_format=\"jpg\",\n",
    "            save_prefix=\"augumented\",\n",
    "            save_to_dir=\"ham_labled/train/{}/\".format(_name)\n",
    "        )\n",
    "        for _ in range(int(np.ceil((threshold - X.shape[0])/batch))):\n",
    "            x = next(_auguments)"
   ]
  },
  {
   "cell_type": "markdown",
   "metadata": {},
   "source": [
    "## Read the newly generated Images and process them accordingly"
   ]
  },
  {
   "cell_type": "code",
   "execution_count": 3,
   "metadata": {},
   "outputs": [
    {
     "name": "stdout",
     "output_type": "stream",
     "text": [
      "Collecting imutils\n",
      "  Downloading https://files.pythonhosted.org/packages/5e/0c/659c2bdae8e8ca5ef810b9da02db28feaa29ea448ff36b65a1664ff28142/imutils-0.5.2.tar.gz\n",
      "Building wheels for collected packages: imutils\n",
      "  Running setup.py bdist_wheel for imutils ... \u001b[?25ldone\n",
      "\u001b[?25h  Stored in directory: /root/.cache/pip/wheels/b2/40/59/139d450e68847ef2f27d876d527b13389dac23df0f66526b5d\n",
      "Successfully built imutils\n",
      "\u001b[31mmenpo 0.8.1 has requirement matplotlib<2.0,>=1.4, but you'll have matplotlib 3.0.2 which is incompatible.\u001b[0m\n",
      "\u001b[31mmenpo 0.8.1 has requirement pillow<5.0,>=3.0, but you'll have pillow 5.4.0 which is incompatible.\u001b[0m\n",
      "\u001b[31mmenpo 0.8.1 has requirement scipy<1.0,>=0.16, but you'll have scipy 1.2.0 which is incompatible.\u001b[0m\n",
      "Installing collected packages: imutils\n",
      "Successfully installed imutils-0.5.2\n",
      "\u001b[33mYou are using pip version 10.0.1, however version 19.2.2 is available.\n",
      "You should consider upgrading via the 'pip install --upgrade pip' command.\u001b[0m\n",
      "13190 total images found...\n"
     ]
    }
   ],
   "source": [
    "try:\n",
    "    from imutils import paths\n",
    "except ModuleNotFoundError:\n",
    "    !pip install imutils\n",
    "    from imutils import paths\n",
    "import random\n",
    "import os\n",
    "from sklearn.preprocessing import LabelEncoder\n",
    "\n",
    "image_paths = list(paths.list_images(\"ham_labled/train\"))\n",
    "random.shuffle(image_paths)\n",
    "\n",
    "labels = [cls.split(os.path.sep)[-2] for cls in image_paths]\n",
    "le = LabelEncoder()\n",
    "labels = le.fit_transform(labels)\n",
    "\n",
    "print(\"{} total images found...\".format(len(image_paths)))\n"
   ]
  },
  {
   "cell_type": "markdown",
   "metadata": {},
   "source": [
    "## Model"
   ]
  },
  {
   "cell_type": "code",
   "execution_count": 3,
   "metadata": {},
   "outputs": [
    {
     "name": "stdout",
     "output_type": "stream",
     "text": [
      "Collecting imutils\n",
      "  Downloading https://files.pythonhosted.org/packages/5e/0c/659c2bdae8e8ca5ef810b9da02db28feaa29ea448ff36b65a1664ff28142/imutils-0.5.2.tar.gz\n",
      "Building wheels for collected packages: imutils\n",
      "  Running setup.py bdist_wheel for imutils ... \u001b[?25ldone\n",
      "\u001b[?25h  Stored in directory: /root/.cache/pip/wheels/b2/40/59/139d450e68847ef2f27d876d527b13389dac23df0f66526b5d\n",
      "Successfully built imutils\n",
      "\u001b[31mmenpo 0.8.1 has requirement matplotlib<2.0,>=1.4, but you'll have matplotlib 3.0.2 which is incompatible.\u001b[0m\n",
      "\u001b[31mmenpo 0.8.1 has requirement pillow<5.0,>=3.0, but you'll have pillow 5.4.0 which is incompatible.\u001b[0m\n",
      "\u001b[31mmenpo 0.8.1 has requirement scipy<1.0,>=0.16, but you'll have scipy 1.2.0 which is incompatible.\u001b[0m\n",
      "Installing collected packages: imutils\n",
      "Successfully installed imutils-0.5.2\n",
      "\u001b[33mYou are using pip version 10.0.1, however version 19.2.2 is available.\n",
      "You should consider upgrading via the 'pip install --upgrade pip' command.\u001b[0m\n"
     ]
    },
    {
     "name": "stderr",
     "output_type": "stream",
     "text": [
      "Using TensorFlow backend.\n"
     ]
    }
   ],
   "source": [
    "try:\n",
    "    from imutils import paths\n",
    "except ModuleNotFoundError:\n",
    "    !pip install imutils\n",
    "    from imutils import paths\n",
    "import tensorflow as tf\n",
    "from keras import backend as K\n",
    "from keras import callbacks\n",
    "from keras.layers import LeakyReLU\n",
    "from keras.models import Sequential, Model\n",
    "from keras.metrics import categorical_accuracy, top_k_categorical_accuracy\n",
    "from keras.layers.normalization import BatchNormalization\n",
    "from keras.layers.convolutional import Conv2D, MaxPooling2D\n",
    "from keras.layers.core import Activation, Flatten, Dropout, Dense\n",
    "from keras.preprocessing.image import ImageDataGenerator\n",
    "from keras.optimizers import Adam\n",
    "from keras.regularizers import l2\n",
    "from keras.callbacks import ReduceLROnPlateau, LearningRateScheduler\n",
    "from keras.applications import ResNet50"
   ]
  },
  {
   "cell_type": "code",
   "execution_count": 10,
   "metadata": {},
   "outputs": [],
   "source": [
    "class CustomNet(object):\n",
    "\n",
    "    def __init__(self, height, width, channels, classes, parameter_scaling):\n",
    "        self.height = height\n",
    "        self.width = width\n",
    "        self.channels = channels\n",
    "        self.output_classes = classes\n",
    "        self.scale = parameter_scaling\n",
    "        \n",
    "    \"\"\"\n",
    "    def model(self):\n",
    "        _model = ResNet50(\n",
    "            weights=\"imagenet\",\n",
    "            include_top=False,\n",
    "            input_shape=(self.height, self.width, self.channels)\n",
    "        )\n",
    "        x = _model.output\n",
    "        x = Dropout(0.75)(x)\n",
    "        x = Flatten()(x)\n",
    "        x = Dense(512, activation=\"relu\")(x)\n",
    "        x = Dropout(0.75)(x)\n",
    "        x = Dense(self.output_classes, activation=\"softmax\")(x)\n",
    "        model = Model(inputs=_model.input, outputs=x)\n",
    "        return model\n",
    "    \"\"\"\n",
    "    def model(self):\n",
    "        \n",
    "        _model = Sequential()\n",
    "        input_shape = (self.height, self.width, self.channels)\n",
    "        axis = -1\n",
    "        alpha = 0.2\n",
    "        \n",
    "        # if using theano\n",
    "        if K.image_data_format() == \"channels_first\":\n",
    "            input_shape = (self.channels, self.height, self.width)\n",
    "            axis = 1\n",
    "        \n",
    "        # 224x224 \n",
    "        # convolution 1\n",
    "        _model.add(Conv2D(self.scale, (3, 3), input_shape=input_shape))\n",
    "        _model.add(LeakyReLU(alpha=alpha))\n",
    "        _model.add(BatchNormalization(axis=axis))\n",
    "        # convolution 2\n",
    "        _model.add(Conv2D(self.scale, (3, 3)))\n",
    "        _model.add(LeakyReLU(alpha=alpha))\n",
    "        _model.add(BatchNormalization(axis=axis))\n",
    "        # pool 1\n",
    "        _model.add(MaxPooling2D(pool_size=(2, 2)))\n",
    "        #_model.add(Dropout(0.25))\n",
    "        \n",
    "        # 128x128 \n",
    "        # convolution 3\n",
    "        _model.add(Conv2D(2*self.scale, (3, 3)))\n",
    "        _model.add(LeakyReLU(alpha=alpha))\n",
    "        _model.add(BatchNormalization(axis=axis))\n",
    "        # convolution 4\n",
    "        _model.add(Conv2D(2*self.scale, (3, 3)))\n",
    "        _model.add(LeakyReLU(alpha=alpha))\n",
    "        _model.add(BatchNormalization(axis=axis))\n",
    "        # pool 2\n",
    "        _model.add(MaxPooling2D(pool_size=(2, 2)))\n",
    "        #_model.add(Dropout(0.25))\n",
    "\n",
    "        # flattening layer\n",
    "        _model.add(Flatten())\n",
    "        _model.add(Dropout(0.25))\n",
    "\n",
    "        # first dense layer\n",
    "        _model.add(Dense(units=256))\n",
    "        _model.add(LeakyReLU(alpha=alpha))\n",
    "        _model.add(Dropout(0.5))\n",
    "\n",
    "        # second dense layer\n",
    "        _model.add(Dense(units=256))\n",
    "        _model.add(LeakyReLU(alpha=alpha))\n",
    "        _model.add(Dropout(0.5))\n",
    "\n",
    "        # output layer\n",
    "        _model.add(Dense(self.output_classes, activation=\"softmax\"))\n",
    "\n",
    "        return _model\n"
   ]
  },
  {
   "cell_type": "code",
   "execution_count": 19,
   "metadata": {},
   "outputs": [],
   "source": [
    "import multiprocessing\n",
    "manager = multiprocessing.Manager()\n",
    "queue = manager.Queue(maxsize=10)\n",
    "\n",
    "BATCH_SIZE = 32\n",
    "# lr - 4,5,6 for resnet50\n",
    "LR = 1e-4\n",
    "EPOCHS = 50\n",
    "PARAMETER_SCALING = 8\n",
    "IM_WIDTH = 224\n",
    "IM_HEIGHT = 224\n",
    "\n",
    "def lr_scheduler(epoch, lr):\n",
    "    adjusted_lr = lr\n",
    "    if 10 <= epoch < 25:\n",
    "        adjusted_lr = (1e-4)/2\n",
    "        print(\"Current Learning Rate: {}, Adjusted Learning Rate: {}\".format(\n",
    "            str(lr), str(adjusted_lr)\n",
    "        ))\n",
    "    elif 25 <= epoch < 35:\n",
    "        adjusted_lr = (1e-4)/4\n",
    "        print(\"Current Learning Rate: {}, Adjusted Learning Rate: {}\".format(\n",
    "            str(lr), str(adjusted_lr)\n",
    "        ))\n",
    "    elif epoch >= 35:\n",
    "        adjusted_lr = 1e-5\n",
    "        print(\"Current Learning Rate: {}, Adjusted Learning Rate: {}\".format(\n",
    "            str(lr), str(adjusted_lr)\n",
    "        ))\n",
    "    \n",
    "    return adjusted_lr\n",
    "\n",
    "def top_2_accuracy(y_true, y_pred):\n",
    "    return top_k_categorical_accuracy(y_true, y_pred, k=2)\n",
    "\n",
    "def top_3_accuracy(y_true, y_pred):\n",
    "    return top_k_categorical_accuracy(y_true, y_pred, k=3)\n",
    "\n",
    "def train():\n",
    "    \n",
    "        h_callbacks = [\n",
    "            callbacks.TensorBoard(\n",
    "                log_dir=\"tensorboard\",\n",
    "                write_graph=True,\n",
    "                write_images=False\n",
    "            ),\n",
    "            LearningRateScheduler(lr_scheduler)\n",
    "        ]\n",
    "        _model = CustomNet(\n",
    "            height=IM_HEIGHT,\n",
    "            width=IM_WIDTH,\n",
    "            channels=3,\n",
    "            classes=7,\n",
    "            parameter_scaling=PARAMETER_SCALING\n",
    "        ).model()\n",
    "        _model.compile(\n",
    "            loss=\"categorical_crossentropy\",\n",
    "            optimizer=Adam(lr=LR),\n",
    "            metrics=[categorical_accuracy, top_2_accuracy, top_3_accuracy]\n",
    "        )\n",
    "        \n",
    "        # generators made according to the post\n",
    "        # https://github.com/keras-team/keras/issues/5862\n",
    "        data_generator = ImageDataGenerator(\n",
    "            rescale=1./255,\n",
    "            validation_split=0.2\n",
    "        )\n",
    "        train_generator = data_generator.flow_from_directory(\n",
    "            directory=\"ham_labled/train\",\n",
    "            target_size=(IM_WIDTH, IM_HEIGHT),\n",
    "            shuffle=True,\n",
    "            color_mode=\"rgb\",\n",
    "            class_mode=\"categorical\",\n",
    "            batch_size=BATCH_SIZE,\n",
    "            subset=\"training\"\n",
    "        )\n",
    "        valid_generator = data_generator.flow_from_directory(\n",
    "            directory=\"ham_labled/train\",\n",
    "            target_size=(IM_WIDTH, IM_HEIGHT),\n",
    "            shuffle=True,\n",
    "            color_mode=\"rgb\",\n",
    "            class_mode=\"categorical\",\n",
    "            batch_size=BATCH_SIZE,\n",
    "            subset=\"validation\"\n",
    "        )\n",
    "        # train\n",
    "        history = _model.fit_generator(\n",
    "            generator=train_generator,\n",
    "            steps_per_epoch=train_generator.samples//train_generator.batch_size,\n",
    "            validation_data=valid_generator,\n",
    "            validation_steps=valid_generator.samples//valid_generator.batch_size,\n",
    "            callbacks=h_callbacks,\n",
    "            epochs=EPOCHS\n",
    "        )\n",
    "        return _model, history"
   ]
  },
  {
   "cell_type": "code",
   "execution_count": 20,
   "metadata": {},
   "outputs": [
    {
     "name": "stdout",
     "output_type": "stream",
     "text": [
      "Found 10556 images belonging to 7 classes.\n",
      "Found 2634 images belonging to 7 classes.\n",
      "Epoch 1/50\n",
      "329/329 [==============================] - 51s 154ms/step - loss: 2.4264 - categorical_accuracy: 0.3857 - top_2_accuracy: 0.5955 - top_3_accuracy: 0.7434 - val_loss: 1.6595 - val_categorical_accuracy: 0.4699 - val_top_2_accuracy: 0.6482 - val_top_3_accuracy: 0.7824\n",
      "Epoch 2/50\n",
      "329/329 [==============================] - 48s 147ms/step - loss: 1.6750 - categorical_accuracy: 0.5084 - top_2_accuracy: 0.7238 - top_3_accuracy: 0.8499 - val_loss: 1.1355 - val_categorical_accuracy: 0.5853 - val_top_2_accuracy: 0.8009 - val_top_3_accuracy: 0.9055\n",
      "Epoch 3/50\n",
      "329/329 [==============================] - 48s 145ms/step - loss: 1.3818 - categorical_accuracy: 0.5788 - top_2_accuracy: 0.7847 - top_3_accuracy: 0.8916 - val_loss: 1.5129 - val_categorical_accuracy: 0.4846 - val_top_2_accuracy: 0.7137 - val_top_3_accuracy: 0.8505\n",
      "Epoch 4/50\n",
      "329/329 [==============================] - 48s 146ms/step - loss: 1.1583 - categorical_accuracy: 0.6307 - top_2_accuracy: 0.8240 - top_3_accuracy: 0.9159 - val_loss: 1.2053 - val_categorical_accuracy: 0.5742 - val_top_2_accuracy: 0.7537 - val_top_3_accuracy: 0.8609\n",
      "Epoch 5/50\n",
      "329/329 [==============================] - 49s 147ms/step - loss: 0.9662 - categorical_accuracy: 0.6849 - top_2_accuracy: 0.8643 - top_3_accuracy: 0.9414 - val_loss: 1.4102 - val_categorical_accuracy: 0.6072 - val_top_2_accuracy: 0.8002 - val_top_3_accuracy: 0.8909\n",
      "Epoch 6/50\n",
      "329/329 [==============================] - 48s 147ms/step - loss: 0.8493 - categorical_accuracy: 0.7275 - top_2_accuracy: 0.8869 - top_3_accuracy: 0.9530 - val_loss: 1.3298 - val_categorical_accuracy: 0.5834 - val_top_2_accuracy: 0.7782 - val_top_3_accuracy: 0.8670\n",
      "Epoch 7/50\n",
      "329/329 [==============================] - 48s 147ms/step - loss: 0.7359 - categorical_accuracy: 0.7631 - top_2_accuracy: 0.9108 - top_3_accuracy: 0.9643 - val_loss: 1.1027 - val_categorical_accuracy: 0.6457 - val_top_2_accuracy: 0.8063 - val_top_3_accuracy: 0.8958\n",
      "Epoch 8/50\n",
      "329/329 [==============================] - 48s 147ms/step - loss: 0.6563 - categorical_accuracy: 0.7809 - top_2_accuracy: 0.9220 - top_3_accuracy: 0.9731 - val_loss: 1.2938 - val_categorical_accuracy: 0.5953 - val_top_2_accuracy: 0.7809 - val_top_3_accuracy: 0.8693\n",
      "Epoch 9/50\n",
      "329/329 [==============================] - 48s 146ms/step - loss: 0.5806 - categorical_accuracy: 0.8111 - top_2_accuracy: 0.9336 - top_3_accuracy: 0.9791 - val_loss: 1.3590 - val_categorical_accuracy: 0.5961 - val_top_2_accuracy: 0.7636 - val_top_3_accuracy: 0.8716\n",
      "Epoch 10/50\n",
      "329/329 [==============================] - 48s 146ms/step - loss: 0.5008 - categorical_accuracy: 0.8365 - top_2_accuracy: 0.9508 - top_3_accuracy: 0.9850 - val_loss: 1.4244 - val_categorical_accuracy: 0.6633 - val_top_2_accuracy: 0.8178 - val_top_3_accuracy: 0.9028\n",
      "Epoch 11/50\n",
      "Current Learning Rate: 9.999999747378752e-05, Adjusted Learning Rate: 5e-05\n",
      "329/329 [==============================] - 48s 146ms/step - loss: 0.3841 - categorical_accuracy: 0.8733 - top_2_accuracy: 0.9622 - top_3_accuracy: 0.9907 - val_loss: 1.3161 - val_categorical_accuracy: 0.6522 - val_top_2_accuracy: 0.8017 - val_top_3_accuracy: 0.8885\n",
      "Epoch 12/50\n",
      "Current Learning Rate: 4.999999873689376e-05, Adjusted Learning Rate: 5e-05\n",
      "329/329 [==============================] - 48s 146ms/step - loss: 0.3102 - categorical_accuracy: 0.8922 - top_2_accuracy: 0.9739 - top_3_accuracy: 0.9934 - val_loss: 1.3120 - val_categorical_accuracy: 0.6829 - val_top_2_accuracy: 0.8228 - val_top_3_accuracy: 0.8982\n",
      "Epoch 13/50\n",
      "Current Learning Rate: 4.999999873689376e-05, Adjusted Learning Rate: 5e-05\n",
      "329/329 [==============================] - 48s 146ms/step - loss: 0.2669 - categorical_accuracy: 0.9091 - top_2_accuracy: 0.9782 - top_3_accuracy: 0.9950 - val_loss: 1.5616 - val_categorical_accuracy: 0.6211 - val_top_2_accuracy: 0.8002 - val_top_3_accuracy: 0.8797\n",
      "Epoch 14/50\n",
      "Current Learning Rate: 4.999999873689376e-05, Adjusted Learning Rate: 5e-05\n",
      "329/329 [==============================] - 48s 145ms/step - loss: 0.2382 - categorical_accuracy: 0.9170 - top_2_accuracy: 0.9808 - top_3_accuracy: 0.9961 - val_loss: 1.5170 - val_categorical_accuracy: 0.6764 - val_top_2_accuracy: 0.8274 - val_top_3_accuracy: 0.9020\n",
      "Epoch 15/50\n",
      "Current Learning Rate: 4.999999873689376e-05, Adjusted Learning Rate: 5e-05\n",
      "329/329 [==============================] - 48s 146ms/step - loss: 0.2297 - categorical_accuracy: 0.9199 - top_2_accuracy: 0.9818 - top_3_accuracy: 0.9965 - val_loss: 1.3528 - val_categorical_accuracy: 0.6672 - val_top_2_accuracy: 0.8171 - val_top_3_accuracy: 0.8943\n",
      "Epoch 16/50\n",
      "Current Learning Rate: 4.999999873689376e-05, Adjusted Learning Rate: 5e-05\n",
      "329/329 [==============================] - 49s 148ms/step - loss: 0.2020 - categorical_accuracy: 0.9291 - top_2_accuracy: 0.9854 - top_3_accuracy: 0.9973 - val_loss: 1.5761 - val_categorical_accuracy: 0.6695 - val_top_2_accuracy: 0.8136 - val_top_3_accuracy: 0.9001\n",
      "Epoch 17/50\n",
      "Current Learning Rate: 4.999999873689376e-05, Adjusted Learning Rate: 5e-05\n",
      "329/329 [==============================] - 48s 146ms/step - loss: 0.1718 - categorical_accuracy: 0.9390 - top_2_accuracy: 0.9900 - top_3_accuracy: 0.9980 - val_loss: 1.6669 - val_categorical_accuracy: 0.6322 - val_top_2_accuracy: 0.7936 - val_top_3_accuracy: 0.8786\n",
      "Epoch 18/50\n",
      "Current Learning Rate: 4.999999873689376e-05, Adjusted Learning Rate: 5e-05\n",
      "329/329 [==============================] - 48s 146ms/step - loss: 0.1636 - categorical_accuracy: 0.9434 - top_2_accuracy: 0.9910 - top_3_accuracy: 0.9988 - val_loss: 1.5810 - val_categorical_accuracy: 0.6457 - val_top_2_accuracy: 0.8109 - val_top_3_accuracy: 0.8878\n",
      "Epoch 19/50\n",
      "Current Learning Rate: 4.999999873689376e-05, Adjusted Learning Rate: 5e-05\n",
      "329/329 [==============================] - 48s 147ms/step - loss: 0.1723 - categorical_accuracy: 0.9429 - top_2_accuracy: 0.9898 - top_3_accuracy: 0.9976 - val_loss: 1.7089 - val_categorical_accuracy: 0.6499 - val_top_2_accuracy: 0.7971 - val_top_3_accuracy: 0.8774\n",
      "Epoch 20/50\n",
      "Current Learning Rate: 4.999999873689376e-05, Adjusted Learning Rate: 5e-05\n",
      "329/329 [==============================] - 48s 146ms/step - loss: 0.1511 - categorical_accuracy: 0.9490 - top_2_accuracy: 0.9923 - top_3_accuracy: 0.9985 - val_loss: 1.9403 - val_categorical_accuracy: 0.6184 - val_top_2_accuracy: 0.7959 - val_top_3_accuracy: 0.8812\n",
      "Epoch 21/50\n",
      "Current Learning Rate: 4.999999873689376e-05, Adjusted Learning Rate: 5e-05\n",
      "329/329 [==============================] - 48s 146ms/step - loss: 0.1426 - categorical_accuracy: 0.9533 - top_2_accuracy: 0.9933 - top_3_accuracy: 0.9981 - val_loss: 1.7914 - val_categorical_accuracy: 0.6480 - val_top_2_accuracy: 0.7998 - val_top_3_accuracy: 0.8782\n",
      "Epoch 22/50\n",
      "Current Learning Rate: 4.999999873689376e-05, Adjusted Learning Rate: 5e-05\n",
      "329/329 [==============================] - 48s 146ms/step - loss: 0.1332 - categorical_accuracy: 0.9559 - top_2_accuracy: 0.9923 - top_3_accuracy: 0.9981 - val_loss: 1.6788 - val_categorical_accuracy: 0.6418 - val_top_2_accuracy: 0.8078 - val_top_3_accuracy: 0.8932\n",
      "Epoch 23/50\n",
      "Current Learning Rate: 4.999999873689376e-05, Adjusted Learning Rate: 5e-05\n",
      "329/329 [==============================] - 49s 148ms/step - loss: 0.1148 - categorical_accuracy: 0.9622 - top_2_accuracy: 0.9929 - top_3_accuracy: 0.9986 - val_loss: 1.9524 - val_categorical_accuracy: 0.6499 - val_top_2_accuracy: 0.8028 - val_top_3_accuracy: 0.8759\n",
      "Epoch 24/50\n",
      "Current Learning Rate: 4.999999873689376e-05, Adjusted Learning Rate: 5e-05\n",
      "329/329 [==============================] - 48s 145ms/step - loss: 0.1167 - categorical_accuracy: 0.9589 - top_2_accuracy: 0.9942 - top_3_accuracy: 0.9990 - val_loss: 1.9026 - val_categorical_accuracy: 0.6814 - val_top_2_accuracy: 0.8259 - val_top_3_accuracy: 0.9078\n",
      "Epoch 25/50\n",
      "Current Learning Rate: 4.999999873689376e-05, Adjusted Learning Rate: 5e-05\n",
      "329/329 [==============================] - 48s 147ms/step - loss: 0.0945 - categorical_accuracy: 0.9680 - top_2_accuracy: 0.9953 - top_3_accuracy: 0.9990 - val_loss: 2.0050 - val_categorical_accuracy: 0.6226 - val_top_2_accuracy: 0.7809 - val_top_3_accuracy: 0.8701\n",
      "Epoch 26/50\n",
      "Current Learning Rate: 4.999999873689376e-05, Adjusted Learning Rate: 2.5e-05\n",
      "329/329 [==============================] - 48s 146ms/step - loss: 0.0777 - categorical_accuracy: 0.9741 - top_2_accuracy: 0.9970 - top_3_accuracy: 0.9996 - val_loss: 1.8264 - val_categorical_accuracy: 0.6683 - val_top_2_accuracy: 0.8224 - val_top_3_accuracy: 0.8993\n",
      "Epoch 27/50\n",
      "Current Learning Rate: 2.499999936844688e-05, Adjusted Learning Rate: 2.5e-05\n",
      "329/329 [==============================] - 49s 148ms/step - loss: 0.0680 - categorical_accuracy: 0.9765 - top_2_accuracy: 0.9971 - top_3_accuracy: 0.9998 - val_loss: 1.8101 - val_categorical_accuracy: 0.6630 - val_top_2_accuracy: 0.8071 - val_top_3_accuracy: 0.8855\n",
      "Epoch 28/50\n",
      "Current Learning Rate: 2.499999936844688e-05, Adjusted Learning Rate: 2.5e-05\n",
      "329/329 [==============================] - 49s 147ms/step - loss: 0.0639 - categorical_accuracy: 0.9788 - top_2_accuracy: 0.9973 - top_3_accuracy: 0.9994 - val_loss: 1.9990 - val_categorical_accuracy: 0.6368 - val_top_2_accuracy: 0.8036 - val_top_3_accuracy: 0.8905\n",
      "Epoch 29/50\n",
      "Current Learning Rate: 2.499999936844688e-05, Adjusted Learning Rate: 2.5e-05\n",
      "329/329 [==============================] - 49s 148ms/step - loss: 0.0703 - categorical_accuracy: 0.9757 - top_2_accuracy: 0.9972 - top_3_accuracy: 0.9995 - val_loss: 1.8358 - val_categorical_accuracy: 0.6664 - val_top_2_accuracy: 0.8174 - val_top_3_accuracy: 0.8932\n",
      "Epoch 30/50\n",
      "Current Learning Rate: 2.499999936844688e-05, Adjusted Learning Rate: 2.5e-05\n",
      "329/329 [==============================] - 48s 147ms/step - loss: 0.0597 - categorical_accuracy: 0.9787 - top_2_accuracy: 0.9973 - top_3_accuracy: 0.9993 - val_loss: 1.7784 - val_categorical_accuracy: 0.6679 - val_top_2_accuracy: 0.8128 - val_top_3_accuracy: 0.8828\n",
      "Epoch 31/50\n",
      "Current Learning Rate: 2.499999936844688e-05, Adjusted Learning Rate: 2.5e-05\n",
      "329/329 [==============================] - 49s 148ms/step - loss: 0.0504 - categorical_accuracy: 0.9846 - top_2_accuracy: 0.9979 - top_3_accuracy: 0.9995 - val_loss: 1.9460 - val_categorical_accuracy: 0.6703 - val_top_2_accuracy: 0.8240 - val_top_3_accuracy: 0.8997\n",
      "Epoch 32/50\n",
      "Current Learning Rate: 2.499999936844688e-05, Adjusted Learning Rate: 2.5e-05\n",
      "329/329 [==============================] - 48s 147ms/step - loss: 0.0565 - categorical_accuracy: 0.9818 - top_2_accuracy: 0.9982 - top_3_accuracy: 0.9999 - val_loss: 1.9030 - val_categorical_accuracy: 0.6802 - val_top_2_accuracy: 0.8263 - val_top_3_accuracy: 0.8935\n",
      "Epoch 33/50\n",
      "Current Learning Rate: 2.499999936844688e-05, Adjusted Learning Rate: 2.5e-05\n",
      "329/329 [==============================] - 49s 148ms/step - loss: 0.0415 - categorical_accuracy: 0.9865 - top_2_accuracy: 0.9988 - top_3_accuracy: 0.9999 - val_loss: 1.9712 - val_categorical_accuracy: 0.6679 - val_top_2_accuracy: 0.8248 - val_top_3_accuracy: 0.8947\n",
      "Epoch 34/50\n",
      "Current Learning Rate: 2.499999936844688e-05, Adjusted Learning Rate: 2.5e-05\n",
      "329/329 [==============================] - 48s 146ms/step - loss: 0.0433 - categorical_accuracy: 0.9851 - top_2_accuracy: 0.9991 - top_3_accuracy: 0.9998 - val_loss: 2.2752 - val_categorical_accuracy: 0.6261 - val_top_2_accuracy: 0.7905 - val_top_3_accuracy: 0.8724\n",
      "Epoch 35/50\n",
      "Current Learning Rate: 2.499999936844688e-05, Adjusted Learning Rate: 2.5e-05\n",
      "329/329 [==============================] - 48s 147ms/step - loss: 0.0487 - categorical_accuracy: 0.9845 - top_2_accuracy: 0.9975 - top_3_accuracy: 0.9999 - val_loss: 1.9024 - val_categorical_accuracy: 0.6849 - val_top_2_accuracy: 0.8255 - val_top_3_accuracy: 0.8962\n",
      "Epoch 36/50\n",
      "Current Learning Rate: 2.499999936844688e-05, Adjusted Learning Rate: 1e-05\n",
      "329/329 [==============================] - 48s 145ms/step - loss: 0.0348 - categorical_accuracy: 0.9884 - top_2_accuracy: 0.9985 - top_3_accuracy: 1.0000 - val_loss: 2.0266 - val_categorical_accuracy: 0.6422 - val_top_2_accuracy: 0.8067 - val_top_3_accuracy: 0.8897\n",
      "Epoch 37/50\n",
      "Current Learning Rate: 9.999999747378752e-06, Adjusted Learning Rate: 1e-05\n",
      "329/329 [==============================] - 48s 146ms/step - loss: 0.0343 - categorical_accuracy: 0.9887 - top_2_accuracy: 0.9988 - top_3_accuracy: 0.9998 - val_loss: 1.9665 - val_categorical_accuracy: 0.6660 - val_top_2_accuracy: 0.8171 - val_top_3_accuracy: 0.8905\n",
      "Epoch 38/50\n",
      "Current Learning Rate: 9.999999747378752e-06, Adjusted Learning Rate: 1e-05\n",
      "329/329 [==============================] - 48s 146ms/step - loss: 0.0332 - categorical_accuracy: 0.9901 - top_2_accuracy: 0.9988 - top_3_accuracy: 0.9997 - val_loss: 1.9808 - val_categorical_accuracy: 0.6564 - val_top_2_accuracy: 0.8224 - val_top_3_accuracy: 0.8912\n",
      "Epoch 39/50\n",
      "Current Learning Rate: 9.999999747378752e-06, Adjusted Learning Rate: 1e-05\n",
      "329/329 [==============================] - 48s 147ms/step - loss: 0.0308 - categorical_accuracy: 0.9896 - top_2_accuracy: 0.9993 - top_3_accuracy: 0.9998 - val_loss: 1.8352 - val_categorical_accuracy: 0.6972 - val_top_2_accuracy: 0.8297 - val_top_3_accuracy: 0.8974\n",
      "Epoch 40/50\n",
      "Current Learning Rate: 9.999999747378752e-06, Adjusted Learning Rate: 1e-05\n",
      "329/329 [==============================] - 48s 147ms/step - loss: 0.0305 - categorical_accuracy: 0.9903 - top_2_accuracy: 0.9994 - top_3_accuracy: 0.9999 - val_loss: 2.0437 - val_categorical_accuracy: 0.6606 - val_top_2_accuracy: 0.8117 - val_top_3_accuracy: 0.8885\n",
      "Epoch 41/50\n",
      "Current Learning Rate: 9.999999747378752e-06, Adjusted Learning Rate: 1e-05\n",
      "329/329 [==============================] - 49s 148ms/step - loss: 0.0273 - categorical_accuracy: 0.9912 - top_2_accuracy: 0.9991 - top_3_accuracy: 0.9999 - val_loss: 2.1831 - val_categorical_accuracy: 0.6556 - val_top_2_accuracy: 0.8155 - val_top_3_accuracy: 0.8870\n",
      "Epoch 42/50\n",
      "Current Learning Rate: 9.999999747378752e-06, Adjusted Learning Rate: 1e-05\n",
      "329/329 [==============================] - 48s 147ms/step - loss: 0.0247 - categorical_accuracy: 0.9925 - top_2_accuracy: 0.9991 - top_3_accuracy: 1.0000 - val_loss: 2.0171 - val_categorical_accuracy: 0.6726 - val_top_2_accuracy: 0.8224 - val_top_3_accuracy: 0.8974\n",
      "Epoch 43/50\n",
      "Current Learning Rate: 9.999999747378752e-06, Adjusted Learning Rate: 1e-05\n",
      "329/329 [==============================] - 49s 148ms/step - loss: 0.0337 - categorical_accuracy: 0.9894 - top_2_accuracy: 0.9990 - top_3_accuracy: 0.9999 - val_loss: 2.1071 - val_categorical_accuracy: 0.6541 - val_top_2_accuracy: 0.8125 - val_top_3_accuracy: 0.8832\n",
      "Epoch 44/50\n",
      "Current Learning Rate: 9.999999747378752e-06, Adjusted Learning Rate: 1e-05\n",
      "329/329 [==============================] - 48s 147ms/step - loss: 0.0271 - categorical_accuracy: 0.9915 - top_2_accuracy: 0.9993 - top_3_accuracy: 0.9999 - val_loss: 2.1509 - val_categorical_accuracy: 0.6714 - val_top_2_accuracy: 0.8128 - val_top_3_accuracy: 0.8859\n",
      "Epoch 45/50\n",
      "Current Learning Rate: 9.999999747378752e-06, Adjusted Learning Rate: 1e-05\n",
      "329/329 [==============================] - 49s 148ms/step - loss: 0.0237 - categorical_accuracy: 0.9924 - top_2_accuracy: 0.9993 - top_3_accuracy: 1.0000 - val_loss: 2.0556 - val_categorical_accuracy: 0.6779 - val_top_2_accuracy: 0.8278 - val_top_3_accuracy: 0.8989\n",
      "Epoch 46/50\n",
      "Current Learning Rate: 9.999999747378752e-06, Adjusted Learning Rate: 1e-05\n",
      "329/329 [==============================] - 49s 148ms/step - loss: 0.0210 - categorical_accuracy: 0.9926 - top_2_accuracy: 0.9991 - top_3_accuracy: 1.0000 - val_loss: 2.2244 - val_categorical_accuracy: 0.6726 - val_top_2_accuracy: 0.8094 - val_top_3_accuracy: 0.8859\n",
      "Epoch 47/50\n",
      "Current Learning Rate: 9.999999747378752e-06, Adjusted Learning Rate: 1e-05\n",
      "329/329 [==============================] - 48s 147ms/step - loss: 0.0271 - categorical_accuracy: 0.9920 - top_2_accuracy: 0.9993 - top_3_accuracy: 1.0000 - val_loss: 2.1119 - val_categorical_accuracy: 0.6722 - val_top_2_accuracy: 0.8263 - val_top_3_accuracy: 0.8970\n",
      "Epoch 48/50\n",
      "Current Learning Rate: 9.999999747378752e-06, Adjusted Learning Rate: 1e-05\n",
      "329/329 [==============================] - 49s 148ms/step - loss: 0.0239 - categorical_accuracy: 0.9915 - top_2_accuracy: 0.9994 - top_3_accuracy: 0.9999 - val_loss: 2.2200 - val_categorical_accuracy: 0.6714 - val_top_2_accuracy: 0.8163 - val_top_3_accuracy: 0.8943\n",
      "Epoch 49/50\n",
      "Current Learning Rate: 9.999999747378752e-06, Adjusted Learning Rate: 1e-05\n",
      "329/329 [==============================] - 48s 147ms/step - loss: 0.0255 - categorical_accuracy: 0.9930 - top_2_accuracy: 0.9997 - top_3_accuracy: 0.9999 - val_loss: 2.1949 - val_categorical_accuracy: 0.6499 - val_top_2_accuracy: 0.8117 - val_top_3_accuracy: 0.8932\n",
      "Epoch 50/50\n",
      "Current Learning Rate: 9.999999747378752e-06, Adjusted Learning Rate: 1e-05\n",
      "329/329 [==============================] - 49s 147ms/step - loss: 0.0196 - categorical_accuracy: 0.9945 - top_2_accuracy: 0.9995 - top_3_accuracy: 1.0000 - val_loss: 2.0829 - val_categorical_accuracy: 0.6676 - val_top_2_accuracy: 0.8194 - val_top_3_accuracy: 0.8920\n"
     ]
    }
   ],
   "source": [
    "model_ret, history_ret = train()"
   ]
  },
  {
   "cell_type": "code",
   "execution_count": 21,
   "metadata": {},
   "outputs": [
    {
     "data": {
      "image/png": "[encoded data removed]",
      "text/plain": [
       "<Figure size 432x288 with 1 Axes>"
      ]
     },
     "metadata": {
      "needs_background": "light"
     },
     "output_type": "display_data"
    }
   ],
   "source": [
    "# PLOTTING\n",
    "import matplotlib.pyplot as plt\n",
    "%matplotlib inline\n",
    "\n",
    "# plot the loss\n",
    "plt.plot(history_ret.history['loss'])\n",
    "plt.plot(history_ret.history['val_loss'])\n",
    "plt.title('model loss')\n",
    "plt.ylabel('loss')\n",
    "plt.xlabel('epoch')\n",
    "plt.legend(['train', 'test'], loc='upper left')\n",
    "plt.show()"
   ]
  },
  {
   "cell_type": "code",
   "execution_count": 22,
   "metadata": {},
   "outputs": [],
   "source": [
    "## PREDICTION\n",
    "from sklearn.preprocessing import LabelEncoder, LabelBinarizer\n",
    "from keras.applications import imagenet_utils\n",
    "from keras.preprocessing.image import img_to_array, load_img\n",
    "from imutils import paths\n",
    "from sklearn.metrics import confusion_matrix, classification_report, accuracy_score"
   ]
  },
  {
   "cell_type": "code",
   "execution_count": 23,
   "metadata": {},
   "outputs": [
    {
     "name": "stdout",
     "output_type": "stream",
     "text": [
      "Found 1064 images belonging to 7 classes.\n",
      "{'akiec': 0, 'bcc': 1, 'bkl': 2, 'df': 3, 'mel': 4, 'nv': 5, 'vasc': 6}\n"
     ]
    }
   ],
   "source": [
    "# method-1\n",
    "def load_test_data(directory):\n",
    "    data = []\n",
    "    labels = []\n",
    "    image_paths = list(paths.list_images(directory))\n",
    "    for i, image_path in enumerate(image_paths):\n",
    "        # read\n",
    "        image = cv2.cvtColor(cv2.imread(image_path), cv2.COLOR_BGR2RGB)\n",
    "        # keras format\n",
    "        image = img_to_array(image, data_format=\"channels_last\")\n",
    "        label = image_path.split(os.path.sep)[-2]\n",
    "        # append\n",
    "        data.append(image)\n",
    "        labels.append(label)\n",
    "    # conversions\n",
    "    data = np.array(data)\n",
    "    data = data.astype(\"float\")\n",
    "    return data, np.array(labels)\n",
    "\n",
    "# easy generator method\n",
    "data_generator = ImageDataGenerator(rescale=1./255)\n",
    "\n",
    "test_generator = data_generator.flow_from_directory(\n",
    "    directory=\"ham_labled/test/\",\n",
    "    target_size=(IM_WIDTH, IM_HEIGHT),\n",
    "    shuffle=False,\n",
    "    color_mode=\"rgb\",\n",
    "    class_mode=\"categorical\",\n",
    "    batch_size=1\n",
    ")\n",
    "print(test_generator.class_indices)"
   ]
  },
  {
   "cell_type": "code",
   "execution_count": 24,
   "metadata": {},
   "outputs": [
    {
     "name": "stdout",
     "output_type": "stream",
     "text": [
      "val_loss: 2.757934154265894\n",
      "val_cat_acc: 0.5695488721804511\n",
      "val_top_2_acc: 0.7810150375939849\n",
      "val_top_3_acc: 0.8872180451127819\n"
     ]
    }
   ],
   "source": [
    "test_loss, test_cat_acc, test_top_2_acc, test_top_3_acc = model_ret.evaluate_generator(test_generator, steps=test_generator.samples)\n",
    "\n",
    "print('val_loss:', test_loss)\n",
    "print('val_cat_acc:', test_cat_acc)\n",
    "print('val_top_2_acc:', test_top_2_acc)\n",
    "print('val_top_3_acc:', test_top_3_acc)"
   ]
  },
  {
   "cell_type": "code",
   "execution_count": 25,
   "metadata": {},
   "outputs": [
    {
     "name": "stdout",
     "output_type": "stream",
     "text": [
      "1064/1064 [==============================] - 7s 7ms/step\n",
      "(1064, 7)\n"
     ]
    }
   ],
   "source": [
    "# PREDICT\n",
    "predictions = model_ret.predict_generator(test_generator, steps=test_generator.samples, verbose=1)\n",
    "print(predictions.shape)\n",
    "y_pred = np.argmax(predictions, axis=1)\n",
    "y_test = test_generator.classes"
   ]
  },
  {
   "cell_type": "code",
   "execution_count": 26,
   "metadata": {},
   "outputs": [
    {
     "name": "stdout",
     "output_type": "stream",
     "text": [
      "              precision    recall  f1-score   support\n",
      "\n",
      "       akiec       0.41      0.36      0.38        66\n",
      "         bcc       0.54      0.20      0.30       103\n",
      "         bkl       0.46      0.51      0.48       220\n",
      "          df       0.00      0.00      0.00        23\n",
      "         mel       0.42      0.45      0.44       223\n",
      "          nv       0.68      0.76      0.72       400\n",
      "        vasc       0.44      0.38      0.41        29\n",
      "\n",
      "   micro avg       0.54      0.54      0.54      1064\n",
      "   macro avg       0.42      0.38      0.39      1064\n",
      "weighted avg       0.53      0.54      0.52      1064\n",
      "\n"
     ]
    }
   ],
   "source": [
    "report = classification_report(y_test, y_pred, target_names=['akiec', 'bcc', 'bkl', 'df', 'mel','nv', 'vasc'])\n",
    "print(report)"
   ]
  },
  {
   "cell_type": "code",
   "execution_count": null,
   "metadata": {},
   "outputs": [],
   "source": [
    "import seaborn as sns\n",
    "from sklearn.metrics import confusion_matrix\n",
    "sns.heatmap(\n",
    "    confusion_matrix(y_test, y_pred), \n",
    "    annot=True, \n",
    "    fmt=\"d\", \n",
    "    cbar = False, \n",
    "    cmap = plt.cm.Blues\n",
    ")"
   ]
  },
  {
   "cell_type": "code",
   "execution_count": null,
   "metadata": {},
   "outputs": [],
   "source": []
  },
  {
   "cell_type": "code",
   "execution_count": null,
   "metadata": {},
   "outputs": [],
   "source": []
  },
  {
   "cell_type": "code",
   "execution_count": null,
   "metadata": {},
   "outputs": [],
   "source": []
  }
 ],
 "metadata": {
  "kernelspec": {
   "display_name": "Python 3",
   "language": "python",
   "name": "python3"
  },
  "language_info": {
   "codemirror_mode": {
    "name": "ipython",
    "version": 3
   },
   "file_extension": ".py",
   "mimetype": "text/x-python",
   "name": "python",
   "nbconvert_exporter": "python",
   "pygments_lexer": "ipython3",
   "version": "3.6.5"
  }
 },
 "nbformat": 4,
 "nbformat_minor": 2
}
